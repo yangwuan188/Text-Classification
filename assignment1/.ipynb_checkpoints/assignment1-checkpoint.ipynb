{
 "cells": [
  {
   "cell_type": "markdown",
   "metadata": {},
   "source": [
    "# [COM4513-6513] Assignment 1: Text Classification with Logistic Regression\n",
    "\n",
    "### Instructor: Nikos Aletras\n",
    "\n",
    "\n",
    "The goal of this assignment is to develop and test two text classification systems: \n",
    "\n",
    "- **Task 1:** sentiment analysis, in particular to predict the sentiment of movie review, i.e. positive or negative (binary classification).\n",
    "- **Task 2:** topic classification, to predict whether a news article is about International issues, Sports or Business (multiclass classification).\n",
    "\n",
    "\n",
    "For that purpose, you will implement:\n",
    "\n",
    "- Text processing methods for extracting Bag-Of-Word features, using (1) unigrams, bigrams and trigrams to obtain vector representations of documents. Two vector weighting schemes should be tested: (1) raw frequencies (**3 marks; 1 for each ngram type**); (2) tf.idf (**1 marks**). \n",
    "- Binary Logistic Regression classifiers that will be able to accurately classify movie reviews trained with (1) BOW-count (raw frequencies); and (2) BOW-tfidf (tf.idf weighted) for Task 1. \n",
    "- Multiclass Logistic Regression classifiers that will be able to accurately classify news articles trained with (1) BOW-count (raw frequencies); and (2) BOW-tfidf (tf.idf weighted) for Task 2. \n",
    "- The Stochastic Gradient Descent (SGD) algorithm to estimate the parameters of your Logistic Regression models. Your SGD algorithm should:\n",
    "    - Minimise the Binary Cross-entropy loss function for Task 1 (**3 marks**)\n",
    "    - Minimise the Categorical Cross-entropy loss function for Task 2 (**3 marks**)\n",
    "    - Use L2 regularisation (both tasks) (**1 mark**)\n",
    "    - Perform multiple passes (epochs) over the training data (**1 mark**)\n",
    "    - Randomise the order of training data after each pass (**1 mark**)\n",
    "    - Stop training if the difference between the current and previous validation loss is smaller than a threshold (**1 mark**)\n",
    "    - After each epoch print the training and development loss (**1 mark**)\n",
    "- Discuss how did you choose hyperparameters (e.g. learning rate and regularisation strength)?  (**2 marks; 0.5 for each model in each task**).\n",
    "- After training the LR models, plot the learning process (i.e. training and validation loss in each epoch) using a line plot (**1 mark; 0.5 for both BOW-count and BOW-tfidf LR models in each task**) and discuss if your model overfits/underfits/is about right.\n",
    "- Model interpretability by showing the most important features for each class (i.e. most positive/negative weights). Give the top 10 for each class and comment on whether they make sense (if they don't you might have a bug!).  If we were to apply the classifier we've learned into a different domain such laptop reviews or restaurant reviews, do you think these features would generalise well? Can you propose what features the classifier could pick up as important in the new domain? (**2 marks; 0.5 for BOW-count and BOW-tfidf LR models respectively in each task**)\n",
    "\n",
    "\n",
    "### Data - Task 1 \n",
    "\n",
    "The data you will use for Task 1 are taken from here: [http://www.cs.cornell.edu/people/pabo/movie-review-data/](http://www.cs.cornell.edu/people/pabo/movie-review-data/) and you can find it in the `./data_sentiment` folder in CSV format:\n",
    "\n",
    "- `data_sentiment/train.csv`: contains 1,400 reviews, 700 positive (label: 1) and 700 negative (label: 0) to be used for training.\n",
    "- `data_sentiment/dev.csv`: contains 200 reviews, 100 positive and 100 negative to be used for hyperparameter selection and monitoring the training process.\n",
    "- `data_sentiment/test.csv`: contains 400 reviews, 200 positive and 200 negative to be used for testing.\n",
    "\n",
    "### Data - Task 2\n",
    "\n",
    "The data you will use for Task 2 is a subset of the [AG News Corpus](http://groups.di.unipi.it/~gulli/AG_corpus_of_news_articles.html) and you can find it in the `./data_topic` folder in CSV format:\n",
    "\n",
    "- `data_topic/train.csv`: contains 2,400 news articles, 800 for each class to be used for training.\n",
    "- `data_topic/dev.csv`: contains 150 news articles, 50 for each class to be used for hyperparameter selection and monitoring the training process.\n",
    "- `data_topic/test.csv`: contains 900 news articles, 300 for each class to be used for testing.\n",
    "\n",
    "\n",
    "### Submission Instructions\n",
    "\n",
    "You should submit a Jupyter Notebook file (assignment1.ipynb) and an exported PDF version (you can do it from Jupyter: `File->Download as->PDF via Latex`).\n",
    "\n",
    "You are advised to follow the code structure given in this notebook by completing all given funtions. You can also write any auxilliary/helper functions (and arguments for the functions) that you might need but note that you can provide a full solution without any such functions. Similarly, you can just use only the packages imported below but you are free to use any functionality from the [Python Standard Library](https://docs.python.org/2/library/index.html), NumPy, SciPy and Pandas. You are not allowed to use any third-party library such as Scikit-learn (apart from metric functions already provided), NLTK, Spacy, Keras etc..\n",
    "\n",
    "Please make sure to comment your code. You should also mention if you've used Windows (not recommended) to write and test your code. There is no single correct answer on what your accuracy should be, but correct implementations usually achieve F1-scores around 80\\% or higher. The quality of the analysis of the results is as important as the accuracy itself. \n",
    "\n",
    "This assignment will be marked out of 20. It is worth 20\\% of your final grade in the module.\n",
    "\n",
    "The deadline for this assignment is **23:59 on Fri, 20 Mar 2020** and it needs to be submitted via MOLE. Standard departmental penalties for lateness will be applied. We use a range of strategies to detect [unfair means](https://www.sheffield.ac.uk/ssid/unfair-means/index), including Turnitin which helps detect plagiarism, so make sure you do not plagiarise.\n",
    "\n"
   ]
  },
  {
   "cell_type": "code",
   "execution_count": 248,
   "metadata": {
    "ExecuteTime": {
     "end_time": "2020-02-15T14:31:36.292691Z",
     "start_time": "2020-02-15T14:31:35.549108Z"
    }
   },
   "outputs": [],
   "source": [
    "import pandas as pd\n",
    "import numpy as np\n",
    "from collections import Counter\n",
    "import re\n",
    "import matplotlib.pyplot as plt\n",
    "from sklearn.metrics import accuracy_score, precision_score, recall_score, f1_score\n",
    "import random\n",
    "\n",
    "# fixing random seed for reproducibility\n",
    "random.seed(123)\n",
    "np.random.seed(123)\n"
   ]
  },
  {
   "cell_type": "markdown",
   "metadata": {},
   "source": [
    "## Load Raw texts and labels into arrays\n",
    "\n",
    "First, you need to load the training, development and test sets from their corresponding CSV files (tip: you can use Pandas dataframes)."
   ]
  },
  {
   "cell_type": "code",
   "execution_count": 249,
   "metadata": {
    "ExecuteTime": {
     "end_time": "2020-02-15T14:17:28.145788Z",
     "start_time": "2020-02-15T14:17:28.066100Z"
    }
   },
   "outputs": [],
   "source": [
    "# fill in your code...\n",
    "data_tr = pd.read_csv('./data_sentiment/train.csv',header=None,names=['text','label'])\n",
    "data_te = pd.read_csv('./data_sentiment/test.csv',header=None,names=['text','label'])\n",
    "data_de = pd.read_csv('./data_sentiment/dev.csv',header=None,names=['text','label'])"
   ]
  },
  {
   "cell_type": "markdown",
   "metadata": {},
   "source": [
    "If you use Pandas you can see a sample of the data."
   ]
  },
  {
   "cell_type": "code",
   "execution_count": 250,
   "metadata": {
    "ExecuteTime": {
     "end_time": "2020-02-15T14:17:28.900892Z",
     "start_time": "2020-02-15T14:17:28.891221Z"
    }
   },
   "outputs": [
    {
     "data": {
      "text/html": [
       "<div>\n",
       "<style scoped>\n",
       "    .dataframe tbody tr th:only-of-type {\n",
       "        vertical-align: middle;\n",
       "    }\n",
       "\n",
       "    .dataframe tbody tr th {\n",
       "        vertical-align: top;\n",
       "    }\n",
       "\n",
       "    .dataframe thead th {\n",
       "        text-align: right;\n",
       "    }\n",
       "</style>\n",
       "<table border=\"1\" class=\"dataframe\">\n",
       "  <thead>\n",
       "    <tr style=\"text-align: right;\">\n",
       "      <th></th>\n",
       "      <th>text</th>\n",
       "      <th>label</th>\n",
       "    </tr>\n",
       "  </thead>\n",
       "  <tbody>\n",
       "    <tr>\n",
       "      <th>0</th>\n",
       "      <td>note : some may consider portions of the follo...</td>\n",
       "      <td>1</td>\n",
       "    </tr>\n",
       "    <tr>\n",
       "      <th>1</th>\n",
       "      <td>note : some may consider portions of the follo...</td>\n",
       "      <td>1</td>\n",
       "    </tr>\n",
       "    <tr>\n",
       "      <th>2</th>\n",
       "      <td>every once in a while you see a film that is s...</td>\n",
       "      <td>1</td>\n",
       "    </tr>\n",
       "    <tr>\n",
       "      <th>3</th>\n",
       "      <td>when i was growing up in 1970s , boys in my sc...</td>\n",
       "      <td>1</td>\n",
       "    </tr>\n",
       "    <tr>\n",
       "      <th>4</th>\n",
       "      <td>the muppet movie is the first , and the best m...</td>\n",
       "      <td>1</td>\n",
       "    </tr>\n",
       "  </tbody>\n",
       "</table>\n",
       "</div>"
      ],
      "text/plain": [
       "                                                text  label\n",
       "0  note : some may consider portions of the follo...      1\n",
       "1  note : some may consider portions of the follo...      1\n",
       "2  every once in a while you see a film that is s...      1\n",
       "3  when i was growing up in 1970s , boys in my sc...      1\n",
       "4  the muppet movie is the first , and the best m...      1"
      ]
     },
     "execution_count": 250,
     "metadata": {},
     "output_type": "execute_result"
    }
   ],
   "source": [
    "data_tr.head()\n",
    "#data_te.head()\n",
    "#data_de.head()"
   ]
  },
  {
   "cell_type": "markdown",
   "metadata": {},
   "source": [
    "The next step is to put the raw texts into Python lists and their corresponding labels into NumPy arrays:\n"
   ]
  },
  {
   "cell_type": "code",
   "execution_count": 251,
   "metadata": {
    "ExecuteTime": {
     "end_time": "2020-02-15T14:17:31.115577Z",
     "start_time": "2020-02-15T14:17:31.108038Z"
    }
   },
   "outputs": [],
   "source": [
    "# fill in your code...\n",
    "#train data transformation\n",
    "X_tr_raw = data_tr['text'].tolist()\n",
    "Y_tr = np.array(data_tr['label'])\n",
    "#test data transformatino\n",
    "X_te_raw = data_te['text'].tolist()\n",
    "Y_te = np.array(data_te['label'])\n",
    "#development data transformatino\n",
    "X_de_raw = data_de['text'].tolist()\n",
    "Y_de = np.array(data_de['label'])"
   ]
  },
  {
   "cell_type": "markdown",
   "metadata": {},
   "source": [
    "# Bag-of-Words Representation \n",
    "\n",
    "\n",
    "To train and test Logisitc Regression models, you first need to obtain vector representations for all documents given a vocabulary of features (unigrams, bigrams, trigrams).\n",
    "\n",
    "\n",
    "## Text Pre-Processing Pipeline\n",
    "\n",
    "To obtain a vocabulary of features, you should: \n",
    "- tokenise all texts into a list of unigrams (tip: using a regular expression) \n",
    "- remove stop words (using the one provided or one of your preference) \n",
    "- compute bigrams, trigrams given the remaining unigrams\n",
    "- remove ngrams appearing in less than K documents\n",
    "- use the remaining to create a vocabulary of unigrams, bigrams and trigrams (you can keep top N if you encounter memory issues).\n"
   ]
  },
  {
   "cell_type": "code",
   "execution_count": 252,
   "metadata": {
    "ExecuteTime": {
     "end_time": "2020-02-15T14:17:31.860420Z",
     "start_time": "2020-02-15T14:17:31.855439Z"
    }
   },
   "outputs": [],
   "source": [
    "stop_words = ['a','in','on','at','and','or', \n",
    "              'to', 'the', 'of', 'an', 'by', \n",
    "              'as', 'is', 'was', 'were', 'been', 'be', \n",
    "              'are','for', 'this', 'that', 'these', 'those', 'you', 'i',\n",
    "             'it', 'he', 'she', 'we', 'they', 'will', 'have', 'has',\n",
    "              'do', 'did', 'can', 'could', 'who', 'which', 'what', \n",
    "             'his', 'her', 'they', 'them', 'from', 'with', 'its']\n"
   ]
  },
  {
   "cell_type": "markdown",
   "metadata": {},
   "source": [
    "### N-gram extraction from a document\n",
    "\n",
    "You first need to implement the `extract_ngrams` function. It takes as input:\n",
    "- `x_raw`: a string corresponding to the raw text of a document\n",
    "- `ngram_range`: a tuple of two integers denoting the type of ngrams you want to extract, e.g. (1,2) denotes extracting unigrams and bigrams.\n",
    "- `token_pattern`: a string to be used within a regular expression to extract all tokens. Note that data is already tokenised so you could opt for a simple white space tokenisation.\n",
    "- `stop_words`: a list of stop words\n",
    "- `vocab`: a given vocabulary. It should be used to extract specific features.\n",
    "\n",
    "and returns:\n",
    "\n",
    "- a list of all extracted features.\n",
    "\n",
    "See the examples below to see how this function should work."
   ]
  },
  {
   "cell_type": "code",
   "execution_count": 253,
   "metadata": {
    "ExecuteTime": {
     "end_time": "2020-02-15T14:17:33.169090Z",
     "start_time": "2020-02-15T14:17:33.161268Z"
    }
   },
   "outputs": [],
   "source": [
    "def extract_ngrams(x_raw, ngram_range=(1,3), token_pattern=r'\\b[A-Za-z][A-Za-z]+\\b', stop_words=[], vocab=set()):\n",
    "    # fill in your code...\n",
    "    unigram = []\n",
    "    bigram = []\n",
    "    trigram = []\n",
    "    # get unigram by using regex\n",
    "    pattern = re.compile(token_pattern)\n",
    "    x_re = pattern.findall(x_raw.lower())\n",
    "    # remove stop words\n",
    "    for i in range(len(x_re)):\n",
    "        if x_re[i] not in stop_words:\n",
    "            unigram.append(x_re[i])\n",
    "    # return bigram or trigram\n",
    "    if ngram_range==(1,3):\n",
    "        for i in range(len(unigram)-1):\n",
    "            bigram.append((unigram[i],unigram[i+1]))\n",
    "        for i in range(len(unigram)-2):\n",
    "            trigram.append((unigram[i],unigram[i+1],unigram[i+2]))\n",
    "        x = unigram + bigram + trigram\n",
    "        \n",
    "    if ngram_range==(1,2):\n",
    "        for i in range(len(unigram)-1):\n",
    "            bigram.append((unigram[i],unigram[i+1]))\n",
    "        x = unigram + bigram\n",
    "    if vocab:\n",
    "        x = list(vocab)\n",
    "    return x"
   ]
  },
  {
   "cell_type": "code",
   "execution_count": 254,
   "metadata": {
    "ExecuteTime": {
     "end_time": "2020-02-15T14:17:33.680114Z",
     "start_time": "2020-02-15T14:17:33.675339Z"
    }
   },
   "outputs": [
    {
     "data": {
      "text/plain": [
       "['great',\n",
       " 'movie',\n",
       " 'watch',\n",
       " ('great', 'movie'),\n",
       " ('movie', 'watch'),\n",
       " ('great', 'movie', 'watch')]"
      ]
     },
     "execution_count": 254,
     "metadata": {},
     "output_type": "execute_result"
    }
   ],
   "source": [
    "extract_ngrams(\"this is a great movie to watch \",\n",
    "               ngram_range=(1,3),\n",
    "               stop_words=stop_words)\n"
   ]
  },
  {
   "cell_type": "code",
   "execution_count": 255,
   "metadata": {
    "ExecuteTime": {
     "end_time": "2020-02-15T14:17:34.278189Z",
     "start_time": "2020-02-15T14:17:34.273722Z"
    }
   },
   "outputs": [
    {
     "data": {
      "text/plain": [
       "['great', ('great', 'movie')]"
      ]
     },
     "execution_count": 255,
     "metadata": {},
     "output_type": "execute_result"
    }
   ],
   "source": [
    "extract_ngrams(\"this is a great movie to watch\", \n",
    "               ngram_range=(1,2), \n",
    "               stop_words=stop_words, \n",
    "               vocab=set(['great',  ('great','movie')]))"
   ]
  },
  {
   "cell_type": "markdown",
   "metadata": {},
   "source": [
    "Note that it is OK to represent n-grams using lists instead of tuples: e.g. `['great', ['great', 'movie']]`"
   ]
  },
  {
   "cell_type": "markdown",
   "metadata": {},
   "source": [
    "#### Create a vocabulary of n-grams\n",
    "\n",
    "Then the `get_vocab` function will be used to (1) create a vocabulary of ngrams; (2) count the document frequencies of ngrams; (3) their raw frequency. It takes as input:\n",
    "- `X_raw`: a list of strings each corresponding to the raw text of a document\n",
    "- `ngram_range`: a tuple of two integers denoting the type of ngrams you want to extract, e.g. (1,2) denotes extracting unigrams and bigrams.\n",
    "- `token_pattern`: a string to be used within a regular expression to extract all tokens. Note that data is already tokenised so you could opt for a simple white space tokenisation.\n",
    "- `stop_words`: a list of stop words\n",
    "- `min_df`: keep ngrams with a minimum document frequency.\n",
    "- `keep_topN`: keep top-N more frequent ngrams.\n",
    "\n",
    "and returns:\n",
    "\n",
    "- `vocab`: a set of the n-grams that will be used as features.\n",
    "- `df`: a Counter (or dict) that contains ngrams as keys and their corresponding document frequency as values.\n",
    "- `ngram_counts`: counts of each ngram in vocab\n",
    "\n",
    "Hint: it should make use of the `extract_ngrams` function."
   ]
  },
  {
   "cell_type": "code",
   "execution_count": 256,
   "metadata": {
    "ExecuteTime": {
     "end_time": "2020-02-15T14:17:35.821240Z",
     "start_time": "2020-02-15T14:17:35.814722Z"
    }
   },
   "outputs": [],
   "source": [
    "def get_vocab(X_raw, ngram_range=(1,3), token_pattern=r'\\b[A-Za-z][A-Za-z]+\\b', min_df=0, keep_topN=0, stop_words=[]):\n",
    "    # fill in your code..\n",
    "    ngrams = []\n",
    "    ngrams_df = []\n",
    "    for i in X_raw:\n",
    "        n_grams = extract_ngrams(i,ngram_range=ngram_range,token_pattern=token_pattern,stop_words=stop_words)\n",
    "        ngrams += n_grams\n",
    "        ngrams_df += list(set(n_grams))\n",
    "    more_frequent_ngrams = Counter(ngrams).most_common(keep_topN)\n",
    "    #get more frequent ngrams key\n",
    "    features = []\n",
    "    ngram_counts = 0\n",
    "    for k in more_frequent_ngrams:\n",
    "        features.append(k[0])\n",
    "        ngram_counts += k[1]\n",
    "    vocab = set(features)\n",
    "    #get document frequency for ngrams\n",
    "    df = Counter(ngrams_df)\n",
    "    # set min df for ngrams whose df is 0 \n",
    "    for i in features:\n",
    "        if i not in ngrams_df:\n",
    "            df[i]=min_df\n",
    "    return vocab, df, ngram_counts\n"
   ]
  },
  {
   "cell_type": "markdown",
   "metadata": {},
   "source": [
    "Now you should use `get_vocab` to create your vocabulary and get document and raw frequencies of n-grams:"
   ]
  },
  {
   "cell_type": "code",
   "execution_count": 257,
   "metadata": {
    "ExecuteTime": {
     "end_time": "2020-02-15T14:17:39.319793Z",
     "start_time": "2020-02-15T14:17:36.836545Z"
    }
   },
   "outputs": [
    {
     "name": "stdout",
     "output_type": "stream",
     "text": [
      "5000\n",
      "\n",
      "['pre', ('some', 'scenes'), 'ann', 'struggles', 'empty', ('high', 'school'), 'number', 'barry', 'ace', 'threatening', 'henstridge', 'ignore', 'exploring', 'ensemble', 'motion', 'record', 'suffice', 'thrilling', 'walking', 'predictable', 'bunch', 'machines', ('but', 'only'), 'bloody', ('not', 'so'), 'natalie', 'surely', 'non', 'ability', 'impact', 'life', 'line', 'emotions', ('first', 'film'), 'duchovny', 'featuring', ('but', 'never'), 'matters', 'stolen', 'below', 'hard', 'round', 'wanting', 'albert', ('not', 'enough'), 'tense', 'darth', 'bruce', 'chicken', 'actress', 'oh', 'edward', ('but', 'so'), 'police', 'jewish', 'degree', 'floor', 'happen', ('so', 'bad'), 'peak', 'raimi', ('all', 'other'), 'warrior', ('dante', 'peak'), 'ideal', 'trio', 'guard', 'followed', 'predecessor', 'mainly', 'points', ('some', 'other'), 'headed', 'fishburne', 'looking', 'along', ('private', 'ryan'), 'upcoming', 'created', 'richards', ('mel', 'gibson'), 'together', 'lazy', 'murdered', ('while', 'not'), 'families', 'plus', 'wong', 'west', ('film', 'one'), ('go', 'through'), 'duvall', 'mini', 'mitchell', 'explain', 'vampires', 'fugitive', 'knight', 'top', ('fifteen', 'minutes')]\n",
      "\n",
      "[('but', 1334), ('one', 1247), ('film', 1231), ('not', 1170), ('all', 1117), ('movie', 1095), ('out', 1080), ('so', 1047), ('there', 1046), ('like', 1043)]\n"
     ]
    }
   ],
   "source": [
    "vocab, df, ngram_counts = get_vocab(X_tr_raw, ngram_range=(1,3),keep_topN=5000,stop_words=stop_words)\n",
    "print(len(vocab))\n",
    "print()\n",
    "print(list(vocab)[:100])\n",
    "print()\n",
    "print(df.most_common()[:10])"
   ]
  },
  {
   "cell_type": "markdown",
   "metadata": {},
   "source": [
    "Then, you need to create vocabulary id -> word and id -> word dictionaries for reference:"
   ]
  },
  {
   "cell_type": "code",
   "execution_count": 380,
   "metadata": {
    "ExecuteTime": {
     "end_time": "2020-02-15T14:17:39.326811Z",
     "start_time": "2020-02-15T14:17:39.322256Z"
    }
   },
   "outputs": [
    {
     "data": {
      "text/plain": [
       "{0: 'pre',\n",
       " 1: ('some', 'scenes'),\n",
       " 2: 'ann',\n",
       " 3: 'struggles',\n",
       " 4: 'empty',\n",
       " 5: ('high', 'school'),\n",
       " 6: 'number',\n",
       " 7: 'barry',\n",
       " 8: 'ace',\n",
       " 9: 'threatening',\n",
       " 10: 'henstridge',\n",
       " 11: 'ignore',\n",
       " 12: 'exploring',\n",
       " 13: 'ensemble',\n",
       " 14: 'motion',\n",
       " 15: 'record',\n",
       " 16: 'suffice',\n",
       " 17: 'thrilling',\n",
       " 18: 'walking',\n",
       " 19: 'predictable',\n",
       " 20: 'bunch',\n",
       " 21: 'machines',\n",
       " 22: ('but', 'only'),\n",
       " 23: 'bloody',\n",
       " 24: ('not', 'so'),\n",
       " 25: 'natalie',\n",
       " 26: 'surely',\n",
       " 27: 'non',\n",
       " 28: 'ability',\n",
       " 29: 'impact',\n",
       " 30: 'life',\n",
       " 31: 'line',\n",
       " 32: 'emotions',\n",
       " 33: ('first', 'film'),\n",
       " 34: 'duchovny',\n",
       " 35: 'featuring',\n",
       " 36: ('but', 'never'),\n",
       " 37: 'matters',\n",
       " 38: 'stolen',\n",
       " 39: 'below',\n",
       " 40: 'hard',\n",
       " 41: 'round',\n",
       " 42: 'wanting',\n",
       " 43: 'albert',\n",
       " 44: ('not', 'enough'),\n",
       " 45: 'tense',\n",
       " 46: 'darth',\n",
       " 47: 'bruce',\n",
       " 48: 'chicken',\n",
       " 49: 'actress',\n",
       " 50: 'oh',\n",
       " 51: 'edward',\n",
       " 52: ('but', 'so'),\n",
       " 53: 'police',\n",
       " 54: 'jewish',\n",
       " 55: 'degree',\n",
       " 56: 'floor',\n",
       " 57: 'happen',\n",
       " 58: ('so', 'bad'),\n",
       " 59: 'peak',\n",
       " 60: 'raimi',\n",
       " 61: ('all', 'other'),\n",
       " 62: 'warrior',\n",
       " 63: ('dante', 'peak'),\n",
       " 64: 'ideal',\n",
       " 65: 'trio',\n",
       " 66: 'guard',\n",
       " 67: 'followed',\n",
       " 68: 'predecessor',\n",
       " 69: 'mainly',\n",
       " 70: 'points',\n",
       " 71: ('some', 'other'),\n",
       " 72: 'headed',\n",
       " 73: 'fishburne',\n",
       " 74: 'looking',\n",
       " 75: 'along',\n",
       " 76: ('private', 'ryan'),\n",
       " 77: 'upcoming',\n",
       " 78: 'created',\n",
       " 79: 'richards',\n",
       " 80: ('mel', 'gibson'),\n",
       " 81: 'together',\n",
       " 82: 'lazy',\n",
       " 83: 'murdered',\n",
       " 84: ('while', 'not'),\n",
       " 85: 'families',\n",
       " 86: 'plus',\n",
       " 87: 'wong',\n",
       " 88: 'west',\n",
       " 89: ('film', 'one'),\n",
       " 90: ('go', 'through'),\n",
       " 91: 'duvall',\n",
       " 92: 'mini',\n",
       " 93: 'mitchell',\n",
       " 94: 'explain',\n",
       " 95: 'vampires',\n",
       " 96: 'fugitive',\n",
       " 97: 'knight',\n",
       " 98: 'top',\n",
       " 99: ('fifteen', 'minutes'),\n",
       " 100: 'tone',\n",
       " 101: 'spend',\n",
       " 102: ('great', 'job'),\n",
       " 103: 'boxing',\n",
       " 104: 'entertained',\n",
       " 105: 'crazy',\n",
       " 106: 'sick',\n",
       " 107: ('back', 'forth'),\n",
       " 108: 'truly',\n",
       " 109: 'entry',\n",
       " 110: 'cross',\n",
       " 111: ('how', 'much'),\n",
       " 112: 'easily',\n",
       " 113: 'try',\n",
       " 114: ('finds', 'himself'),\n",
       " 115: 'dimensional',\n",
       " 116: 'town',\n",
       " 117: 'van',\n",
       " 118: 'pulls',\n",
       " 119: 'tried',\n",
       " 120: ('there', 'something'),\n",
       " 121: 'paris',\n",
       " 122: 'shining',\n",
       " 123: 'connection',\n",
       " 124: ('well', 'done'),\n",
       " 125: ('there', 'one'),\n",
       " 126: 'platt',\n",
       " 127: 'pleasant',\n",
       " 128: 'least',\n",
       " 129: 'am',\n",
       " 130: 'americans',\n",
       " 131: 'straightforward',\n",
       " 132: 'face',\n",
       " 133: 'secretly',\n",
       " 134: ('hour', 'half'),\n",
       " 135: 'stir',\n",
       " 136: 'decidedly',\n",
       " 137: 'former',\n",
       " 138: 'gwyneth',\n",
       " 139: 'mary',\n",
       " 140: ('action', 'film'),\n",
       " 141: 'tragedy',\n",
       " 142: 'delivers',\n",
       " 143: 'served',\n",
       " 144: 'let',\n",
       " 145: 'wayne',\n",
       " 146: ('here', 'but'),\n",
       " 147: 'segment',\n",
       " 148: 'fly',\n",
       " 149: ('camera', 'work'),\n",
       " 150: 'specifically',\n",
       " 151: 'director',\n",
       " 152: ('other', 'than'),\n",
       " 153: 'formulaic',\n",
       " 154: 'entertain',\n",
       " 155: 'nasty',\n",
       " 156: 'until',\n",
       " 157: 'marie',\n",
       " 158: 'shot',\n",
       " 159: 'style',\n",
       " 160: 'denise',\n",
       " 161: 'dangerous',\n",
       " 162: 'against',\n",
       " 163: 'virus',\n",
       " 164: 'spring',\n",
       " 165: 'samuel',\n",
       " 166: 'amazed',\n",
       " 167: ('better', 'than'),\n",
       " 168: 'media',\n",
       " 169: 'book',\n",
       " 170: 'influence',\n",
       " 171: 'currently',\n",
       " 172: 'date',\n",
       " 173: ('feature', 'film'),\n",
       " 174: 'donnell',\n",
       " 175: ('two', 'men'),\n",
       " 176: 'following',\n",
       " 177: ('but', 'more'),\n",
       " 178: 'dad',\n",
       " 179: 'passed',\n",
       " 180: ('pulp', 'fiction'),\n",
       " 181: 'thank',\n",
       " 182: ('best', 'films'),\n",
       " 183: 'answers',\n",
       " 184: 'whenever',\n",
       " 185: 'decades',\n",
       " 186: 'boss',\n",
       " 187: ('not', 'going'),\n",
       " 188: ('much', 'time'),\n",
       " 189: 'proceedings',\n",
       " 190: 'lousy',\n",
       " 191: 'truth',\n",
       " 192: 'achievement',\n",
       " 193: 'if',\n",
       " 194: 'australian',\n",
       " 195: 'kinda',\n",
       " 196: 'depressing',\n",
       " 197: 'ear',\n",
       " 198: 'convoluted',\n",
       " 199: 'campy',\n",
       " 200: 'jake',\n",
       " 201: 'calls',\n",
       " 202: 'perfection',\n",
       " 203: 'halloween',\n",
       " 204: 'suffered',\n",
       " 205: 'composed',\n",
       " 206: 'bill',\n",
       " 207: ('scene', 'between'),\n",
       " 208: 'hand',\n",
       " 209: ('not', 'say'),\n",
       " 210: 'scott',\n",
       " 211: 'tossed',\n",
       " 212: 'stunning',\n",
       " 213: 'donald',\n",
       " 214: 'uneven',\n",
       " 215: ('steve', 'martin'),\n",
       " 216: 'insane',\n",
       " 217: 'patch',\n",
       " 218: 'pay',\n",
       " 219: 'teenagers',\n",
       " 220: ('if', 'anything'),\n",
       " 221: 'sit',\n",
       " 222: 'mafia',\n",
       " 223: 'midnight',\n",
       " 224: 'chair',\n",
       " 225: ('turned', 'into'),\n",
       " 226: 'murray',\n",
       " 227: 'learned',\n",
       " 228: ('zeta', 'jones'),\n",
       " 229: 'horribly',\n",
       " 230: 'bus',\n",
       " 231: 'files',\n",
       " 232: 'appearance',\n",
       " 233: 'existenz',\n",
       " 234: 'rich',\n",
       " 235: ('my', 'opinion'),\n",
       " 236: 'pregnant',\n",
       " 237: ('but', 'seems'),\n",
       " 238: 'bed',\n",
       " 239: ('films', 'year'),\n",
       " 240: 'colors',\n",
       " 241: 'social',\n",
       " 242: 'graphic',\n",
       " 243: ('saving', 'private', 'ryan'),\n",
       " 244: 'previous',\n",
       " 245: 'odds',\n",
       " 246: 'eager',\n",
       " 247: 'madness',\n",
       " 248: 'makeup',\n",
       " 249: 'chain',\n",
       " 250: ('so', 'many'),\n",
       " 251: 'tragic',\n",
       " 252: 'case',\n",
       " 253: 'walker',\n",
       " 254: 'tend',\n",
       " 255: ('when', 'movie'),\n",
       " 256: 'martial',\n",
       " 257: 'pacing',\n",
       " 258: 'enjoyment',\n",
       " 259: 'sorvino',\n",
       " 260: 'credit',\n",
       " 261: 'las',\n",
       " 262: 'mexico',\n",
       " 263: 'cliches',\n",
       " 264: 'taran',\n",
       " 265: 'enter',\n",
       " 266: ('very', 'funny'),\n",
       " 267: 'angles',\n",
       " 268: 'pretty',\n",
       " 269: ('batman', 'robin'),\n",
       " 270: 'command',\n",
       " 271: 'unfortunate',\n",
       " 272: 'triumph',\n",
       " 273: 'kids',\n",
       " 274: 'typical',\n",
       " 275: 'forms',\n",
       " 276: 'meyer',\n",
       " 277: 'notes',\n",
       " 278: 'golden',\n",
       " 279: 'titled',\n",
       " 280: 'breaking',\n",
       " 281: 'jeff',\n",
       " 282: 'every',\n",
       " 283: ('small', 'town'),\n",
       " 284: 'delight',\n",
       " 285: 'bay',\n",
       " 286: 'garofalo',\n",
       " 287: 'providing',\n",
       " 288: 'surprise',\n",
       " 289: 'perry',\n",
       " 290: ('doesn', 'quite'),\n",
       " 291: 'joan',\n",
       " 292: 'private',\n",
       " 293: 'boogie',\n",
       " 294: 'uncle',\n",
       " 295: 'warren',\n",
       " 296: ('animated', 'feature'),\n",
       " 297: 'photography',\n",
       " 298: 'pig',\n",
       " 299: 'themes',\n",
       " 300: ('fifth', 'element'),\n",
       " 301: 'shower',\n",
       " 302: 'physical',\n",
       " 303: ('only', 'few'),\n",
       " 304: 'amanda',\n",
       " 305: ('reason', 'why'),\n",
       " 306: 'laura',\n",
       " 307: 'possesses',\n",
       " 308: 'angel',\n",
       " 309: ('starship', 'troopers'),\n",
       " 310: 'somehow',\n",
       " 311: ('film', 'no'),\n",
       " 312: 'mystery',\n",
       " 313: 'quinn',\n",
       " 314: 'bland',\n",
       " 315: 'forgotten',\n",
       " 316: 'wahlberg',\n",
       " 317: 'countless',\n",
       " 318: 'thoroughly',\n",
       " 319: 'beats',\n",
       " 320: 'terrorists',\n",
       " 321: 'campaign',\n",
       " 322: 'hoping',\n",
       " 323: 'paper',\n",
       " 324: ('over', 'top'),\n",
       " 325: ('any', 'more'),\n",
       " 326: 'got',\n",
       " 327: ('but', 'now'),\n",
       " 328: 'sheriff',\n",
       " 329: 'mistakes',\n",
       " 330: 'pair',\n",
       " 331: 'inevitably',\n",
       " 332: 'big',\n",
       " 333: 'study',\n",
       " 334: 'fred',\n",
       " 335: 'cuts',\n",
       " 336: ('rest', 'film'),\n",
       " 337: ('any', 'film'),\n",
       " 338: ('not', 'nearly'),\n",
       " 339: 'feelings',\n",
       " 340: 'suppose',\n",
       " 341: 'properly',\n",
       " 342: 'regarding',\n",
       " 343: 'ewan',\n",
       " 344: ('larger', 'than'),\n",
       " 345: 'anastasia',\n",
       " 346: 'figures',\n",
       " 347: 'sends',\n",
       " 348: 'tribe',\n",
       " 349: 'entertainment',\n",
       " 350: ('sounds', 'like'),\n",
       " 351: 'beautifully',\n",
       " 352: 'result',\n",
       " 353: 'eye',\n",
       " 354: 'less',\n",
       " 355: 'appealing',\n",
       " 356: 'alone',\n",
       " 357: ('want', 'see'),\n",
       " 358: 'names',\n",
       " 359: 'scared',\n",
       " 360: ('one', 'one'),\n",
       " 361: ('urban', 'legend'),\n",
       " 362: 'realized',\n",
       " 363: 'spielberg',\n",
       " 364: 'andrew',\n",
       " 365: ('take', 'over'),\n",
       " 366: 'eddie',\n",
       " 367: 'factor',\n",
       " 368: 'really',\n",
       " 369: 'produce',\n",
       " 370: 'financial',\n",
       " 371: ('find', 'out'),\n",
       " 372: ('like', 'film'),\n",
       " 373: 'underground',\n",
       " 374: 'sister',\n",
       " 375: ('make', 'up'),\n",
       " 376: 'braveheart',\n",
       " 377: 'words',\n",
       " 378: 'drew',\n",
       " 379: 'metal',\n",
       " 380: 'schindler',\n",
       " 381: 'holy',\n",
       " 382: ('really', 'bad'),\n",
       " 383: ('kevin', 'bacon'),\n",
       " 384: 'wood',\n",
       " 385: ('real', 'world'),\n",
       " 386: 'hopes',\n",
       " 387: 'haunted',\n",
       " 388: 'talented',\n",
       " 389: ('just', 'like'),\n",
       " 390: 'numbers',\n",
       " 391: 'miller',\n",
       " 392: 'narrator',\n",
       " 393: ('bad', 'but'),\n",
       " 394: 'gay',\n",
       " 395: 'center',\n",
       " 396: 'theater',\n",
       " 397: 'poignant',\n",
       " 398: 'lives',\n",
       " 399: 'released',\n",
       " 400: 'test',\n",
       " 401: 'howard',\n",
       " 402: 'visual',\n",
       " 403: ('there', 'only'),\n",
       " 404: 'sat',\n",
       " 405: ('de', 'niro'),\n",
       " 406: 'co',\n",
       " 407: 'cheek',\n",
       " 408: 'makes',\n",
       " 409: 'joins',\n",
       " 410: ('bad', 'movie'),\n",
       " 411: 'signs',\n",
       " 412: 'bugs',\n",
       " 413: ('gives', 'us'),\n",
       " 414: 'wes',\n",
       " 415: ('samuel', 'jackson'),\n",
       " 416: 'constructed',\n",
       " 417: 'behind',\n",
       " 418: 'politics',\n",
       " 419: 'speaks',\n",
       " 420: 'matt',\n",
       " 421: 'wings',\n",
       " 422: 'infamous',\n",
       " 423: 'foul',\n",
       " 424: 'innocence',\n",
       " 425: 'lou',\n",
       " 426: ('film', 'starts'),\n",
       " 427: 'park',\n",
       " 428: 'sequences',\n",
       " 429: 'prince',\n",
       " 430: ('there', 'really'),\n",
       " 431: 'buscemi',\n",
       " 432: 'bug',\n",
       " 433: 'theory',\n",
       " 434: 'underdeveloped',\n",
       " 435: 'spy',\n",
       " 436: 'cowboy',\n",
       " 437: 'days',\n",
       " 438: 'physically',\n",
       " 439: 'capsule',\n",
       " 440: 'touching',\n",
       " 441: 'medium',\n",
       " 442: 'mentioned',\n",
       " 443: 'farm',\n",
       " 444: 'concept',\n",
       " 445: 'dinner',\n",
       " 446: 'cut',\n",
       " 447: 'courtroom',\n",
       " 448: 'dead',\n",
       " 449: 'met',\n",
       " 450: 'ross',\n",
       " 451: ('but', 'no'),\n",
       " 452: 'releases',\n",
       " 453: 'may',\n",
       " 454: 'suffer',\n",
       " 455: 'witness',\n",
       " 456: 'biggest',\n",
       " 457: 'opposite',\n",
       " 458: 'historical',\n",
       " 459: 'consider',\n",
       " 460: 'strongly',\n",
       " 461: 'mulan',\n",
       " 462: ('just', 'one'),\n",
       " 463: 'cards',\n",
       " 464: 'michelle',\n",
       " 465: ('after', 'another'),\n",
       " 466: 'scene',\n",
       " 467: 'killers',\n",
       " 468: 'acclaimed',\n",
       " 469: 'hired',\n",
       " 470: ('end', 'movie'),\n",
       " 471: 'me',\n",
       " 472: 'improved',\n",
       " 473: 'sing',\n",
       " 474: 'meg',\n",
       " 475: 'linda',\n",
       " 476: 'faced',\n",
       " 477: 'stiller',\n",
       " 478: ('movie', 'where'),\n",
       " 479: 'set',\n",
       " 480: 'wire',\n",
       " 481: ('far', 'away'),\n",
       " 482: 'happens',\n",
       " 483: 'rights',\n",
       " 484: 'safety',\n",
       " 485: 'humorous',\n",
       " 486: 'erotic',\n",
       " 487: 'driver',\n",
       " 488: 'stops',\n",
       " 489: 'still',\n",
       " 490: 'evidence',\n",
       " 491: 'whom',\n",
       " 492: 'cover',\n",
       " 493: 'victim',\n",
       " 494: 'instinct',\n",
       " 495: 'slightest',\n",
       " 496: 'newly',\n",
       " 497: 'close',\n",
       " 498: 'displays',\n",
       " 499: 'confident',\n",
       " 500: 'wrote',\n",
       " 501: ('but', 'most'),\n",
       " 502: 'match',\n",
       " 503: ('into', 'story'),\n",
       " 504: 'crazed',\n",
       " 505: ('tommy', 'lee', 'jones'),\n",
       " 506: 'reputation',\n",
       " 507: 'developing',\n",
       " 508: 'charismatic',\n",
       " 509: 'street',\n",
       " 510: 'julia',\n",
       " 511: 'besides',\n",
       " 512: 'just',\n",
       " 513: ('home', 'video'),\n",
       " 514: ('keanu', 'reeves'),\n",
       " 515: 'decisions',\n",
       " 516: 'suits',\n",
       " 517: 'hughes',\n",
       " 518: 'probably',\n",
       " 519: 'geoffrey',\n",
       " 520: 'blame',\n",
       " 521: ('if', 've'),\n",
       " 522: ('after', 'all'),\n",
       " 523: ('even', 'worse'),\n",
       " 524: ('some', 'best'),\n",
       " 525: 'jesus',\n",
       " 526: ('john', 'travolta'),\n",
       " 527: 'executed',\n",
       " 528: 'rescue',\n",
       " 529: 'spot',\n",
       " 530: ('tim', 'burton'),\n",
       " 531: 'critics',\n",
       " 532: 'consequences',\n",
       " 533: ('going', 'happen'),\n",
       " 534: 'gooding',\n",
       " 535: 'elizabeth',\n",
       " 536: 'wilson',\n",
       " 537: 'fall',\n",
       " 538: 'closely',\n",
       " 539: 'dr',\n",
       " 540: 'predictably',\n",
       " 541: 'jerry',\n",
       " 542: ('still', 'know'),\n",
       " 543: 'susan',\n",
       " 544: 'create',\n",
       " 545: 'promise',\n",
       " 546: 'outrageous',\n",
       " 547: 'investigating',\n",
       " 548: 'late',\n",
       " 549: 'jolie',\n",
       " 550: 'ad',\n",
       " 551: 'truck',\n",
       " 552: 'wicked',\n",
       " 553: 'suggest',\n",
       " 554: ('many', 'years'),\n",
       " 555: 'simple',\n",
       " 556: 'evil',\n",
       " 557: 'man',\n",
       " 558: 'manager',\n",
       " 559: 'perspective',\n",
       " 560: ('ben', 'affleck'),\n",
       " 561: 'credits',\n",
       " 562: 'being',\n",
       " 563: 'ground',\n",
       " 564: 'convention',\n",
       " 565: ('film', 'would'),\n",
       " 566: 'using',\n",
       " 567: ('no', 'idea'),\n",
       " 568: 'austin',\n",
       " 569: 'helps',\n",
       " 570: 'kong',\n",
       " 571: ('than', 'just'),\n",
       " 572: 'remembered',\n",
       " 573: 'die',\n",
       " 574: ('their', 'characters'),\n",
       " 575: ('why', 'would'),\n",
       " 576: 'cruise',\n",
       " 577: 'fourth',\n",
       " 578: ('into', 'film'),\n",
       " 579: ('one', 'best'),\n",
       " 580: 'quite',\n",
       " 581: ('mission', 'impossible'),\n",
       " 582: 'sleazy',\n",
       " 583: 'realm',\n",
       " 584: ('all', 'while'),\n",
       " 585: 'immensely',\n",
       " 586: ('better', 'off'),\n",
       " 587: 'scenery',\n",
       " 588: 'survive',\n",
       " 589: 'appreciate',\n",
       " 590: ('best', 'performance'),\n",
       " 591: 'alien',\n",
       " 592: 'appreciated',\n",
       " 593: 'grim',\n",
       " 594: 'buddy',\n",
       " 595: 'sisters',\n",
       " 596: 'nevertheless',\n",
       " 597: ('two', 'people'),\n",
       " 598: 'energy',\n",
       " 599: 'species',\n",
       " 600: ('there', 'few'),\n",
       " 601: ('first', 'place'),\n",
       " 602: ('there', 'even'),\n",
       " 603: ('get', 'away'),\n",
       " 604: ('movie', 'if'),\n",
       " 605: 'nicole',\n",
       " 606: 'tommy',\n",
       " 607: 'mature',\n",
       " 608: 'task',\n",
       " 609: 'schumacher',\n",
       " 610: 'band',\n",
       " 611: 'pitch',\n",
       " 612: 'rise',\n",
       " 613: 'sexuality',\n",
       " 614: ('because', 're'),\n",
       " 615: ('believe', 'me'),\n",
       " 616: 'collection',\n",
       " 617: 'hopper',\n",
       " 618: ('one', 'but'),\n",
       " 619: 'captain',\n",
       " 620: 'heavy',\n",
       " 621: ('james', 'woods'),\n",
       " 622: ('sound', 'like'),\n",
       " 623: 'moments',\n",
       " 624: 'revealing',\n",
       " 625: ('old', 'fashioned'),\n",
       " 626: 'shadow',\n",
       " 627: ('just', 'because'),\n",
       " 628: 'forces',\n",
       " 629: 'shallow',\n",
       " 630: 'firm',\n",
       " 631: 'disc',\n",
       " 632: 'wildly',\n",
       " 633: ('last', 'summer'),\n",
       " 634: 'decent',\n",
       " 635: ('not', 'only'),\n",
       " 636: ('two', 'hours'),\n",
       " 637: 'pilot',\n",
       " 638: 'de',\n",
       " 639: 'largely',\n",
       " 640: 'despite',\n",
       " 641: 'graham',\n",
       " 642: ('most', 'importantly'),\n",
       " 643: ('see', 'film'),\n",
       " 644: 'danny',\n",
       " 645: ('los', 'angeles'),\n",
       " 646: 'villain',\n",
       " 647: 'comedic',\n",
       " 648: 'dramatic',\n",
       " 649: ('go', 'out'),\n",
       " 650: 'mentally',\n",
       " 651: 'harsh',\n",
       " 652: ('final', 'scene'),\n",
       " 653: 'dan',\n",
       " 654: 'directing',\n",
       " 655: 'roles',\n",
       " 656: 'issue',\n",
       " 657: 'aspects',\n",
       " 658: 'bottom',\n",
       " 659: 'effective',\n",
       " 660: ('very', 'good'),\n",
       " 661: 'fix',\n",
       " 662: 'adequate',\n",
       " 663: ('larry', 'flynt'),\n",
       " 664: 'advice',\n",
       " 665: 'mass',\n",
       " 666: 'defense',\n",
       " 667: 'issues',\n",
       " 668: 'losing',\n",
       " 669: ('think', 'about'),\n",
       " 670: 'aimed',\n",
       " 671: 'contemporary',\n",
       " 672: ('no', 'matter', 'how'),\n",
       " 673: 'purpose',\n",
       " 674: ('movie', 'not'),\n",
       " 675: 'gorilla',\n",
       " 676: 'antonio',\n",
       " 677: 'cookie',\n",
       " 678: ('reminded', 'me'),\n",
       " 679: 'aliens',\n",
       " 680: 'soul',\n",
       " 681: 'free',\n",
       " 682: 'dennis',\n",
       " 683: ('times', 'before'),\n",
       " 684: 'battlefield',\n",
       " 685: 'worth',\n",
       " 686: 'expressions',\n",
       " 687: 'split',\n",
       " 688: 'altogether',\n",
       " 689: 'perhaps',\n",
       " 690: ('had', 'me'),\n",
       " 691: 'dogs',\n",
       " 692: ('ever', 'made'),\n",
       " 693: 'nights',\n",
       " 694: 'federal',\n",
       " 695: ('also', 'good'),\n",
       " 696: 'appropriately',\n",
       " 697: 'soap',\n",
       " 698: 'living',\n",
       " 699: 'deniro',\n",
       " 700: 'changing',\n",
       " 701: 'battle',\n",
       " 702: 'altman',\n",
       " 703: 'new',\n",
       " 704: 'avoid',\n",
       " 705: 'accomplished',\n",
       " 706: 'critic',\n",
       " 707: 'initial',\n",
       " 708: 'nolte',\n",
       " 709: 'primary',\n",
       " 710: 'girls',\n",
       " 711: 'blue',\n",
       " 712: 'pod',\n",
       " 713: 'bulworth',\n",
       " 714: 'city',\n",
       " 715: ('ve', 'got'),\n",
       " 716: 'hope',\n",
       " 717: 'surprisingly',\n",
       " 718: 'investigation',\n",
       " 719: 'prove',\n",
       " 720: 'quirky',\n",
       " 721: 'wishes',\n",
       " 722: 'baby',\n",
       " 723: 'steven',\n",
       " 724: ('end', 'credits'),\n",
       " 725: 'sports',\n",
       " 726: ('chemistry', 'between'),\n",
       " 727: 'beat',\n",
       " 728: ('one', 'few'),\n",
       " 729: 'stone',\n",
       " 730: 'magic',\n",
       " 731: 'challenge',\n",
       " 732: ('should', 'not'),\n",
       " 733: ('make', 'sure'),\n",
       " 734: 'pain',\n",
       " 735: ('spice', 'girls'),\n",
       " 736: 'virtual',\n",
       " 737: 'fonda',\n",
       " 738: 'william',\n",
       " 739: 'argento',\n",
       " 740: 'comet',\n",
       " 741: 'apes',\n",
       " 742: 'crow',\n",
       " 743: 'discovering',\n",
       " 744: ('not', 'one'),\n",
       " 745: 'incredibly',\n",
       " 746: 'hong',\n",
       " 747: 'share',\n",
       " 748: ('love', 'interest'),\n",
       " 749: 'garbage',\n",
       " 750: 'tea',\n",
       " 751: 'creator',\n",
       " 752: 'arnold',\n",
       " 753: ('fairy', 'tale'),\n",
       " 754: 'forget',\n",
       " 755: ('but', 'then'),\n",
       " 756: 'door',\n",
       " 757: 'guess',\n",
       " 758: 'fired',\n",
       " 759: 'psychologist',\n",
       " 760: ('watching', 'movie'),\n",
       " 761: ('tom', 'hanks'),\n",
       " 762: 'held',\n",
       " 763: 'letting',\n",
       " 764: 'fast',\n",
       " 765: 'begin',\n",
       " 766: 'thoughtful',\n",
       " 767: 'statement',\n",
       " 768: 'tech',\n",
       " 769: ('look', 'like'),\n",
       " 770: 'form',\n",
       " 771: 'whether',\n",
       " 772: 'trying',\n",
       " 773: 'jar',\n",
       " 774: ('all', 'about'),\n",
       " 775: ('great', 'deal'),\n",
       " 776: 'aforementioned',\n",
       " 777: 'work',\n",
       " 778: 'remake',\n",
       " 779: ('one', 'movie'),\n",
       " 780: 'originally',\n",
       " 781: ('only', 'way'),\n",
       " 782: 'piano',\n",
       " 783: 'straight',\n",
       " 784: 'worried',\n",
       " 785: 'century',\n",
       " 786: 'lame',\n",
       " 787: 'unexpected',\n",
       " 788: 'stab',\n",
       " 789: 'forgettable',\n",
       " 790: ('de', 'palma'),\n",
       " 791: ('ended', 'up'),\n",
       " 792: 'heat',\n",
       " 793: 'trend',\n",
       " 794: 'hunter',\n",
       " 795: 'giant',\n",
       " 796: 'disney',\n",
       " 797: 'cannot',\n",
       " 798: 'harrelson',\n",
       " 799: 'animation',\n",
       " 800: 'problems',\n",
       " 801: 'concerns',\n",
       " 802: 'storyline',\n",
       " 803: 'poor',\n",
       " 804: 'wonderful',\n",
       " 805: 'going',\n",
       " 806: 'sympathetic',\n",
       " 807: 'lifetime',\n",
       " 808: 'taste',\n",
       " 809: 'overcome',\n",
       " 810: 'convey',\n",
       " 811: ('see', 'him'),\n",
       " 812: 'earth',\n",
       " 813: 'cousin',\n",
       " 814: 'also',\n",
       " 815: 'drive',\n",
       " 816: ('anything', 'but'),\n",
       " 817: ('same', 'time'),\n",
       " 818: 'elfman',\n",
       " 819: 'favor',\n",
       " 820: ('more', 'time'),\n",
       " 821: 'chris',\n",
       " 822: 'unforgettable',\n",
       " 823: 'first',\n",
       " 824: 'throughout',\n",
       " 825: 'family',\n",
       " 826: ('help', 'but'),\n",
       " 827: 'awful',\n",
       " 828: 'get',\n",
       " 829: 'jay',\n",
       " 830: 'seriously',\n",
       " 831: 'travels',\n",
       " 832: ('movie', 'there'),\n",
       " 833: 'company',\n",
       " 834: 'lisa',\n",
       " 835: 'los',\n",
       " 836: 'vacation',\n",
       " 837: 'stereotypes',\n",
       " 838: 'stale',\n",
       " 839: 'accurate',\n",
       " 840: 'kills',\n",
       " 841: ('bit', 'too'),\n",
       " 842: 'serving',\n",
       " 843: 'nothing',\n",
       " 844: 'worthwhile',\n",
       " 845: 'quickly',\n",
       " 846: 'promising',\n",
       " 847: 'beyond',\n",
       " 848: 'lumumba',\n",
       " 849: 'course',\n",
       " 850: 'obsession',\n",
       " 851: 'highlight',\n",
       " 852: 'serves',\n",
       " 853: 'hits',\n",
       " 854: 'punch',\n",
       " 855: 'amusing',\n",
       " 856: 'liking',\n",
       " 857: 'nielsen',\n",
       " 858: ('no', 'less'),\n",
       " 859: 'tarantino',\n",
       " 860: 'kidman',\n",
       " 861: 'local',\n",
       " 862: 'religion',\n",
       " 863: 'bring',\n",
       " 864: 'gratuitous',\n",
       " 865: 'lead',\n",
       " 866: 'cinematography',\n",
       " 867: ('one', 'worst'),\n",
       " 868: 'climax',\n",
       " 869: ('other', 'people'),\n",
       " 870: 'willing',\n",
       " 871: 'goal',\n",
       " 872: 'even',\n",
       " 873: 'writer',\n",
       " 874: 'spin',\n",
       " 875: 'amy',\n",
       " 876: ('special', 'effects'),\n",
       " 877: 'strong',\n",
       " 878: 'without',\n",
       " 879: 'redeeming',\n",
       " 880: 'uninteresting',\n",
       " 881: ('than', 'most'),\n",
       " 882: 'middle',\n",
       " 883: ('not', 'much'),\n",
       " 884: 'sky',\n",
       " 885: 'horrifying',\n",
       " 886: 'measure',\n",
       " 887: 'french',\n",
       " 888: ('not', 'very'),\n",
       " 889: ('phantom', 'menace'),\n",
       " 890: ('cover', 'up'),\n",
       " 891: 'original',\n",
       " 892: 'frustrating',\n",
       " 893: 'sense',\n",
       " 894: ('toy', 'story'),\n",
       " 895: 'hated',\n",
       " 896: 'cindy',\n",
       " 897: 'mother',\n",
       " 898: 'anyone',\n",
       " 899: 'juliet',\n",
       " 900: 'jamie',\n",
       " 901: ('after', 'being'),\n",
       " 902: ('there', 'scene'),\n",
       " 903: 'impressed',\n",
       " 904: 'hapless',\n",
       " 905: 'destroy',\n",
       " 906: 'execution',\n",
       " 907: ('movie', 've'),\n",
       " 908: 'blatantly',\n",
       " 909: 'compelling',\n",
       " 910: ('runs', 'into'),\n",
       " 911: ('let', 'me'),\n",
       " 912: 'holding',\n",
       " 913: 'clothes',\n",
       " 914: 'adult',\n",
       " 915: 'lone',\n",
       " 916: 'direction',\n",
       " 917: 'ted',\n",
       " 918: 'phil',\n",
       " 919: 'lovable',\n",
       " 920: 'unfunny',\n",
       " 921: ('into', 'their'),\n",
       " 922: 'lights',\n",
       " 923: 'method',\n",
       " 924: 'strength',\n",
       " 925: 'popular',\n",
       " 926: 'reveal',\n",
       " 927: 'eat',\n",
       " 928: 'source',\n",
       " 929: 'welles',\n",
       " 930: 'such',\n",
       " 931: 'brings',\n",
       " 932: 'mirror',\n",
       " 933: 'cute',\n",
       " 934: ('rather', 'than'),\n",
       " 935: 'enterprise',\n",
       " 936: ('their', 'roles'),\n",
       " 937: 'alfred',\n",
       " 938: 'sold',\n",
       " 939: 'hip',\n",
       " 940: 'attempt',\n",
       " 941: 'showdown',\n",
       " 942: 'false',\n",
       " 943: 'episode',\n",
       " 944: 'box',\n",
       " 945: ('their', 'lives'),\n",
       " 946: ('big', 'lebowski'),\n",
       " 947: 'surprises',\n",
       " 948: ('way', 'through'),\n",
       " 949: 'effect',\n",
       " 950: ('don', 'care'),\n",
       " 951: 'afraid',\n",
       " 952: 'saving',\n",
       " 953: 'succeeds',\n",
       " 954: 'robot',\n",
       " 955: ('truman', 'show'),\n",
       " 956: 'heard',\n",
       " 957: 'wacky',\n",
       " 958: ('more', 'more'),\n",
       " 959: 'everybody',\n",
       " 960: 'relies',\n",
       " 961: ('ve', 'ever'),\n",
       " 962: 'plots',\n",
       " 963: 'folks',\n",
       " 964: 'children',\n",
       " 965: 'la',\n",
       " 966: 'acted',\n",
       " 967: 'brian',\n",
       " 968: 'your',\n",
       " 969: 'tell',\n",
       " 970: 'laughing',\n",
       " 971: 'flaws',\n",
       " 972: 'flynt',\n",
       " 973: ('after', 'while'),\n",
       " 974: ('first', 'hour'),\n",
       " 975: 'walks',\n",
       " 976: ('not', 'mention'),\n",
       " 977: 'age',\n",
       " 978: 'chow',\n",
       " 979: 'dozens',\n",
       " 980: 'evident',\n",
       " 981: 'kelly',\n",
       " 982: 'direct',\n",
       " 983: ('not', 'exactly'),\n",
       " 984: ('way', 'out'),\n",
       " 985: 'saw',\n",
       " 986: 'loser',\n",
       " 987: 'planet',\n",
       " 988: 'importantly',\n",
       " 989: 'absent',\n",
       " 990: 'abandoned',\n",
       " 991: 'pat',\n",
       " 992: 'bobby',\n",
       " 993: 'travolta',\n",
       " 994: 'crisis',\n",
       " 995: ('john', 'carpenter'),\n",
       " 996: 'jail',\n",
       " 997: 'law',\n",
       " 998: 'murders',\n",
       " 999: 'upper',\n",
       " ...}"
      ]
     },
     "execution_count": 380,
     "metadata": {},
     "output_type": "execute_result"
    }
   ],
   "source": [
    "# fill in your code...\n",
    "id_word_dic = dict(enumerate(vocab))\n",
    "id_word_dic"
   ]
  },
  {
   "cell_type": "markdown",
   "metadata": {},
   "source": [
    "Now you should be able to extract n-grams for each text in the training, development and test sets:"
   ]
  },
  {
   "cell_type": "code",
   "execution_count": 258,
   "metadata": {
    "ExecuteTime": {
     "end_time": "2020-02-15T14:17:40.213253Z",
     "start_time": "2020-02-15T14:17:39.329147Z"
    }
   },
   "outputs": [],
   "source": [
    "# fill in your code...\n",
    "vocab_tr, df_tr, ngram_counts_tr = get_vocab(X_tr_raw, ngram_range=(1,3),keep_topN=5000,min_df=1,stop_words=stop_words)\n",
    "vocab_te, df_te, ngram_counts_te= get_vocab(X_te_raw, ngram_range=(1,3),keep_topN=5000,min_df=1,stop_words=stop_words)\n",
    "vocab_de, df_de, ngram_counts_de = get_vocab(X_de_raw, ngram_range=(1,3),keep_topN=5000,min_df=1,stop_words=stop_words)"
   ]
  },
  {
   "cell_type": "markdown",
   "metadata": {},
   "source": [
    "## Vectorise documents "
   ]
  },
  {
   "cell_type": "markdown",
   "metadata": {},
   "source": [
    "Next, write a function `vectoriser` to obtain Bag-of-ngram representations for a list of documents. The function should take as input:\n",
    "- `X_ngram`: a list of texts (documents), where each text is represented as list of n-grams in the `vocab`\n",
    "- `vocab`: a set of n-grams to be used for representing the documents\n",
    "\n",
    "and return:\n",
    "- `X_vec`: an array with dimensionality Nx|vocab| where N is the number of documents and |vocab| is the size of the vocabulary. Each element of the array should represent the frequency of a given n-gram in a document.\n"
   ]
  },
  {
   "cell_type": "code",
   "execution_count": 300,
   "metadata": {},
   "outputs": [],
   "source": [
    "# get X_ngram\n",
    "def get_X_ngram(X_raw,vocab,ngram_range=(1,3), token_pattern=r'\\b[A-Za-z][A-Za-z]+\\b',stop_words=stop_words):\n",
    "    # create a list of docs,each doc is a list of ngrams\n",
    "    N_grams = []\n",
    "    for i in X_raw:\n",
    "        n_grams = extract_ngrams(i,ngram_range=ngram_range,token_pattern=token_pattern,stop_words=stop_words)\n",
    "        N_grams.append(n_grams) \n",
    "    # remove those ngrams which are not in vocab    \n",
    "    X_ngram = []\n",
    "    for texts in N_grams:\n",
    "        for ngram in texts:\n",
    "            if ngram not in vocab:\n",
    "                texts.remove(ngram)\n",
    "        X_ngram.append(texts)\n",
    "    return X_ngram\n",
    "X_tr_ngram = get_X_ngram(X_tr_raw,vocab_tr,ngram_range=(1,3), token_pattern=r'\\b[A-Za-z][A-Za-z]+\\b',stop_words=stop_words)\n",
    "X_te_ngram = get_X_ngram(X_te_raw,vocab_te,ngram_range=(1,3), token_pattern=r'\\b[A-Za-z][A-Za-z]+\\b',stop_words=stop_words)\n",
    "X_de_ngram = get_X_ngram(X_de_raw,vocab_de,ngram_range=(1,3), token_pattern=r'\\b[A-Za-z][A-Za-z]+\\b',stop_words=stop_words)"
   ]
  },
  {
   "cell_type": "code",
   "execution_count": 311,
   "metadata": {},
   "outputs": [],
   "source": [
    "def vectorise(X_ngram, vocab):\n",
    "    # fill in your code...\n",
    "    N = len(X_ngram)\n",
    "    X_vec = np.zeros((N,len(vocab)))\n",
    "    vocab_list = list(vocab)\n",
    "    for i in range(N):\n",
    "        for j in range(len(vocab)):\n",
    "            X_vec[i][j]=X_ngram[i].count(vocab_list[j])\n",
    "    return X_vec\n"
   ]
  },
  {
   "cell_type": "code",
   "execution_count": 382,
   "metadata": {},
   "outputs": [],
   "source": [
    "def vectorise(X_ngram, vocab):\n",
    "    # fill in your code...\n",
    "    N = len(X_ngram)\n",
    "    X_vec = np.zeros((N,len(vocab)))\n",
    "    vocab_list = list(vocab)\n",
    "    for i in range(N):\n",
    "        for ngram in X_ngram[i]:\n",
    "            if ngram in vocab:\n",
    "                count = X_ngram[i].count(ngram)\n",
    "                vocab_index = vocab_list.index(ngram)\n",
    "                X_vec[i][vocab_index] = count                \n",
    "    return X_vec"
   ]
  },
  {
   "cell_type": "markdown",
   "metadata": {},
   "source": [
    "Finally, use `vectorise` to obtain document vectors for each document in the train, development and test set. You should extract both count and tf.idf vectors respectively:"
   ]
  },
  {
   "cell_type": "code",
   "execution_count": 383,
   "metadata": {},
   "outputs": [],
   "source": [
    "X_tr_count = vectorise(X_tr_ngram, vocab_tr)\n",
    "X_te_count = vectorise(X_te_ngram, vocab_tr)\n",
    "X_de_count = vectorise(X_tr_ngram, vocab_tr)"
   ]
  },
  {
   "cell_type": "markdown",
   "metadata": {},
   "source": [
    "#### Count vectors"
   ]
  },
  {
   "cell_type": "code",
   "execution_count": 384,
   "metadata": {
    "ExecuteTime": {
     "end_time": "2020-02-15T14:17:42.004808Z",
     "start_time": "2020-02-15T14:17:42.001555Z"
    }
   },
   "outputs": [
    {
     "data": {
      "text/plain": [
       "(1400, 5000)"
      ]
     },
     "execution_count": 384,
     "metadata": {},
     "output_type": "execute_result"
    }
   ],
   "source": [
    "X_tr_count.shape"
   ]
  },
  {
   "cell_type": "code",
   "execution_count": 385,
   "metadata": {
    "ExecuteTime": {
     "end_time": "2020-02-15T14:17:42.010525Z",
     "start_time": "2020-02-15T14:17:42.006309Z"
    }
   },
   "outputs": [
    {
     "data": {
      "text/plain": [
       "array([[0., 0., 0., 0., 0., 0., 1., 0., 0., 0., 0., 0., 0., 0., 0., 0.,\n",
       "        0., 0., 0., 0., 0., 0., 0., 0., 0., 0., 0., 0., 0., 0., 0., 0.,\n",
       "        1., 0., 0., 0., 0., 0., 0., 0., 0., 0., 0., 0., 0., 0., 0., 0.,\n",
       "        0., 0.],\n",
       "       [0., 1., 0., 0., 0., 0., 1., 0., 0., 0., 0., 0., 0., 0., 0., 0.,\n",
       "        0., 0., 0., 0., 0., 0., 0., 0., 1., 0., 0., 0., 0., 0., 1., 0.,\n",
       "        0., 0., 0., 0., 0., 1., 0., 0., 0., 0., 0., 0., 0., 0., 0., 0.,\n",
       "        0., 0.]])"
      ]
     },
     "execution_count": 385,
     "metadata": {},
     "output_type": "execute_result"
    }
   ],
   "source": [
    "X_tr_count[:2,:50]"
   ]
  },
  {
   "cell_type": "markdown",
   "metadata": {},
   "source": [
    "#### TF.IDF vectors\n",
    "\n",
    "First compute `idfs` an array containing inverted document frequencies (Note: its elements should correspond to your `vocab`)"
   ]
  },
  {
   "cell_type": "code",
   "execution_count": 426,
   "metadata": {
    "ExecuteTime": {
     "end_time": "2020-02-15T14:17:42.022692Z",
     "start_time": "2020-02-15T14:17:42.012315Z"
    }
   },
   "outputs": [],
   "source": [
    "# fill in your code...\n",
    "def get_idf(X_raw,vocab,df):\n",
    "    N = len(X_raw)\n",
    "    idf = np.zeros((len(vocab)))\n",
    "    vocab_list = list(vocab)\n",
    "    for i in range(len(vocab)):\n",
    "        ngram = vocab_list[i]\n",
    "        idf[i] = np.log10(N/df[ngram])\n",
    "    return idf\n",
    "tr_idf = get_idf(X_tr_raw,vocab_tr,df_tr)\n",
    "te_idf = get_idf(X_te_raw,vocab_te,df_te)\n",
    "de_idf = get_idf(X_de_raw,vocab_de,df_de)"
   ]
  },
  {
   "cell_type": "code",
   "execution_count": 427,
   "metadata": {},
   "outputs": [
    {
     "data": {
      "text/plain": [
       "array([1.58982553, 1.66900678, 1.94200805, ..., 1.61464912, 1.80370535,\n",
       "       1.42185217])"
      ]
     },
     "execution_count": 427,
     "metadata": {},
     "output_type": "execute_result"
    }
   ],
   "source": [
    "tr_idf"
   ]
  },
  {
   "cell_type": "markdown",
   "metadata": {},
   "source": [
    "Then transform your count vectors to tf.idf vectors:"
   ]
  },
  {
   "cell_type": "code",
   "execution_count": 387,
   "metadata": {
    "ExecuteTime": {
     "end_time": "2020-02-15T14:17:42.802265Z",
     "start_time": "2020-02-15T14:17:42.752448Z"
    }
   },
   "outputs": [],
   "source": [
    "# fill in your code...\n",
    "X_tr_tfidf = X_tr_count*tr_idf\n",
    "X_te_tfidf = X_te_count*te_idf\n",
    "X_de_tfidf = X_de_count*de_idf"
   ]
  },
  {
   "cell_type": "code",
   "execution_count": 388,
   "metadata": {
    "ExecuteTime": {
     "end_time": "2020-02-15T14:17:43.211619Z",
     "start_time": "2020-02-15T14:17:43.207266Z"
    }
   },
   "outputs": [
    {
     "data": {
      "text/plain": [
       "array([0.        , 1.66900678, 0.        , 0.        , 0.        ,\n",
       "       0.        , 1.03553833, 0.        , 0.        , 0.        ,\n",
       "       0.        , 0.        , 0.        , 0.        , 0.        ,\n",
       "       0.        , 0.        , 0.        , 0.        , 0.        ,\n",
       "       0.        , 0.        , 0.        , 0.        , 1.28280518,\n",
       "       0.        , 0.        , 0.        , 0.        , 0.        ,\n",
       "       0.38120505, 0.        , 0.        , 0.        , 0.        ,\n",
       "       0.        , 0.        , 1.43012469, 0.        , 0.        ,\n",
       "       0.        , 0.        , 0.        , 0.        , 0.        ,\n",
       "       0.        , 0.        , 0.        , 0.        , 0.        ])"
      ]
     },
     "execution_count": 388,
     "metadata": {},
     "output_type": "execute_result"
    }
   ],
   "source": [
    "X_tr_tfidf[1,:50]"
   ]
  },
  {
   "cell_type": "markdown",
   "metadata": {},
   "source": [
    "# Binary Logistic Regression\n",
    "\n",
    "After obtaining vector representations of the data, now you are ready to implement Binary Logistic Regression for classifying sentiment."
   ]
  },
  {
   "cell_type": "markdown",
   "metadata": {},
   "source": [
    "First, you need to implement the `sigmoid` function. It takes as input:\n",
    "\n",
    "- `z`: a real number or an array of real numbers \n",
    "\n",
    "and returns:\n",
    "\n",
    "- `sig`: the sigmoid of `z`"
   ]
  },
  {
   "cell_type": "code",
   "execution_count": 389,
   "metadata": {
    "ExecuteTime": {
     "end_time": "2020-02-15T14:17:44.160661Z",
     "start_time": "2020-02-15T14:17:44.157902Z"
    }
   },
   "outputs": [],
   "source": [
    "\n",
    "def sigmoid(z):\n",
    "    \n",
    "    # fill in your code...\n",
    "    sig = 1/(1+np.exp(-z))\n",
    "    \n",
    "    return sig"
   ]
  },
  {
   "cell_type": "code",
   "execution_count": 390,
   "metadata": {
    "ExecuteTime": {
     "end_time": "2020-02-15T14:17:44.351292Z",
     "start_time": "2020-02-15T14:17:44.346822Z"
    }
   },
   "outputs": [
    {
     "name": "stdout",
     "output_type": "stream",
     "text": [
      "0.5\n",
      "[0.00669285 0.76852478]\n"
     ]
    }
   ],
   "source": [
    "print(sigmoid(0)) \n",
    "print(sigmoid(np.array([-5., 1.2])))"
   ]
  },
  {
   "cell_type": "markdown",
   "metadata": {},
   "source": [
    "Then, implement the `predict_proba` function to obtain prediction probabilities. It takes as input:\n",
    "\n",
    "- `X`: an array of inputs, i.e. documents represented by bag-of-ngram vectors ($N \\times |vocab|$)\n",
    "- `weights`: a 1-D array of the model's weights $(1, |vocab|)$\n",
    "\n",
    "and returns:\n",
    "\n",
    "- `preds_proba`: the prediction probabilities of X given the weights"
   ]
  },
  {
   "cell_type": "code",
   "execution_count": 391,
   "metadata": {
    "ExecuteTime": {
     "end_time": "2020-02-15T14:17:44.718566Z",
     "start_time": "2020-02-15T14:17:44.715017Z"
    }
   },
   "outputs": [],
   "source": [
    "def predict_proba(X, weights):\n",
    "    # fill in your code...\n",
    "    preds_proba = sigmoid(np.dot(weights,X.T))\n",
    "    return preds_proba\n"
   ]
  },
  {
   "cell_type": "code",
   "execution_count": 392,
   "metadata": {},
   "outputs": [],
   "source": [
    "# def predict_proba(X, weights):\n",
    "#     # fill in your code...\n",
    "#     z = np.dot(weights,X.T)\n",
    "#     preds_proba = sigmoid(z)\n",
    "#     return preds_proba\n"
   ]
  },
  {
   "cell_type": "code",
   "execution_count": 393,
   "metadata": {},
   "outputs": [],
   "source": [
    "#def predict_class(X, weights):\n",
    "#    preds_class = np.where(predict_proba(X,weights)>=0.5,1,0)\n",
    "#    return preds_class"
   ]
  },
  {
   "cell_type": "markdown",
   "metadata": {},
   "source": [
    "Then, implement the `predict_class` function to obtain the most probable class for each vector in an array of input vectors. It takes as input:\n",
    "\n",
    "- `X`: an array of documents represented by bag-of-ngram vectors ($N \\times |vocab|$)\n",
    "- `weights`: a 1-D array of the model's weights $(1, |vocab|)$\n",
    "\n",
    "and returns:\n",
    "\n",
    "- `preds_class`: the predicted class for each x in X given the weights"
   ]
  },
  {
   "cell_type": "code",
   "execution_count": 394,
   "metadata": {
    "ExecuteTime": {
     "end_time": "2020-02-15T14:17:45.002125Z",
     "start_time": "2020-02-15T14:17:44.998668Z"
    }
   },
   "outputs": [],
   "source": [
    "def predict_class(X, weights):\n",
    "    # fill in your code...\n",
    "    preds_proba = predict_proba(X, weights)\n",
    "    N = preds_proba.shape[0]\n",
    "    preds_class = np.zeros((N,)).astype(int)\n",
    "    for i in range(len(preds_proba)):\n",
    "        if preds_proba[i]<0.5:\n",
    "            preds_class[i] = 0\n",
    "        else:\n",
    "            preds_class[i] = 1\n",
    "    return preds_class"
   ]
  },
  {
   "cell_type": "markdown",
   "metadata": {},
   "source": [
    "To learn the weights from data, we need to minimise the binary cross-entropy loss. Implement `binary_loss` that takes as input:\n",
    "\n",
    "- `X`: input vectors\n",
    "- `Y`: labels\n",
    "- `weights`: model weights\n",
    "- `alpha`: regularisation strength\n",
    "\n",
    "and return:\n",
    "\n",
    "- `l`: the loss score"
   ]
  },
  {
   "cell_type": "code",
   "execution_count": 395,
   "metadata": {
    "ExecuteTime": {
     "end_time": "2020-02-15T14:17:45.455533Z",
     "start_time": "2020-02-15T14:17:45.451475Z"
    }
   },
   "outputs": [],
   "source": [
    "def binary_loss(X, Y, weights, alpha=0.00001):\n",
    "    # fill in your code...\n",
    "    preds_proba = predict_proba(X, weights)\n",
    "    L = np.zeros((len(Y),))\n",
    "    for i in range(len(L)):\n",
    "        L[i] = -1*Y[i]*np.log(preds_proba[i])-(1-Y[i])*np.log(1-preds_proba[i])\n",
    "    l = np.mean(L)\n",
    "    return l\n",
    "    \n"
   ]
  },
  {
   "cell_type": "code",
   "execution_count": 396,
   "metadata": {},
   "outputs": [],
   "source": [
    "# def binary_loss(X, Y, weights, alpha=0.00001):\n",
    "#     preds_proba = predict_proba(X, weights)\n",
    "#     N = len(preds_proba)\n",
    "#     sum = 0\n",
    "#     for i in range(N):\n",
    "#         sum += -1*Y[i]*np.log(preds_proba[i])-(1-Y[i])*np.log(1-preds_proba[i])\n",
    "#     l = sum/N\n",
    "#     return l\n",
    "    \n",
    "    "
   ]
  },
  {
   "cell_type": "markdown",
   "metadata": {},
   "source": [
    "Now, you can implement Stochastic Gradient Descent to learn the weights of your sentiment classifier. The `SGD` function takes as input:\n",
    "\n",
    "- `X_tr`: array of training data (vectors)\n",
    "- `Y_tr`: labels of `X_tr`\n",
    "- `X_dev`: array of development (i.e. validation) data (vectors)\n",
    "- `Y_dev`: labels of `X_dev`\n",
    "- `lr`: learning rate\n",
    "- `alpha`: regularisation strength\n",
    "- `epochs`: number of full passes over the training data\n",
    "- `tolerance`: stop training if the difference between the current and previous validation loss is smaller than a threshold\n",
    "- `print_progress`: flag for printing the training progress (train/validation loss)\n",
    "\n",
    "\n",
    "and returns:\n",
    "\n",
    "- `weights`: the weights learned\n",
    "- `training_loss_history`: an array with the average losses of the whole training set after each epoch\n",
    "- `validation_loss_history`: an array with the average losses of the whole development set after each epoch"
   ]
  },
  {
   "cell_type": "code",
   "execution_count": 410,
   "metadata": {
    "ExecuteTime": {
     "end_time": "2020-02-15T14:17:45.968510Z",
     "start_time": "2020-02-15T14:17:45.958185Z"
    }
   },
   "outputs": [],
   "source": [
    "def SGD(X_tr, Y_tr, X_dev=[], Y_dev=[], loss=\"binary\", lr=0.1, alpha=0.00001, epochs=5, tolerance=0.00001, print_progress=True):\n",
    "    \n",
    "    cur_loss_tr = 1.\n",
    "    cur_loss_dev = 1.\n",
    "    training_loss_history = []\n",
    "    validation_loss_history = []\n",
    "    # initialize w with zeros\n",
    "    m,n = X_tr.shape\n",
    "    weights = np.zeros((n,))\n",
    "    for i in range(epochs):\n",
    "        # randomise order in training Data\n",
    "        permutation = np.random.permutation(m)\n",
    "        shuffled_x = X_tr[permutation,:]\n",
    "        shuffled_y = Y_tr[permutation]\n",
    "        #np.random.seed(i)\n",
    "        #np.random.shuffle(X_tr)\n",
    "        #np.random.seed(i)\n",
    "        #np.random.shuffle(Y_tr)\n",
    "        for j in range(len(shuffled_y)):\n",
    "            h = predict_proba(shuffled_x[j],weights)\n",
    "            error = h - shuffled_y[j]\n",
    "            weights = weights - lr*(error*shuffled_x[j]-2*alpha*weights)\n",
    "        pre_loss_tr = cur_loss_tr\n",
    "        pre_loss_dev = cur_loss_dev\n",
    "        cur_loss_tr = binary_loss(shuffled_x,shuffled_y,weights,alpha)\n",
    "        cur_loss_dev = binary_loss(X_dev,Y_dev,weights,alpha)\n",
    "        training_loss_history.append(cur_loss_tr)\n",
    "        validation_loss_history.append(cur_loss_dev)\n",
    "        if print_progress==True:\n",
    "            print(\"Epoch: \",i,\"| Training loss: \",cur_loss_tr,\"| Validation loss: \",cur_loss_dev)\n",
    "        #if (pre_loss_dev - cur_loss_dev) < tolerance:\n",
    "        #    break\n",
    "        \n",
    "\n",
    "    return weights, training_loss_history, validation_loss_history\n",
    "\n",
    "\n"
   ]
  },
  {
   "cell_type": "markdown",
   "metadata": {},
   "source": [
    "## Train and Evaluate Logistic Regression with Count vectors\n",
    "\n",
    "First train the model using SGD:"
   ]
  },
  {
   "cell_type": "code",
   "execution_count": 411,
   "metadata": {
    "ExecuteTime": {
     "end_time": "2020-02-15T14:17:51.480197Z",
     "start_time": "2020-02-15T14:17:46.362729Z"
    },
    "scrolled": true
   },
   "outputs": [
    {
     "name": "stdout",
     "output_type": "stream",
     "text": [
      "Epoch:  0 | Training loss:  0.6281823225530991 | Validation loss:  0.698813832150588\n",
      "Epoch:  1 | Training loss:  0.584996720410839 | Validation loss:  0.7190481114049703\n",
      "Epoch:  2 | Training loss:  0.5505183277129996 | Validation loss:  0.7325650941476696\n",
      "Epoch:  3 | Training loss:  0.5241446254128813 | Validation loss:  0.7404789478035394\n",
      "Epoch:  4 | Training loss:  0.5018491371557858 | Validation loss:  0.7541291142240623\n",
      "Epoch:  5 | Training loss:  0.48130632415895647 | Validation loss:  0.7870838926331905\n",
      "Epoch:  6 | Training loss:  0.46453134182796774 | Validation loss:  0.7887629191868075\n",
      "Epoch:  7 | Training loss:  0.4496757801998058 | Validation loss:  0.8241136874701125\n",
      "Epoch:  8 | Training loss:  0.4363337563486131 | Validation loss:  0.8412372679946768\n",
      "Epoch:  9 | Training loss:  0.4239349513208474 | Validation loss:  0.8273520249761219\n",
      "Epoch:  10 | Training loss:  0.4151669808945137 | Validation loss:  0.8262266685524098\n",
      "Epoch:  11 | Training loss:  0.4019423174204261 | Validation loss:  0.8741135551746366\n",
      "Epoch:  12 | Training loss:  0.392497117013151 | Validation loss:  0.8692502108286702\n",
      "Epoch:  13 | Training loss:  0.38371907220279783 | Validation loss:  0.9024596538230503\n",
      "Epoch:  14 | Training loss:  0.37557027149786837 | Validation loss:  0.8881340728403839\n",
      "Epoch:  15 | Training loss:  0.36733556775405546 | Validation loss:  0.912775168369929\n",
      "Epoch:  16 | Training loss:  0.3600299561409001 | Validation loss:  0.9223039499502099\n",
      "Epoch:  17 | Training loss:  0.3531243083813832 | Validation loss:  0.9354851092361531\n",
      "Epoch:  18 | Training loss:  0.34663655215740125 | Validation loss:  0.9391737862670964\n",
      "Epoch:  19 | Training loss:  0.34044569977464845 | Validation loss:  0.9493063798277825\n",
      "Epoch:  20 | Training loss:  0.33472228680148575 | Validation loss:  0.9759279657042448\n",
      "Epoch:  21 | Training loss:  0.32893104843229626 | Validation loss:  0.9790682653849627\n",
      "Epoch:  22 | Training loss:  0.3235004253307294 | Validation loss:  0.982870831986545\n",
      "Epoch:  23 | Training loss:  0.3184712826383085 | Validation loss:  1.000293189970231\n",
      "Epoch:  24 | Training loss:  0.313489125091338 | Validation loss:  0.9931885032642238\n",
      "Epoch:  25 | Training loss:  0.30890327685766755 | Validation loss:  0.9957421285633298\n",
      "Epoch:  26 | Training loss:  0.3042550683814835 | Validation loss:  1.0086790877595229\n",
      "Epoch:  27 | Training loss:  0.300773587132101 | Validation loss:  1.054902996368604\n",
      "Epoch:  28 | Training loss:  0.29562943047565937 | Validation loss:  1.0287755816074746\n",
      "Epoch:  29 | Training loss:  0.29155723459491845 | Validation loss:  1.0394089033355756\n",
      "Epoch:  30 | Training loss:  0.28774791898713076 | Validation loss:  1.0584354340542443\n",
      "Epoch:  31 | Training loss:  0.2838899198625786 | Validation loss:  1.0498372763911126\n",
      "Epoch:  32 | Training loss:  0.2816707268645866 | Validation loss:  1.1039965753773933\n",
      "Epoch:  33 | Training loss:  0.27667114050886 | Validation loss:  1.0742910305054467\n",
      "Epoch:  34 | Training loss:  0.2734067723165111 | Validation loss:  1.0630250558841174\n",
      "Epoch:  35 | Training loss:  0.2708901213657345 | Validation loss:  1.0514971188624598\n",
      "Epoch:  36 | Training loss:  0.267188718048272 | Validation loss:  1.1164559019004114\n",
      "Epoch:  37 | Training loss:  0.2636885136139126 | Validation loss:  1.0846906273056431\n",
      "Epoch:  38 | Training loss:  0.26050713150452354 | Validation loss:  1.1017350287949454\n",
      "Epoch:  39 | Training loss:  0.25758048049247334 | Validation loss:  1.1183740563932394\n",
      "Epoch:  40 | Training loss:  0.2547429416439766 | Validation loss:  1.107694028033844\n",
      "Epoch:  41 | Training loss:  0.2518653046373468 | Validation loss:  1.1241857735477807\n",
      "Epoch:  42 | Training loss:  0.2491575879719822 | Validation loss:  1.1249145837962407\n",
      "Epoch:  43 | Training loss:  0.24699939439324886 | Validation loss:  1.1645698905447797\n",
      "Epoch:  44 | Training loss:  0.24406617917519863 | Validation loss:  1.1275419083128653\n",
      "Epoch:  45 | Training loss:  0.24138600793318252 | Validation loss:  1.143885949769108\n",
      "Epoch:  46 | Training loss:  0.239090228619711 | Validation loss:  1.1385631814280706\n",
      "Epoch:  47 | Training loss:  0.2365500131291622 | Validation loss:  1.1517905877779337\n",
      "Epoch:  48 | Training loss:  0.23414865222212378 | Validation loss:  1.1708223379364413\n",
      "Epoch:  49 | Training loss:  0.2318431114077399 | Validation loss:  1.171747825301633\n",
      "Epoch:  50 | Training loss:  0.22963537331543368 | Validation loss:  1.1708109848399813\n",
      "Epoch:  51 | Training loss:  0.22745754646922156 | Validation loss:  1.1938581197159852\n",
      "Epoch:  52 | Training loss:  0.22542002953227488 | Validation loss:  1.1733469676759427\n",
      "Epoch:  53 | Training loss:  0.22336092297418889 | Validation loss:  1.2144761116150349\n",
      "Epoch:  54 | Training loss:  0.22110441652624474 | Validation loss:  1.2014697164159864\n",
      "Epoch:  55 | Training loss:  0.2191837850329345 | Validation loss:  1.1934444240091384\n",
      "Epoch:  56 | Training loss:  0.21715416428970413 | Validation loss:  1.2039800571686934\n",
      "Epoch:  57 | Training loss:  0.21550958686241103 | Validation loss:  1.1928961516442038\n",
      "Epoch:  58 | Training loss:  0.21342266498533904 | Validation loss:  1.2376895407105486\n",
      "Epoch:  59 | Training loss:  0.21154922959059222 | Validation loss:  1.2415676402360736\n",
      "Epoch:  60 | Training loss:  0.2096433711878625 | Validation loss:  1.2376704468401882\n",
      "Epoch:  61 | Training loss:  0.2079346812229409 | Validation loss:  1.2246998943403242\n",
      "Epoch:  62 | Training loss:  0.2061052065657815 | Validation loss:  1.2463806691541115\n",
      "Epoch:  63 | Training loss:  0.20438436993212178 | Validation loss:  1.250173095479459\n",
      "Epoch:  64 | Training loss:  0.2027015017505594 | Validation loss:  1.2559262367834974\n",
      "Epoch:  65 | Training loss:  0.20105703330241187 | Validation loss:  1.2628917560150557\n",
      "Epoch:  66 | Training loss:  0.19945937273619835 | Validation loss:  1.253597395609491\n",
      "Epoch:  67 | Training loss:  0.19808159018808347 | Validation loss:  1.2914793051215172\n",
      "Epoch:  68 | Training loss:  0.19626784708618272 | Validation loss:  1.276390829624028\n",
      "Epoch:  69 | Training loss:  0.19491166220184417 | Validation loss:  1.2564133343439123\n",
      "Epoch:  70 | Training loss:  0.19322403311275715 | Validation loss:  1.2756920491682202\n",
      "Epoch:  71 | Training loss:  0.19176578362972013 | Validation loss:  1.2967688216518842\n",
      "Epoch:  72 | Training loss:  0.19045252988668765 | Validation loss:  1.270116925887166\n",
      "Epoch:  73 | Training loss:  0.18882229957250607 | Validation loss:  1.2964347325819185\n",
      "Epoch:  74 | Training loss:  0.1874964856827569 | Validation loss:  1.3151644609369324\n",
      "Epoch:  75 | Training loss:  0.18615120339052213 | Validation loss:  1.3232784634605446\n",
      "Epoch:  76 | Training loss:  0.18465185061649877 | Validation loss:  1.3065415960629079\n",
      "Epoch:  77 | Training loss:  0.18340372615190814 | Validation loss:  1.3301207705480909\n",
      "Epoch:  78 | Training loss:  0.18197658212538162 | Validation loss:  1.320126195057938\n",
      "Epoch:  79 | Training loss:  0.1806871025631362 | Validation loss:  1.3164404724953351\n",
      "Epoch:  80 | Training loss:  0.17938757861704777 | Validation loss:  1.3284316599015773\n",
      "Epoch:  81 | Training loss:  0.17812221039074672 | Validation loss:  1.3324696904547997\n",
      "Epoch:  82 | Training loss:  0.17695315736922432 | Validation loss:  1.350200607690209\n",
      "Epoch:  83 | Training loss:  0.17569344256314368 | Validation loss:  1.3292169562999712\n",
      "Epoch:  84 | Training loss:  0.174483179029863 | Validation loss:  1.3335061661859475\n",
      "Epoch:  85 | Training loss:  0.1732615290624576 | Validation loss:  1.3427142171287014\n",
      "Epoch:  86 | Training loss:  0.17212692673355612 | Validation loss:  1.340753990743355\n",
      "Epoch:  87 | Training loss:  0.17093799565437862 | Validation loss:  1.364152150606503\n",
      "Epoch:  88 | Training loss:  0.1698231046920149 | Validation loss:  1.3497102978868325\n",
      "Epoch:  89 | Training loss:  0.16867516543648942 | Validation loss:  1.3574798115539293\n",
      "Epoch:  90 | Training loss:  0.1676013259330159 | Validation loss:  1.3816883210086308\n",
      "Epoch:  91 | Training loss:  0.1664652343900486 | Validation loss:  1.3674895707547938\n",
      "Epoch:  92 | Training loss:  0.1653891916491177 | Validation loss:  1.3710294180464382\n",
      "Epoch:  93 | Training loss:  0.16431510316292916 | Validation loss:  1.3832452892026785\n",
      "Epoch:  94 | Training loss:  0.16326592785036642 | Validation loss:  1.386132894289383\n"
     ]
    },
    {
     "name": "stdout",
     "output_type": "stream",
     "text": [
      "Epoch:  95 | Training loss:  0.1623147909568556 | Validation loss:  1.373198751701486\n",
      "Epoch:  96 | Training loss:  0.16121546042325974 | Validation loss:  1.3966812075631803\n",
      "Epoch:  97 | Training loss:  0.16032049422308703 | Validation loss:  1.3779969361053375\n",
      "Epoch:  98 | Training loss:  0.15921887640176705 | Validation loss:  1.4056542605334752\n",
      "Epoch:  99 | Training loss:  0.1582450675844175 | Validation loss:  1.397910122301848\n"
     ]
    }
   ],
   "source": [
    "w_count, loss_tr_count, dev_loss_count = SGD(X_tr_count, Y_tr, \n",
    "                                             X_dev=X_de_count, \n",
    "                                             Y_dev=Y_de, \n",
    "                                             lr=0.0001, \n",
    "                                             alpha=0.001, \n",
    "                                             epochs=100\n",
    "                                             )"
   ]
  },
  {
   "cell_type": "markdown",
   "metadata": {},
   "source": [
    "Now plot the training and validation history per epoch. Does your model underfit, overfit or is it about right? Explain why."
   ]
  },
  {
   "cell_type": "code",
   "execution_count": 412,
   "metadata": {
    "ExecuteTime": {
     "end_time": "2020-02-15T14:17:51.598911Z",
     "start_time": "2020-02-15T14:17:51.482307Z"
    }
   },
   "outputs": [
    {
     "data": {
      "image/png": "[encoded data removed]",
      "text/plain": [
       "<Figure size 432x288 with 1 Axes>"
      ]
     },
     "metadata": {
      "needs_background": "light"
     },
     "output_type": "display_data"
    }
   ],
   "source": [
    "from scipy.interpolate import UnivariateSpline\n",
    "epochs = []\n",
    "for i in range(len(loss_tr_count)):\n",
    "    epochs.append(i)\n",
    "xnew = np.linspace(min(epochs),max(epochs),100)\n",
    "loss_tr_smooth = UnivariateSpline(epochs,loss_tr_count)\n",
    "loss_dev_smooth = UnivariateSpline(epochs,dev_loss_count)\n",
    "plt.plot(xnew, loss_tr_smooth(xnew), color='blue', label='training loss')\n",
    "plt.plot(xnew, loss_dev_smooth(xnew), color='orange', label='validation loss')\n",
    "plt.legend()\n",
    "plt.title('Training Monitoring')\n",
    "plt.xlabel('Loss')\n",
    "plt.ylabel('Epochs')\n",
    "plt.show()"
   ]
  },
  {
   "cell_type": "markdown",
   "metadata": {
    "ExecuteTime": {
     "end_time": "2020-01-21T16:52:26.583150Z",
     "start_time": "2020-01-21T16:52:26.578754Z"
    }
   },
   "source": [
    "Explain here..."
   ]
  },
  {
   "cell_type": "markdown",
   "metadata": {},
   "source": [
    "Compute accuracy, precision, recall and F1-scores:"
   ]
  },
  {
   "cell_type": "code",
   "execution_count": 413,
   "metadata": {
    "ExecuteTime": {
     "end_time": "2020-02-15T14:37:40.569499Z",
     "start_time": "2020-02-15T14:37:40.566796Z"
    }
   },
   "outputs": [
    {
     "name": "stdout",
     "output_type": "stream",
     "text": [
      "Accuracy: 0.8325\n",
      "Precision: 0.8275862068965517\n",
      "Recall: 0.84\n",
      "F1-Score: 0.8337468982630273\n"
     ]
    }
   ],
   "source": [
    "# fill in your code...\n",
    "preds_te_count = predict_class(X_te_count, w_count)\n",
    "print('Accuracy:', accuracy_score(Y_te,preds_te_count))\n",
    "print('Precision:', precision_score(Y_te,preds_te_count))\n",
    "print('Recall:', recall_score(Y_te,preds_te_count))\n",
    "print('F1-Score:', f1_score(Y_te,preds_te_count))"
   ]
  },
  {
   "cell_type": "markdown",
   "metadata": {},
   "source": [
    "Finally, print the top-10 words for the negative and positive class respectively."
   ]
  },
  {
   "cell_type": "code",
   "execution_count": 254,
   "metadata": {
    "ExecuteTime": {
     "end_time": "2020-02-15T14:37:07.638179Z",
     "start_time": "2020-02-15T14:37:07.635838Z"
    }
   },
   "outputs": [],
   "source": [
    "# fill in your code..."
   ]
  },
  {
   "cell_type": "code",
   "execution_count": 255,
   "metadata": {
    "ExecuteTime": {
     "end_time": "2020-02-15T14:37:08.381103Z",
     "start_time": "2020-02-15T14:37:08.378641Z"
    }
   },
   "outputs": [],
   "source": [
    "# fill in your code..."
   ]
  },
  {
   "cell_type": "markdown",
   "metadata": {},
   "source": [
    "If we were to apply the classifier we've learned into a different domain such laptop reviews or restaurant reviews, do you think these features would generalise well? Can you propose what features the classifier could pick up as important in the new domain?"
   ]
  },
  {
   "cell_type": "markdown",
   "metadata": {},
   "source": [
    "Provide your answer here..."
   ]
  },
  {
   "cell_type": "markdown",
   "metadata": {},
   "source": [
    "## Train and Evaluate Logistic Regression with TF.IDF vectors\n",
    "\n",
    "Follow the same steps as above (i.e. evaluating count n-gram representations).\n"
   ]
  },
  {
   "cell_type": "code",
   "execution_count": 414,
   "metadata": {
    "ExecuteTime": {
     "end_time": "2020-02-15T14:17:54.414637Z",
     "start_time": "2020-02-15T14:17:51.625934Z"
    },
    "scrolled": true
   },
   "outputs": [
    {
     "name": "stdout",
     "output_type": "stream",
     "text": [
      "Epoch:  0 | Training loss:  0.6388183708085974 | Validation loss:  0.7083636181663084\n",
      "Epoch:  1 | Training loss:  0.5970925079496726 | Validation loss:  0.7181228442223744\n",
      "Epoch:  2 | Training loss:  0.5624445795057603 | Validation loss:  0.7364089118384327\n",
      "Epoch:  3 | Training loss:  0.5332635288885383 | Validation loss:  0.7518686366425308\n",
      "Epoch:  4 | Training loss:  0.5081453751907172 | Validation loss:  0.7679831127622405\n",
      "Epoch:  5 | Training loss:  0.4861286287515611 | Validation loss:  0.7858712866143207\n",
      "Epoch:  6 | Training loss:  0.4666548834628832 | Validation loss:  0.7999495196642169\n",
      "Epoch:  7 | Training loss:  0.4492051407016671 | Validation loss:  0.8145130814638503\n",
      "Epoch:  8 | Training loss:  0.433444269964792 | Validation loss:  0.8288276896400382\n",
      "Epoch:  9 | Training loss:  0.41908118109592357 | Validation loss:  0.8442997462661497\n",
      "Epoch:  10 | Training loss:  0.4059431641210956 | Validation loss:  0.8621615418742767\n",
      "Epoch:  11 | Training loss:  0.39383061917595374 | Validation loss:  0.8693344269480248\n",
      "Epoch:  12 | Training loss:  0.38264226690866676 | Validation loss:  0.8791393206973224\n",
      "Epoch:  13 | Training loss:  0.37218013944077466 | Validation loss:  0.8944724510192509\n",
      "Epoch:  14 | Training loss:  0.36243492706906894 | Validation loss:  0.9098992693589476\n",
      "Epoch:  15 | Training loss:  0.3533172802064483 | Validation loss:  0.9243015984029909\n",
      "Epoch:  16 | Training loss:  0.3447500359236678 | Validation loss:  0.9366940362607491\n",
      "Epoch:  17 | Training loss:  0.3366659223159173 | Validation loss:  0.9463520195630136\n",
      "Epoch:  18 | Training loss:  0.32903340652108803 | Validation loss:  0.9561494877655826\n",
      "Epoch:  19 | Training loss:  0.32180845405107783 | Validation loss:  0.9663598151500322\n",
      "Epoch:  20 | Training loss:  0.3149592939940328 | Validation loss:  0.9799235618892485\n",
      "Epoch:  21 | Training loss:  0.30843880255443973 | Validation loss:  0.9895524353120745\n",
      "Epoch:  22 | Training loss:  0.3022236475195891 | Validation loss:  0.9953580078901418\n",
      "Epoch:  23 | Training loss:  0.29631131157117313 | Validation loss:  1.0098456679661918\n",
      "Epoch:  24 | Training loss:  0.29064281559914806 | Validation loss:  1.0157247016468498\n",
      "Epoch:  25 | Training loss:  0.2852363797766313 | Validation loss:  1.02759009218491\n",
      "Epoch:  26 | Training loss:  0.28004171714241916 | Validation loss:  1.0342305094550879\n",
      "Epoch:  27 | Training loss:  0.27506665604078767 | Validation loss:  1.0432362982509211\n",
      "Epoch:  28 | Training loss:  0.27028986501013 | Validation loss:  1.052894770896328\n",
      "Epoch:  29 | Training loss:  0.26568708121503365 | Validation loss:  1.057958508919529\n",
      "Epoch:  30 | Training loss:  0.26126621128103333 | Validation loss:  1.0670144051823538\n",
      "Epoch:  31 | Training loss:  0.2570054278141987 | Validation loss:  1.073755305278176\n",
      "Epoch:  32 | Training loss:  0.25289806226125394 | Validation loss:  1.0805816906468662\n",
      "Epoch:  33 | Training loss:  0.24893717631404716 | Validation loss:  1.091116090877394\n",
      "Epoch:  34 | Training loss:  0.24510633272101065 | Validation loss:  1.0955221441604968\n",
      "Epoch:  35 | Training loss:  0.24140883042000288 | Validation loss:  1.099201415161032\n",
      "Epoch:  36 | Training loss:  0.23782973895984477 | Validation loss:  1.1064958571605663\n",
      "Epoch:  37 | Training loss:  0.23436398604009265 | Validation loss:  1.117350644369257\n",
      "Epoch:  38 | Training loss:  0.23100916430989946 | Validation loss:  1.1250126270539063\n",
      "Epoch:  39 | Training loss:  0.22775829529131528 | Validation loss:  1.1324821625878172\n",
      "Epoch:  40 | Training loss:  0.22460413277122862 | Validation loss:  1.1374642300930935\n",
      "Epoch:  41 | Training loss:  0.22154439679355317 | Validation loss:  1.1429350330058161\n",
      "Epoch:  42 | Training loss:  0.2185727417133976 | Validation loss:  1.1500393021724995\n",
      "Epoch:  43 | Training loss:  0.21568719724544086 | Validation loss:  1.1587900440395225\n",
      "Epoch:  44 | Training loss:  0.21288143355713682 | Validation loss:  1.1646182891878254\n",
      "Epoch:  45 | Training loss:  0.2101540881062873 | Validation loss:  1.1715591701188197\n",
      "Epoch:  46 | Training loss:  0.20750004562587873 | Validation loss:  1.1762113334828117\n",
      "Epoch:  47 | Training loss:  0.20491749876187393 | Validation loss:  1.1823461410665508\n",
      "Epoch:  48 | Training loss:  0.20240269400660188 | Validation loss:  1.1893067004085431\n",
      "Epoch:  49 | Training loss:  0.19995255249779043 | Validation loss:  1.1952258816594596\n"
     ]
    }
   ],
   "source": [
    "w_tfidf, trl, devl = SGD(X_tr_tfidf, Y_tr, \n",
    "                         X_dev=X_de_tfidf, \n",
    "                         Y_dev=Y_de, \n",
    "                         lr=0.0001, \n",
    "                         alpha=0.00001, \n",
    "                         epochs=50)"
   ]
  },
  {
   "cell_type": "markdown",
   "metadata": {},
   "source": [
    "Now plot the training and validation history per epoch. Does your model underfit, overfit or is it about right? Explain why."
   ]
  },
  {
   "cell_type": "code",
   "execution_count": 415,
   "metadata": {
    "ExecuteTime": {
     "end_time": "2020-02-15T14:17:54.517668Z",
     "start_time": "2020-02-15T14:17:54.417118Z"
    }
   },
   "outputs": [
    {
     "data": {
      "image/png": "[encoded data removed]",
      "text/plain": [
       "<Figure size 432x288 with 1 Axes>"
      ]
     },
     "metadata": {
      "needs_background": "light"
     },
     "output_type": "display_data"
    }
   ],
   "source": [
    "# fill in your code...\n",
    "from scipy.interpolate import UnivariateSpline\n",
    "epochs = []\n",
    "for i in range(len(trl)):\n",
    "    epochs.append(i)\n",
    "xnew = np.linspace(min(epochs),max(epochs),100)\n",
    "loss_tr_smooth = UnivariateSpline(epochs,trl)\n",
    "loss_dev_smooth = UnivariateSpline(epochs,devl)\n",
    "plt.plot(xnew, loss_tr_smooth(xnew), color='blue', label='training loss')\n",
    "plt.plot(xnew, loss_dev_smooth(xnew), color='orange', label='validation loss')\n",
    "plt.legend()\n",
    "plt.title('Training Monitoring')\n",
    "plt.xlabel('Loss')\n",
    "plt.ylabel('Epochs')\n",
    "plt.show()"
   ]
  },
  {
   "cell_type": "markdown",
   "metadata": {},
   "source": [
    "Compute accuracy, precision, recall and F1-scores:"
   ]
  },
  {
   "cell_type": "code",
   "execution_count": 416,
   "metadata": {
    "ExecuteTime": {
     "end_time": "2020-02-15T14:37:56.489814Z",
     "start_time": "2020-02-15T14:37:56.487014Z"
    }
   },
   "outputs": [
    {
     "name": "stdout",
     "output_type": "stream",
     "text": [
      "Accuracy: 0.8225\n",
      "Precision: 0.9271523178807947\n",
      "Recall: 0.7\n",
      "F1-Score: 0.7977207977207977\n"
     ]
    }
   ],
   "source": [
    "# fill in your code...\n",
    "preds_te = predict_class(X_te_tfidf, w_tfidf)\n",
    "print('Accuracy:', accuracy_score(Y_te,preds_te))\n",
    "print('Precision:', precision_score(Y_te,preds_te))\n",
    "print('Recall:', recall_score(Y_te,preds_te))\n",
    "print('F1-Score:', f1_score(Y_te,preds_te))"
   ]
  },
  {
   "cell_type": "markdown",
   "metadata": {},
   "source": [
    "Print top-10 most positive and negative words:"
   ]
  },
  {
   "cell_type": "code",
   "execution_count": 13,
   "metadata": {
    "ExecuteTime": {
     "end_time": "2020-02-15T14:38:17.845485Z",
     "start_time": "2020-02-15T14:38:17.842557Z"
    }
   },
   "outputs": [],
   "source": [
    "# fill in your code..."
   ]
  },
  {
   "cell_type": "code",
   "execution_count": 14,
   "metadata": {
    "ExecuteTime": {
     "end_time": "2020-02-15T14:38:22.781128Z",
     "start_time": "2020-02-15T14:38:22.778590Z"
    }
   },
   "outputs": [],
   "source": [
    "# fill in your code..."
   ]
  },
  {
   "cell_type": "markdown",
   "metadata": {},
   "source": [
    "### Discuss how did you choose model hyperparameters (e.g. learning rate and regularisation strength)? What is the relation between training epochs and learning rate? How the regularisation strength affects performance?"
   ]
  },
  {
   "cell_type": "markdown",
   "metadata": {},
   "source": [
    "Enter your answer here..."
   ]
  },
  {
   "cell_type": "markdown",
   "metadata": {},
   "source": [
    "\n",
    "\n",
    "## Full Results\n",
    "\n",
    "Add here your results:\n",
    "\n",
    "| LR | Precision  | Recall  | F1-Score  |\n",
    "|:-:|:-:|:-:|:-:|\n",
    "| BOW-count  |   |   |   |\n",
    "| BOW-tfidf  |   |   |   |\n"
   ]
  },
  {
   "cell_type": "markdown",
   "metadata": {},
   "source": [
    "# Multi-class Logistic Regression \n",
    "\n",
    "Now you need to train a Multiclass Logistic Regression (MLR) Classifier by extending the Binary model you developed above. You will use the MLR model to perform topic classification on the AG news dataset consisting of three classes:"
   ]
  },
  {
   "cell_type": "markdown",
   "metadata": {},
   "source": [
    "- Class 1: World\n",
    "- Class 2: Sports\n",
    "- Class 3: Business"
   ]
  },
  {
   "cell_type": "markdown",
   "metadata": {},
   "source": [
    "You need to follow the same process as in Task 1 for data processing and feature extraction by reusing the functions you wrote."
   ]
  },
  {
   "cell_type": "code",
   "execution_count": 824,
   "metadata": {
    "ExecuteTime": {
     "end_time": "2020-02-15T14:18:03.212229Z",
     "start_time": "2020-02-15T14:18:03.185261Z"
    }
   },
   "outputs": [],
   "source": [
    "# fill in your code...\n",
    "data_tr = pd.read_csv('./data_topic/train.csv',header=None,names=['label','text'])\n",
    "data_te = pd.read_csv('./data_topic/test.csv',header=None,names=['label','text'])\n",
    "data_de = pd.read_csv('./data_topic/dev.csv',header=None,names=['label','text'])"
   ]
  },
  {
   "cell_type": "code",
   "execution_count": 825,
   "metadata": {
    "ExecuteTime": {
     "end_time": "2020-02-15T14:18:03.515585Z",
     "start_time": "2020-02-15T14:18:03.508299Z"
    }
   },
   "outputs": [
    {
     "data": {
      "text/html": [
       "<div>\n",
       "<style scoped>\n",
       "    .dataframe tbody tr th:only-of-type {\n",
       "        vertical-align: middle;\n",
       "    }\n",
       "\n",
       "    .dataframe tbody tr th {\n",
       "        vertical-align: top;\n",
       "    }\n",
       "\n",
       "    .dataframe thead th {\n",
       "        text-align: right;\n",
       "    }\n",
       "</style>\n",
       "<table border=\"1\" class=\"dataframe\">\n",
       "  <thead>\n",
       "    <tr style=\"text-align: right;\">\n",
       "      <th></th>\n",
       "      <th>label</th>\n",
       "      <th>text</th>\n",
       "    </tr>\n",
       "  </thead>\n",
       "  <tbody>\n",
       "    <tr>\n",
       "      <th>0</th>\n",
       "      <td>1</td>\n",
       "      <td>Reuters - Venezuelans turned out early\\and in ...</td>\n",
       "    </tr>\n",
       "    <tr>\n",
       "      <th>1</th>\n",
       "      <td>1</td>\n",
       "      <td>Reuters - South Korean police used water canno...</td>\n",
       "    </tr>\n",
       "    <tr>\n",
       "      <th>2</th>\n",
       "      <td>1</td>\n",
       "      <td>Reuters - Thousands of Palestinian\\prisoners i...</td>\n",
       "    </tr>\n",
       "    <tr>\n",
       "      <th>3</th>\n",
       "      <td>1</td>\n",
       "      <td>AFP - Sporadic gunfire and shelling took place...</td>\n",
       "    </tr>\n",
       "    <tr>\n",
       "      <th>4</th>\n",
       "      <td>1</td>\n",
       "      <td>AP - Dozens of Rwandan soldiers flew into Suda...</td>\n",
       "    </tr>\n",
       "  </tbody>\n",
       "</table>\n",
       "</div>"
      ],
      "text/plain": [
       "   label                                               text\n",
       "0      1  Reuters - Venezuelans turned out early\\and in ...\n",
       "1      1  Reuters - South Korean police used water canno...\n",
       "2      1  Reuters - Thousands of Palestinian\\prisoners i...\n",
       "3      1  AFP - Sporadic gunfire and shelling took place...\n",
       "4      1  AP - Dozens of Rwandan soldiers flew into Suda..."
      ]
     },
     "execution_count": 825,
     "metadata": {},
     "output_type": "execute_result"
    }
   ],
   "source": [
    "data_tr.head()"
   ]
  },
  {
   "cell_type": "code",
   "execution_count": 826,
   "metadata": {
    "ExecuteTime": {
     "end_time": "2020-02-15T14:18:03.806523Z",
     "start_time": "2020-02-15T14:18:03.798279Z"
    }
   },
   "outputs": [],
   "source": [
    "# fill in your code...\n",
    "#train data transformation\n",
    "X_tr_raw = data_tr['text'].tolist()\n",
    "Y_tr = np.array(data_tr['label'])\n",
    "#test data transformatino\n",
    "X_te_raw = data_te['text'].tolist()\n",
    "Y_te = np.array(data_te['label'])\n",
    "#development data transformation\n",
    "X_de_raw = data_de['text'].tolist()\n",
    "Y_de = np.array(data_de['label'])"
   ]
  },
  {
   "cell_type": "code",
   "execution_count": 827,
   "metadata": {
    "ExecuteTime": {
     "end_time": "2020-02-15T14:18:04.508938Z",
     "start_time": "2020-02-15T14:18:04.171071Z"
    }
   },
   "outputs": [
    {
     "name": "stdout",
     "output_type": "stream",
     "text": [
      "5000\n",
      "\n",
      "[('tellers', 'other'), 'expectations', 'night', 'finances', 'wait', ('berdych', 'czech', 'republic'), 'output', ('one', 'country'), ('evening', 'freestyle'), 'same', ('individual', 'time', 'trial'), 'allen', 'stayed', 'miles', 'north', ('york', 'august'), 'dutch', 'tournament', ('check', 'july'), ('gorda', 'fla'), ('out', 'prospective'), 'networks', ('most', 'anticipated'), ('cleric', 'moqtada', 'al'), 'ready', ('men', 'arrested'), ('share', 'per'), 'season', 'mail', ('canadian', 'mounted', 'police'), 'owen', 'off', 'holiest', 'strength', 'opportunity', ('costco', 'wholesale'), ('chicago', 'white', 'sox'), 'outfielder', ('western', 'province'), 'carrier', 'testing', 'setback', 'reported', ('biggest', 'bank'), 'advantage', ('financial', 'services'), ('last', 'ditch'), 'schedule', ('largest', 'food'), 'illinois', 'investigated', 'thing', 'identified', 'swisscom', 'rally', ('helped', 'boost'), ('lt', 'href', 'http'), ('homes', 'west', 'bank'), ('chancellor', 'gerhard', 'schroeder'), 'provider', 'ching', ('won', 'first', 'fencing'), 'blair', ('more', 'time', 'resolve'), 'eased', ('back', 'into'), ('rebound', 'housing', 'market'), 'non', 'vs', ('baltimore', 'orioles'), ('interest', 'rates', 'fell'), ('aspx', 'ticker', 'goog'), 'keep', ('state', 'department'), ('watched', 'initial'), ('may', 'not'), ('punta', 'gorda'), ('months', 'industry'), ('tuesday', 'allowed'), ('shrugged', 'off'), 'charge', ('future', 'invoices', 'halliburton'), 'company', 'hits', ('drug', 'test'), 'terrorists', 'xinhuanet', 'capacity', 'caracas', 'chinese', 'last', ('eight', 'months', 'sharp'), 'competing', 'sox', 'raise', 'short', ('home', 'improvement'), ('million', 'people'), ('army', 'said'), ('us', 'amateur')]\n",
      "\n",
      "[('reuters', 631), ('said', 432), ('tuesday', 413), ('wednesday', 344), ('new', 325), ('after', 295), ('ap', 275), ('athens', 245), ('monday', 221), ('first', 210)]\n"
     ]
    }
   ],
   "source": [
    "vocab, df, ngram_counts = get_vocab(X_tr_raw, ngram_range=(1,3), keep_topN=5000, stop_words=stop_words)\n",
    "print(len(vocab))\n",
    "print()\n",
    "print(list(vocab)[:100])\n",
    "print()\n",
    "print(df.most_common()[:10])"
   ]
  },
  {
   "cell_type": "code",
   "execution_count": 828,
   "metadata": {},
   "outputs": [],
   "source": [
    "vocab_tr, df_tr, ngram_counts_tr = get_vocab(X_tr_raw, ngram_range=(1,3),keep_topN=5000,min_df=1,stop_words=stop_words)\n",
    "vocab_te, df_te, ngram_counts_te= get_vocab(X_te_raw, ngram_range=(1,3),keep_topN=5000,min_df=1,stop_words=stop_words)\n",
    "vocab_de, df_de, ngram_counts_de = get_vocab(X_de_raw, ngram_range=(1,3),keep_topN=5000,min_df=1,stop_words=stop_words)"
   ]
  },
  {
   "cell_type": "code",
   "execution_count": 829,
   "metadata": {
    "ExecuteTime": {
     "end_time": "2020-02-15T14:18:04.706802Z",
     "start_time": "2020-02-15T14:18:04.511061Z"
    }
   },
   "outputs": [],
   "source": [
    "# fill in your code...\n",
    "X_tr_ngram = get_X_ngram(X_tr_raw,vocab_tr,ngram_range=(1,3), token_pattern=r'\\b[A-Za-z][A-Za-z]+\\b',stop_words=stop_words)\n",
    "X_te_ngram = get_X_ngram(X_te_raw,vocab_te,ngram_range=(1,3), token_pattern=r'\\b[A-Za-z][A-Za-z]+\\b',stop_words=stop_words)\n",
    "X_de_ngram = get_X_ngram(X_de_raw,vocab_de,ngram_range=(1,3), token_pattern=r'\\b[A-Za-z][A-Za-z]+\\b',stop_words=stop_words)"
   ]
  },
  {
   "cell_type": "code",
   "execution_count": 830,
   "metadata": {},
   "outputs": [],
   "source": [
    "X_tr_count = vectorise(X_tr_ngram, vocab_tr)\n",
    "X_te_count = vectorise(X_te_ngram, vocab_te)\n",
    "X_de_count = vectorise(X_de_ngram, vocab_de)"
   ]
  },
  {
   "cell_type": "code",
   "execution_count": 831,
   "metadata": {},
   "outputs": [],
   "source": [
    "tr_idf = get_idf(X_tr_raw,vocab_tr,df_tr)\n",
    "te_idf = get_idf(X_te_raw,vocab_te,df_te)\n",
    "de_idf = get_idf(X_de_raw,vocab_de,df_de)\n",
    "X_tr_tfidf = X_tr_count*tr_idf\n",
    "X_te_tfidf = X_te_count*te_idf\n",
    "X_de_tfidf = X_de_count*de_idf"
   ]
  },
  {
   "cell_type": "markdown",
   "metadata": {},
   "source": [
    "Now you need to change `SGD` to support multiclass datasets. First you need to develop a `softmax` function. It takes as input:\n",
    "\n",
    "- `z`: array of real numbers \n",
    "\n",
    "and returns:\n",
    "\n",
    "- `smax`: the softmax of `z`"
   ]
  },
  {
   "cell_type": "code",
   "execution_count": 832,
   "metadata": {
    "ExecuteTime": {
     "end_time": "2020-02-15T14:18:07.440998Z",
     "start_time": "2020-02-15T14:18:07.437915Z"
    }
   },
   "outputs": [],
   "source": [
    "def softmax(z):\n",
    "    \n",
    "    # fill in your code...\n",
    "    m = z.shape[0]\n",
    "    n = z.shape[1]\n",
    "    smax = np.zeros((m,n))\n",
    "    for i in range(len(smax)):\n",
    "        smax[i] = np.exp(z[i])/np.sum(np.exp(z[i]))\n",
    "    return smax"
   ]
  },
  {
   "cell_type": "markdown",
   "metadata": {},
   "source": [
    "Then modify `predict_proba` and `predict_class` functions for the multiclass case:"
   ]
  },
  {
   "cell_type": "code",
   "execution_count": 833,
   "metadata": {
    "ExecuteTime": {
     "end_time": "2020-02-15T14:18:07.445451Z",
     "start_time": "2020-02-15T14:18:07.442851Z"
    }
   },
   "outputs": [],
   "source": [
    "def predict_proba(X, weights):\n",
    "    \n",
    "    # fill in your code...\n",
    "    preds_proba = softmax(np.dot(X,weights.T))\n",
    "    \n",
    "    return preds_proba"
   ]
  },
  {
   "cell_type": "code",
   "execution_count": 834,
   "metadata": {
    "ExecuteTime": {
     "end_time": "2020-02-15T14:18:07.449814Z",
     "start_time": "2020-02-15T14:18:07.447145Z"
    }
   },
   "outputs": [],
   "source": [
    "def predict_class(X, weights):\n",
    "    \n",
    "    # fill in your code...\n",
    "    n = X.shape[0]\n",
    "    preds_class = np.zeros((n,)).astype(int)\n",
    "    preds_proba = predict_proba(X, weights)\n",
    "    for i in range(len(preds_proba)):\n",
    "        pred_class = np.where(preds_proba[i]==np.max(preds_proba[i]))[0][0] + 1\n",
    "        preds_class[i] = pred_class\n",
    "        \n",
    "    return preds_class"
   ]
  },
  {
   "cell_type": "markdown",
   "metadata": {},
   "source": [
    "Toy example and expected functionality of the functions above:"
   ]
  },
  {
   "cell_type": "code",
   "execution_count": 835,
   "metadata": {},
   "outputs": [],
   "source": [
    "X = np.array([[0.1,0.2],[0.2,0.1],[0.1,-0.2]])\n",
    "w = np.array([[2,-5],[-5,2]])"
   ]
  },
  {
   "cell_type": "code",
   "execution_count": 836,
   "metadata": {},
   "outputs": [
    {
     "data": {
      "text/plain": [
       "array([[0.33181223, 0.66818777],\n",
       "       [0.66818777, 0.33181223],\n",
       "       [0.89090318, 0.10909682]])"
      ]
     },
     "execution_count": 836,
     "metadata": {},
     "output_type": "execute_result"
    }
   ],
   "source": [
    "predict_proba(X, w)"
   ]
  },
  {
   "cell_type": "code",
   "execution_count": 837,
   "metadata": {
    "ExecuteTime": {
     "end_time": "2020-02-15T14:18:08.714215Z",
     "start_time": "2020-02-15T14:18:08.710098Z"
    }
   },
   "outputs": [
    {
     "data": {
      "text/plain": [
       "array([2, 1, 1])"
      ]
     },
     "execution_count": 837,
     "metadata": {},
     "output_type": "execute_result"
    }
   ],
   "source": [
    "predict_class(X, w)"
   ]
  },
  {
   "cell_type": "markdown",
   "metadata": {},
   "source": [
    "Now you need to compute the categorical cross entropy loss (extending the binary loss to support multiple classes)."
   ]
  },
  {
   "cell_type": "code",
   "execution_count": 838,
   "metadata": {
    "ExecuteTime": {
     "end_time": "2020-02-15T14:30:48.047338Z",
     "start_time": "2020-02-15T14:30:48.044395Z"
    }
   },
   "outputs": [],
   "source": [
    "def categorical_loss(X, Y, weights, num_classes=5, alpha=0.00001):\n",
    "    \n",
    "    # fill in your code...\n",
    "    preds_proba = predict_proba(X, weights)\n",
    "    L = np.zeros((len(Y),num_classes))\n",
    "    for i in range(L.shape[0]):\n",
    "        true_class_index = np.where(preds_proba[i]==np.max(preds_proba[i]))[0][0]\n",
    "        for j in range(L.shape[1]):\n",
    "            if j == true_class_index:\n",
    "                L[i][j] = -Y[j]*np.log(preds_proba[i][j])\n",
    "            else:\n",
    "                L[i][j] = 0\n",
    "    l = np.mean(L)\n",
    "        \n",
    "\n",
    "    return l\n",
    "    "
   ]
  },
  {
   "cell_type": "markdown",
   "metadata": {
    "ExecuteTime": {
     "end_time": "2020-02-15T14:08:59.937442Z",
     "start_time": "2020-02-15T14:08:59.932221Z"
    }
   },
   "source": [
    "Finally you need to modify SGD to support the categorical cross entropy loss:"
   ]
  },
  {
   "cell_type": "code",
   "execution_count": 850,
   "metadata": {
    "ExecuteTime": {
     "end_time": "2020-02-15T14:18:10.176885Z",
     "start_time": "2020-02-15T14:18:10.165021Z"
    }
   },
   "outputs": [],
   "source": [
    "def SGD(X_tr, Y_tr, X_dev=[], Y_dev=[], num_classes=5, lr=0.01, alpha=0.00001, epochs=5, tolerance=0.001, print_progress=True):\n",
    "    \n",
    "    # fill in your code...\n",
    "    cur_loss_tr = 1.\n",
    "    cur_loss_dev = 1.\n",
    "    training_loss_history = []\n",
    "    validation_loss_history = []\n",
    "    # initialize w with zeros\n",
    "    m,n = X_tr.shape\n",
    "    weights = np.zeros((num_classes,n))\n",
    "    for i in range(epochs):\n",
    "        # randomise order in training Data\n",
    "        permutation = np.random.permutation(m)\n",
    "        shuffled_x = X_tr[permutation,:]\n",
    "        shuffled_y = Y_tr[permutation]\n",
    "        for j in range(len(shuffled_x)):\n",
    "            prob = predict_proba(shuffled_x,weights)\n",
    "            true_class_index = np.where(prob[j]==np.max(prob[j]))[0][0]\n",
    "            error = prob[j][true_class_index] - shuffled_y[j]\n",
    "            shuffled_x[j][true_class_index] *= error\n",
    "            weights = weights - lr*((shuffled_x[j])-2*alpha*weights)\n",
    "        print(weights)\n",
    "        pre_loss_tr = cur_loss_tr\n",
    "        pre_loss_dev = cur_loss_dev\n",
    "        cur_loss_tr = categorical_loss(shuffled_x,shuffled_y,weights,num_classes,alpha)\n",
    "        cur_loss_dev = categorical_loss(X_dev,Y_dev,weights,num_classes,alpha)\n",
    "        training_loss_history.append(cur_loss_tr)\n",
    "        validation_loss_history.append(cur_loss_dev)\n",
    "        if print_progress==True:\n",
    "            print(\"Epoch: \",i,\"| Training loss: \",cur_loss_tr,\"| Validation loss: \",cur_loss_dev)\n",
    "        #if (pre_loss_dev - cur_loss_dev) < tolerance:\n",
    "        #    break\n",
    "\n",
    "    return weights, training_loss_history, validation_loss_history\n",
    "\n"
   ]
  },
  {
   "cell_type": "markdown",
   "metadata": {
    "ExecuteTime": {
     "end_time": "2020-02-15T14:10:15.772383Z",
     "start_time": "2020-02-15T14:10:15.767855Z"
    }
   },
   "source": [
    "Now you are ready to train and evaluate you MLR following the same steps as in Task 1 for both Count and tfidf features:"
   ]
  },
  {
   "cell_type": "code",
   "execution_count": 851,
   "metadata": {
    "ExecuteTime": {
     "end_time": "2020-02-15T14:18:55.324956Z",
     "start_time": "2020-02-15T14:18:11.720952Z"
    }
   },
   "outputs": [
    {
     "name": "stdout",
     "output_type": "stream",
     "text": [
      "[[ 0.00106706 -0.00090021 -0.01080256 ... -0.00390106 -0.00040006\n",
      "  -0.00260064]\n",
      " [ 0.00106706 -0.00090021 -0.01080256 ... -0.00390106 -0.00040006\n",
      "  -0.00260064]\n",
      " [ 0.00106706 -0.00090021 -0.01080256 ... -0.00390106 -0.00040006\n",
      "  -0.00260064]]\n",
      "Epoch:  0 | Training loss:  1.0970864382671817 | Validation loss:  0.3662040962227032\n",
      "[[ 0.00213439 -0.00180088 -0.02107711 ... -0.00780389 -0.00080035\n",
      "  -0.00520252]\n",
      " [ 0.00213439 -0.00180088 -0.02107711 ... -0.00780389 -0.00080035\n",
      "  -0.00520252]\n",
      " [ 0.00213439 -0.00180088 -0.02107711 ... -0.00780389 -0.00080035\n",
      "  -0.00520252]]\n",
      "Epoch:  1 | Training loss:  1.0986122886681096 | Validation loss:  0.3662040962227032\n"
     ]
    },
    {
     "ename": "KeyboardInterrupt",
     "evalue": "",
     "output_type": "error",
     "traceback": [
      "\u001b[0;31m---------------------------------------------------------------------------\u001b[0m",
      "\u001b[0;31mKeyboardInterrupt\u001b[0m                         Traceback (most recent call last)",
      "\u001b[0;32m<ipython-input-851-3524b4eb69f1>\u001b[0m in \u001b[0;36m<module>\u001b[0;34m\u001b[0m\n\u001b[1;32m      5\u001b[0m                                              \u001b[0mlr\u001b[0m\u001b[0;34m=\u001b[0m\u001b[0;36m0.0001\u001b[0m\u001b[0;34m,\u001b[0m\u001b[0;34m\u001b[0m\u001b[0;34m\u001b[0m\u001b[0m\n\u001b[1;32m      6\u001b[0m                                              \u001b[0malpha\u001b[0m\u001b[0;34m=\u001b[0m\u001b[0;36m0.001\u001b[0m\u001b[0;34m,\u001b[0m\u001b[0;34m\u001b[0m\u001b[0;34m\u001b[0m\u001b[0m\n\u001b[0;32m----> 7\u001b[0;31m                                              epochs=200)\n\u001b[0m",
      "\u001b[0;32m<ipython-input-850-a689a8288e9f>\u001b[0m in \u001b[0;36mSGD\u001b[0;34m(X_tr, Y_tr, X_dev, Y_dev, num_classes, lr, alpha, epochs, tolerance, print_progress)\u001b[0m\n\u001b[1;32m     15\u001b[0m         \u001b[0mshuffled_y\u001b[0m \u001b[0;34m=\u001b[0m \u001b[0mY_tr\u001b[0m\u001b[0;34m[\u001b[0m\u001b[0mpermutation\u001b[0m\u001b[0;34m]\u001b[0m\u001b[0;34m\u001b[0m\u001b[0;34m\u001b[0m\u001b[0m\n\u001b[1;32m     16\u001b[0m         \u001b[0;32mfor\u001b[0m \u001b[0mj\u001b[0m \u001b[0;32min\u001b[0m \u001b[0mrange\u001b[0m\u001b[0;34m(\u001b[0m\u001b[0mlen\u001b[0m\u001b[0;34m(\u001b[0m\u001b[0mshuffled_x\u001b[0m\u001b[0;34m)\u001b[0m\u001b[0;34m)\u001b[0m\u001b[0;34m:\u001b[0m\u001b[0;34m\u001b[0m\u001b[0;34m\u001b[0m\u001b[0m\n\u001b[0;32m---> 17\u001b[0;31m             \u001b[0mprob\u001b[0m \u001b[0;34m=\u001b[0m \u001b[0mpredict_proba\u001b[0m\u001b[0;34m(\u001b[0m\u001b[0mshuffled_x\u001b[0m\u001b[0;34m,\u001b[0m\u001b[0mweights\u001b[0m\u001b[0;34m)\u001b[0m\u001b[0;34m\u001b[0m\u001b[0;34m\u001b[0m\u001b[0m\n\u001b[0m\u001b[1;32m     18\u001b[0m             \u001b[0mtrue_class_index\u001b[0m \u001b[0;34m=\u001b[0m \u001b[0mnp\u001b[0m\u001b[0;34m.\u001b[0m\u001b[0mwhere\u001b[0m\u001b[0;34m(\u001b[0m\u001b[0mprob\u001b[0m\u001b[0;34m[\u001b[0m\u001b[0mj\u001b[0m\u001b[0;34m]\u001b[0m\u001b[0;34m==\u001b[0m\u001b[0mnp\u001b[0m\u001b[0;34m.\u001b[0m\u001b[0mmax\u001b[0m\u001b[0;34m(\u001b[0m\u001b[0mprob\u001b[0m\u001b[0;34m[\u001b[0m\u001b[0mj\u001b[0m\u001b[0;34m]\u001b[0m\u001b[0;34m)\u001b[0m\u001b[0;34m)\u001b[0m\u001b[0;34m[\u001b[0m\u001b[0;36m0\u001b[0m\u001b[0;34m]\u001b[0m\u001b[0;34m[\u001b[0m\u001b[0;36m0\u001b[0m\u001b[0;34m]\u001b[0m\u001b[0;34m\u001b[0m\u001b[0;34m\u001b[0m\u001b[0m\n\u001b[1;32m     19\u001b[0m             \u001b[0merror\u001b[0m \u001b[0;34m=\u001b[0m \u001b[0mprob\u001b[0m\u001b[0;34m[\u001b[0m\u001b[0mj\u001b[0m\u001b[0;34m]\u001b[0m\u001b[0;34m[\u001b[0m\u001b[0mtrue_class_index\u001b[0m\u001b[0;34m]\u001b[0m \u001b[0;34m-\u001b[0m \u001b[0mshuffled_y\u001b[0m\u001b[0;34m[\u001b[0m\u001b[0mj\u001b[0m\u001b[0;34m]\u001b[0m\u001b[0;34m\u001b[0m\u001b[0;34m\u001b[0m\u001b[0m\n",
      "\u001b[0;32m<ipython-input-833-aa7c940f2488>\u001b[0m in \u001b[0;36mpredict_proba\u001b[0;34m(X, weights)\u001b[0m\n\u001b[1;32m      2\u001b[0m \u001b[0;34m\u001b[0m\u001b[0m\n\u001b[1;32m      3\u001b[0m     \u001b[0;31m# fill in your code...\u001b[0m\u001b[0;34m\u001b[0m\u001b[0;34m\u001b[0m\u001b[0;34m\u001b[0m\u001b[0m\n\u001b[0;32m----> 4\u001b[0;31m     \u001b[0mpreds_proba\u001b[0m \u001b[0;34m=\u001b[0m \u001b[0msoftmax\u001b[0m\u001b[0;34m(\u001b[0m\u001b[0mnp\u001b[0m\u001b[0;34m.\u001b[0m\u001b[0mdot\u001b[0m\u001b[0;34m(\u001b[0m\u001b[0mX\u001b[0m\u001b[0;34m,\u001b[0m\u001b[0mweights\u001b[0m\u001b[0;34m.\u001b[0m\u001b[0mT\u001b[0m\u001b[0;34m)\u001b[0m\u001b[0;34m)\u001b[0m\u001b[0;34m\u001b[0m\u001b[0;34m\u001b[0m\u001b[0m\n\u001b[0m\u001b[1;32m      5\u001b[0m \u001b[0;34m\u001b[0m\u001b[0m\n\u001b[1;32m      6\u001b[0m     \u001b[0;32mreturn\u001b[0m \u001b[0mpreds_proba\u001b[0m\u001b[0;34m\u001b[0m\u001b[0;34m\u001b[0m\u001b[0m\n",
      "\u001b[0;32m<ipython-input-832-3f4f0888519c>\u001b[0m in \u001b[0;36msoftmax\u001b[0;34m(z)\u001b[0m\n\u001b[1;32m      6\u001b[0m     \u001b[0msmax\u001b[0m \u001b[0;34m=\u001b[0m \u001b[0mnp\u001b[0m\u001b[0;34m.\u001b[0m\u001b[0mzeros\u001b[0m\u001b[0;34m(\u001b[0m\u001b[0;34m(\u001b[0m\u001b[0mm\u001b[0m\u001b[0;34m,\u001b[0m\u001b[0mn\u001b[0m\u001b[0;34m)\u001b[0m\u001b[0;34m)\u001b[0m\u001b[0;34m\u001b[0m\u001b[0;34m\u001b[0m\u001b[0m\n\u001b[1;32m      7\u001b[0m     \u001b[0;32mfor\u001b[0m \u001b[0mi\u001b[0m \u001b[0;32min\u001b[0m \u001b[0mrange\u001b[0m\u001b[0;34m(\u001b[0m\u001b[0mlen\u001b[0m\u001b[0;34m(\u001b[0m\u001b[0msmax\u001b[0m\u001b[0;34m)\u001b[0m\u001b[0;34m)\u001b[0m\u001b[0;34m:\u001b[0m\u001b[0;34m\u001b[0m\u001b[0;34m\u001b[0m\u001b[0m\n\u001b[0;32m----> 8\u001b[0;31m         \u001b[0msmax\u001b[0m\u001b[0;34m[\u001b[0m\u001b[0mi\u001b[0m\u001b[0;34m]\u001b[0m \u001b[0;34m=\u001b[0m \u001b[0mnp\u001b[0m\u001b[0;34m.\u001b[0m\u001b[0mexp\u001b[0m\u001b[0;34m(\u001b[0m\u001b[0mz\u001b[0m\u001b[0;34m[\u001b[0m\u001b[0mi\u001b[0m\u001b[0;34m]\u001b[0m\u001b[0;34m)\u001b[0m\u001b[0;34m/\u001b[0m\u001b[0mnp\u001b[0m\u001b[0;34m.\u001b[0m\u001b[0msum\u001b[0m\u001b[0;34m(\u001b[0m\u001b[0mnp\u001b[0m\u001b[0;34m.\u001b[0m\u001b[0mexp\u001b[0m\u001b[0;34m(\u001b[0m\u001b[0mz\u001b[0m\u001b[0;34m[\u001b[0m\u001b[0mi\u001b[0m\u001b[0;34m]\u001b[0m\u001b[0;34m)\u001b[0m\u001b[0;34m)\u001b[0m\u001b[0;34m\u001b[0m\u001b[0;34m\u001b[0m\u001b[0m\n\u001b[0m\u001b[1;32m      9\u001b[0m     \u001b[0;32mreturn\u001b[0m \u001b[0msmax\u001b[0m\u001b[0;34m\u001b[0m\u001b[0;34m\u001b[0m\u001b[0m\n",
      "\u001b[0;31mKeyboardInterrupt\u001b[0m: "
     ]
    }
   ],
   "source": [
    "w_count, loss_tr_count, dev_loss_count = SGD(X_tr_count, Y_tr, \n",
    "                                             X_dev=X_de_count, \n",
    "                                             Y_dev=Y_de,\n",
    "                                             num_classes=3,\n",
    "                                             lr=0.0001, \n",
    "                                             alpha=0.001, \n",
    "                                             epochs=200)"
   ]
  },
  {
   "cell_type": "markdown",
   "metadata": {},
   "source": [
    "Plot training and validation process and explain if your model overfit, underfit or is about right:"
   ]
  },
  {
   "cell_type": "code",
   "execution_count": 762,
   "metadata": {
    "ExecuteTime": {
     "end_time": "2020-02-15T14:31:09.903453Z",
     "start_time": "2020-02-15T14:31:09.901360Z"
    }
   },
   "outputs": [
    {
     "data": {
      "image/png": "[encoded data removed]",
      "text/plain": [
       "<Figure size 432x288 with 1 Axes>"
      ]
     },
     "metadata": {
      "needs_background": "light"
     },
     "output_type": "display_data"
    }
   ],
   "source": [
    "# fill in your code...\n",
    "from scipy.interpolate import UnivariateSpline\n",
    "epochs = []\n",
    "for i in range(len(loss_tr_count)):\n",
    "    epochs.append(i)\n",
    "xnew = np.linspace(min(epochs),max(epochs),100)\n",
    "loss_tr_smooth = UnivariateSpline(epochs,loss_tr_count)\n",
    "loss_dev_smooth = UnivariateSpline(epochs,dev_loss_count)\n",
    "plt.plot(xnew, loss_tr_smooth(xnew), color='blue', label='training loss')\n",
    "plt.plot(xnew, loss_dev_smooth(xnew), color='orange', label='validation loss')\n",
    "plt.legend()\n",
    "plt.title('Training Monitoring')\n",
    "plt.xlabel('Loss')\n",
    "plt.ylabel('Epochs')\n",
    "plt.show()"
   ]
  },
  {
   "cell_type": "code",
   "execution_count": 763,
   "metadata": {},
   "outputs": [
    {
     "name": "stdout",
     "output_type": "stream",
     "text": [
      "Accuracy: 0.33555555555555555\n",
      "Precision: 0.36123511904761907\n",
      "Recall: 0.33555555555555555\n",
      "F1-Score: 0.17324561403508773\n"
     ]
    },
    {
     "name": "stderr",
     "output_type": "stream",
     "text": [
      "/Users/yangwuan/anaconda3/lib/python3.7/site-packages/sklearn/metrics/classification.py:1437: UndefinedMetricWarning: Precision is ill-defined and being set to 0.0 in labels with no predicted samples.\n",
      "  'precision', 'predicted', average, warn_for)\n",
      "/Users/yangwuan/anaconda3/lib/python3.7/site-packages/sklearn/metrics/classification.py:1437: UndefinedMetricWarning: F-score is ill-defined and being set to 0.0 in labels with no predicted samples.\n",
      "  'precision', 'predicted', average, warn_for)\n"
     ]
    }
   ],
   "source": [
    "preds_te = predict_class(X_te_count, w_count)\n",
    "print('Accuracy:', accuracy_score(Y_te,preds_te))\n",
    "print('Precision:', precision_score(Y_te,preds_te,average='macro'))\n",
    "print('Recall:', recall_score(Y_te,preds_te,average='macro'))\n",
    "print('F1-Score:', f1_score(Y_te,preds_te,average='macro'))"
   ]
  },
  {
   "cell_type": "code",
   "execution_count": 749,
   "metadata": {},
   "outputs": [
    {
     "name": "stdout",
     "output_type": "stream",
     "text": [
      "Epoch:  0 | Training loss:  0.7259996207615091 | Validation loss:  0.3662040962227032\n",
      "Epoch:  1 | Training loss:  0.7249315254808596 | Validation loss:  0.3662040962227032\n"
     ]
    }
   ],
   "source": [
    "w_tfidf, trl, devl = SGD(X_tr_tfidf, Y_tr, \n",
    "                     X_dev=X_de_tfidf, \n",
    "                     Y_dev=Y_de,\n",
    "                     num_classes=3,\n",
    "                     lr=0.0001, \n",
    "                     alpha=0.001, \n",
    "                     epochs=200)"
   ]
  },
  {
   "cell_type": "code",
   "execution_count": null,
   "metadata": {},
   "outputs": [],
   "source": [
    "from scipy.interpolate import UnivariateSpline\n",
    "epochs = []\n",
    "for i in range(len(trl)):\n",
    "    epochs.append(i)\n",
    "xnew = np.linspace(min(epochs),max(epochs),100)\n",
    "loss_tr_smooth = UnivariateSpline(epochs,trl)\n",
    "loss_dev_smooth = UnivariateSpline(epochs,devl)\n",
    "plt.plot(xnew, loss_tr_smooth(xnew), color='blue', label='training loss')\n",
    "plt.plot(xnew, loss_dev_smooth(xnew), color='orange', label='validation loss')\n",
    "plt.legend()\n",
    "plt.title('Training Monitoring')\n",
    "plt.xlabel('Loss')\n",
    "plt.ylabel('Epochs')\n",
    "plt.show()"
   ]
  },
  {
   "cell_type": "markdown",
   "metadata": {},
   "source": [
    "Compute accuracy, precision, recall and F1-scores:"
   ]
  },
  {
   "cell_type": "code",
   "execution_count": 6,
   "metadata": {
    "ExecuteTime": {
     "end_time": "2020-02-15T14:32:12.606498Z",
     "start_time": "2020-02-15T14:32:12.604164Z"
    }
   },
   "outputs": [],
   "source": [
    "# fill in your code...\n",
    "preds_te = predict_class(X_te_tfidf, w_tfidf)\n",
    "print('Accuracy:', accuracy_score(Y_te,preds_te))\n",
    "print('Precision:', precision_score(Y_te,preds_te,average='macro'))\n",
    "print('Recall:', recall_score(Y_te,preds_te,average='macro'))\n",
    "print('F1-Score:', f1_score(Y_te,preds_te,average='macro'))"
   ]
  },
  {
   "cell_type": "markdown",
   "metadata": {},
   "source": [
    "Print the top-10 words for each class respectively."
   ]
  },
  {
   "cell_type": "code",
   "execution_count": 7,
   "metadata": {
    "ExecuteTime": {
     "end_time": "2020-02-15T14:32:26.224693Z",
     "start_time": "2020-02-15T14:32:26.221886Z"
    }
   },
   "outputs": [],
   "source": [
    "# fill in your code..."
   ]
  },
  {
   "cell_type": "markdown",
   "metadata": {},
   "source": [
    "### Discuss how did you choose model hyperparameters (e.g. learning rate and regularisation strength)? What is the relation between training epochs and learning rate? How the regularisation strength affects performance?"
   ]
  },
  {
   "cell_type": "markdown",
   "metadata": {
    "ExecuteTime": {
     "end_time": "2020-02-15T14:16:19.856538Z",
     "start_time": "2020-02-15T14:16:19.852547Z"
    }
   },
   "source": [
    "Explain here..."
   ]
  },
  {
   "cell_type": "markdown",
   "metadata": {},
   "source": [
    "### Now evaluate BOW-tfidf..."
   ]
  },
  {
   "cell_type": "markdown",
   "metadata": {
    "ExecuteTime": {
     "end_time": "2020-02-15T14:16:42.567569Z",
     "start_time": "2020-02-15T14:16:42.562560Z"
    }
   },
   "source": [
    "## Full Results\n",
    "\n",
    "Add here your results:\n",
    "\n",
    "| LR | Precision  | Recall  | F1-Score  |\n",
    "|:-:|:-:|:-:|:-:|\n",
    "| BOW-count  |   |   |   |\n",
    "| BOW-tfidf  |   |   |   |\n"
   ]
  }
 ],
 "metadata": {
  "kernelspec": {
   "display_name": "Python 3",
   "language": "python",
   "name": "python3"
  },
  "language_info": {
   "codemirror_mode": {
    "name": "ipython",
    "version": 3
   },
   "file_extension": ".py",
   "mimetype": "text/x-python",
   "name": "python",
   "nbconvert_exporter": "python",
   "pygments_lexer": "ipython3",
   "version": "3.7.3"
  }
 },
 "nbformat": 4,
 "nbformat_minor": 2
}
