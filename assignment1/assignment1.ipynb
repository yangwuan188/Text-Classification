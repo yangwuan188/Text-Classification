{
 "cells": [
  {
   "cell_type": "markdown",
   "metadata": {},
   "source": [
    "# [COM4513-6513] Assignment 1: Text Classification with Logistic Regression\n",
    "\n",
    "### Instructor: Nikos Aletras\n",
    "\n",
    "\n",
    "The goal of this assignment is to develop and test two text classification systems: \n",
    "\n",
    "- **Task 1:** sentiment analysis, in particular to predict the sentiment of movie review, i.e. positive or negative (binary classification).\n",
    "- **Task 2:** topic classification, to predict whether a news article is about International issues, Sports or Business (multiclass classification).\n",
    "\n",
    "\n",
    "For that purpose, you will implement:\n",
    "\n",
    "- Text processing methods for extracting Bag-Of-Word features, using (1) unigrams, bigrams and trigrams to obtain vector representations of documents. Two vector weighting schemes should be tested: (1) raw frequencies (**3 marks; 1 for each ngram type**); (2) tf.idf (**1 marks**). \n",
    "- Binary Logistic Regression classifiers that will be able to accurately classify movie reviews trained with (1) BOW-count (raw frequencies); and (2) BOW-tfidf (tf.idf weighted) for Task 1. \n",
    "- Multiclass Logistic Regression classifiers that will be able to accurately classify news articles trained with (1) BOW-count (raw frequencies); and (2) BOW-tfidf (tf.idf weighted) for Task 2. \n",
    "- The Stochastic Gradient Descent (SGD) algorithm to estimate the parameters of your Logistic Regression models. Your SGD algorithm should:\n",
    "    - Minimise the Binary Cross-entropy loss function for Task 1 (**3 marks**)\n",
    "    - Minimise the Categorical Cross-entropy loss function for Task 2 (**3 marks**)\n",
    "    - Use L2 regularisation (both tasks) (**1 mark**)\n",
    "    - Perform multiple passes (epochs) over the training data (**1 mark**)\n",
    "    - Randomise the order of training data after each pass (**1 mark**)\n",
    "    - Stop training if the difference between the current and previous validation loss is smaller than a threshold (**1 mark**)\n",
    "    - After each epoch print the training and development loss (**1 mark**)\n",
    "- Discuss how did you choose hyperparameters (e.g. learning rate and regularisation strength)?  (**2 marks; 0.5 for each model in each task**).\n",
    "- After training the LR models, plot the learning process (i.e. training and validation loss in each epoch) using a line plot (**1 mark; 0.5 for both BOW-count and BOW-tfidf LR models in each task**) and discuss if your model overfits/underfits/is about right.\n",
    "- Model interpretability by showing the most important features for each class (i.e. most positive/negative weights). Give the top 10 for each class and comment on whether they make sense (if they don't you might have a bug!).  If we were to apply the classifier we've learned into a different domain such laptop reviews or restaurant reviews, do you think these features would generalise well? Can you propose what features the classifier could pick up as important in the new domain? (**2 marks; 0.5 for BOW-count and BOW-tfidf LR models respectively in each task**)\n",
    "\n",
    "\n",
    "### Data - Task 1 \n",
    "\n",
    "The data you will use for Task 1 are taken from here: [http://www.cs.cornell.edu/people/pabo/movie-review-data/](http://www.cs.cornell.edu/people/pabo/movie-review-data/) and you can find it in the `./data_sentiment` folder in CSV format:\n",
    "\n",
    "- `data_sentiment/train.csv`: contains 1,400 reviews, 700 positive (label: 1) and 700 negative (label: 0) to be used for training.\n",
    "- `data_sentiment/dev.csv`: contains 200 reviews, 100 positive and 100 negative to be used for hyperparameter selection and monitoring the training process.\n",
    "- `data_sentiment/test.csv`: contains 400 reviews, 200 positive and 200 negative to be used for testing.\n",
    "\n",
    "### Data - Task 2\n",
    "\n",
    "The data you will use for Task 2 is a subset of the [AG News Corpus](http://groups.di.unipi.it/~gulli/AG_corpus_of_news_articles.html) and you can find it in the `./data_topic` folder in CSV format:\n",
    "\n",
    "- `data_topic/train.csv`: contains 2,400 news articles, 800 for each class to be used for training.\n",
    "- `data_topic/dev.csv`: contains 150 news articles, 50 for each class to be used for hyperparameter selection and monitoring the training process.\n",
    "- `data_topic/test.csv`: contains 900 news articles, 300 for each class to be used for testing.\n",
    "\n",
    "\n",
    "### Submission Instructions\n",
    "\n",
    "You should submit a Jupyter Notebook file (assignment1.ipynb) and an exported PDF version (you can do it from Jupyter: `File->Download as->PDF via Latex`).\n",
    "\n",
    "You are advised to follow the code structure given in this notebook by completing all given funtions. You can also write any auxilliary/helper functions (and arguments for the functions) that you might need but note that you can provide a full solution without any such functions. Similarly, you can just use only the packages imported below but you are free to use any functionality from the [Python Standard Library](https://docs.python.org/2/library/index.html), NumPy, SciPy and Pandas. You are not allowed to use any third-party library such as Scikit-learn (apart from metric functions already provided), NLTK, Spacy, Keras etc..\n",
    "\n",
    "Please make sure to comment your code. You should also mention if you've used Windows (not recommended) to write and test your code. There is no single correct answer on what your accuracy should be, but correct implementations usually achieve F1-scores around 80\\% or higher. The quality of the analysis of the results is as important as the accuracy itself. \n",
    "\n",
    "This assignment will be marked out of 20. It is worth 20\\% of your final grade in the module.\n",
    "\n",
    "The deadline for this assignment is **23:59 on Fri, 20 Mar 2020** and it needs to be submitted via MOLE. Standard departmental penalties for lateness will be applied. We use a range of strategies to detect [unfair means](https://www.sheffield.ac.uk/ssid/unfair-means/index), including Turnitin which helps detect plagiarism, so make sure you do not plagiarise.\n",
    "\n"
   ]
  },
  {
   "cell_type": "code",
   "execution_count": 1919,
   "metadata": {
    "ExecuteTime": {
     "end_time": "2020-02-15T14:31:36.292691Z",
     "start_time": "2020-02-15T14:31:35.549108Z"
    }
   },
   "outputs": [],
   "source": [
    "import pandas as pd\n",
    "import numpy as np\n",
    "from collections import Counter\n",
    "import re\n",
    "import matplotlib.pyplot as plt\n",
    "from sklearn.metrics import accuracy_score, precision_score, recall_score, f1_score\n",
    "import random\n",
    "\n",
    "# fixing random seed for reproducibility\n",
    "random.seed(123)\n",
    "np.random.seed(123)\n"
   ]
  },
  {
   "cell_type": "markdown",
   "metadata": {},
   "source": [
    "## Load Raw texts and labels into arrays\n",
    "\n",
    "First, you need to load the training, development and test sets from their corresponding CSV files (tip: you can use Pandas dataframes)."
   ]
  },
  {
   "cell_type": "code",
   "execution_count": 1920,
   "metadata": {
    "ExecuteTime": {
     "end_time": "2020-02-15T14:17:28.145788Z",
     "start_time": "2020-02-15T14:17:28.066100Z"
    }
   },
   "outputs": [],
   "source": [
    "# fill in your code...\n",
    "data_tr = pd.read_csv('./data_sentiment/train.csv',header=None,names=['text','label'])\n",
    "data_te = pd.read_csv('./data_sentiment/test.csv',header=None,names=['text','label'])\n",
    "data_de = pd.read_csv('./data_sentiment/dev.csv',header=None,names=['text','label'])"
   ]
  },
  {
   "cell_type": "markdown",
   "metadata": {},
   "source": [
    "If you use Pandas you can see a sample of the data."
   ]
  },
  {
   "cell_type": "code",
   "execution_count": 1921,
   "metadata": {
    "ExecuteTime": {
     "end_time": "2020-02-15T14:17:28.900892Z",
     "start_time": "2020-02-15T14:17:28.891221Z"
    }
   },
   "outputs": [
    {
     "data": {
      "text/html": [
       "<div>\n",
       "<style scoped>\n",
       "    .dataframe tbody tr th:only-of-type {\n",
       "        vertical-align: middle;\n",
       "    }\n",
       "\n",
       "    .dataframe tbody tr th {\n",
       "        vertical-align: top;\n",
       "    }\n",
       "\n",
       "    .dataframe thead th {\n",
       "        text-align: right;\n",
       "    }\n",
       "</style>\n",
       "<table border=\"1\" class=\"dataframe\">\n",
       "  <thead>\n",
       "    <tr style=\"text-align: right;\">\n",
       "      <th></th>\n",
       "      <th>text</th>\n",
       "      <th>label</th>\n",
       "    </tr>\n",
       "  </thead>\n",
       "  <tbody>\n",
       "    <tr>\n",
       "      <th>0</th>\n",
       "      <td>note : some may consider portions of the follo...</td>\n",
       "      <td>1</td>\n",
       "    </tr>\n",
       "    <tr>\n",
       "      <th>1</th>\n",
       "      <td>note : some may consider portions of the follo...</td>\n",
       "      <td>1</td>\n",
       "    </tr>\n",
       "    <tr>\n",
       "      <th>2</th>\n",
       "      <td>every once in a while you see a film that is s...</td>\n",
       "      <td>1</td>\n",
       "    </tr>\n",
       "    <tr>\n",
       "      <th>3</th>\n",
       "      <td>when i was growing up in 1970s , boys in my sc...</td>\n",
       "      <td>1</td>\n",
       "    </tr>\n",
       "    <tr>\n",
       "      <th>4</th>\n",
       "      <td>the muppet movie is the first , and the best m...</td>\n",
       "      <td>1</td>\n",
       "    </tr>\n",
       "  </tbody>\n",
       "</table>\n",
       "</div>"
      ],
      "text/plain": [
       "                                                text  label\n",
       "0  note : some may consider portions of the follo...      1\n",
       "1  note : some may consider portions of the follo...      1\n",
       "2  every once in a while you see a film that is s...      1\n",
       "3  when i was growing up in 1970s , boys in my sc...      1\n",
       "4  the muppet movie is the first , and the best m...      1"
      ]
     },
     "execution_count": 1921,
     "metadata": {},
     "output_type": "execute_result"
    }
   ],
   "source": [
    "data_tr.head()\n",
    "#data_te.head()\n",
    "#data_de.head()"
   ]
  },
  {
   "cell_type": "markdown",
   "metadata": {},
   "source": [
    "The next step is to put the raw texts into Python lists and their corresponding labels into NumPy arrays:\n"
   ]
  },
  {
   "cell_type": "code",
   "execution_count": 1922,
   "metadata": {
    "ExecuteTime": {
     "end_time": "2020-02-15T14:17:31.115577Z",
     "start_time": "2020-02-15T14:17:31.108038Z"
    }
   },
   "outputs": [],
   "source": [
    "# fill in your code...\n",
    "#train data transformation\n",
    "X_tr_raw = data_tr['text'].tolist()\n",
    "Y_tr = np.array(data_tr['label'])\n",
    "#test data transformatino\n",
    "X_te_raw = data_te['text'].tolist()\n",
    "Y_te = np.array(data_te['label'])\n",
    "#development data transformatino\n",
    "X_de_raw = data_de['text'].tolist()\n",
    "Y_de = np.array(data_de['label'])"
   ]
  },
  {
   "cell_type": "markdown",
   "metadata": {},
   "source": [
    "# Bag-of-Words Representation \n",
    "\n",
    "\n",
    "To train and test Logisitc Regression models, you first need to obtain vector representations for all documents given a vocabulary of features (unigrams, bigrams, trigrams).\n",
    "\n",
    "\n",
    "## Text Pre-Processing Pipeline\n",
    "\n",
    "To obtain a vocabulary of features, you should: \n",
    "- tokenise all texts into a list of unigrams (tip: using a regular expression) \n",
    "- remove stop words (using the one provided or one of your preference) \n",
    "- compute bigrams, trigrams given the remaining unigrams\n",
    "- remove ngrams appearing in less than K documents\n",
    "- use the remaining to create a vocabulary of unigrams, bigrams and trigrams (you can keep top N if you encounter memory issues).\n"
   ]
  },
  {
   "cell_type": "code",
   "execution_count": 1923,
   "metadata": {
    "ExecuteTime": {
     "end_time": "2020-02-15T14:17:31.860420Z",
     "start_time": "2020-02-15T14:17:31.855439Z"
    }
   },
   "outputs": [],
   "source": [
    "stop_words = ['a','in','on','at','and','or', \n",
    "              'to', 'the', 'of', 'an', 'by', \n",
    "              'as', 'is', 'was', 'were', 'been', 'be', \n",
    "              'are','for', 'this', 'that', 'these', 'those', 'you', 'i','if',\n",
    "             'it', 'he', 'she', 'we', 'us','they', 'will', 'have', 'has',\n",
    "              'do', 'did', 'can', 'could', 'who', 'which', 'what', \n",
    "             'his', 'her', 'they', 'them', 'their','from', 'with', 'its']\n"
   ]
  },
  {
   "cell_type": "markdown",
   "metadata": {},
   "source": [
    "### N-gram extraction from a document\n",
    "\n",
    "You first need to implement the `extract_ngrams` function. It takes as input:\n",
    "- `x_raw`: a string corresponding to the raw text of a document\n",
    "- `ngram_range`: a tuple of two integers denoting the type of ngrams you want to extract, e.g. (1,2) denotes extracting unigrams and bigrams.\n",
    "- `token_pattern`: a string to be used within a regular expression to extract all tokens. Note that data is already tokenised so you could opt for a simple white space tokenisation.\n",
    "- `stop_words`: a list of stop words\n",
    "- `vocab`: a given vocabulary. It should be used to extract specific features.\n",
    "\n",
    "and returns:\n",
    "\n",
    "- a list of all extracted features.\n",
    "\n",
    "See the examples below to see how this function should work."
   ]
  },
  {
   "cell_type": "code",
   "execution_count": 1924,
   "metadata": {
    "ExecuteTime": {
     "end_time": "2020-02-15T14:17:33.169090Z",
     "start_time": "2020-02-15T14:17:33.161268Z"
    }
   },
   "outputs": [],
   "source": [
    "def extract_ngrams(x_raw, ngram_range=(1,3), token_pattern=r'\\b[A-Za-z][A-Za-z]+\\b', stop_words=[], vocab=set()):\n",
    "    # fill in your code...\n",
    "    unigram = []\n",
    "    bigram = []\n",
    "    trigram = []\n",
    "    # get unigram by using regex\n",
    "    pattern = re.compile(token_pattern)\n",
    "    x_re = pattern.findall(x_raw.lower())\n",
    "    # remove stop words\n",
    "    for i in range(len(x_re)):\n",
    "        if x_re[i] not in stop_words:\n",
    "            unigram.append(x_re[i])\n",
    "    # return bigram or trigram\n",
    "    if ngram_range==(1,3):\n",
    "        for i in range(len(unigram)-1):\n",
    "            bigram.append((unigram[i],unigram[i+1]))\n",
    "        for i in range(len(unigram)-2):\n",
    "            trigram.append((unigram[i],unigram[i+1],unigram[i+2]))\n",
    "        x = unigram + bigram + trigram\n",
    "        \n",
    "    if ngram_range==(1,2):\n",
    "        for i in range(len(unigram)-1):\n",
    "            bigram.append((unigram[i],unigram[i+1]))\n",
    "        x = unigram + bigram\n",
    "    if vocab:\n",
    "        x = list(vocab)\n",
    "    return x"
   ]
  },
  {
   "cell_type": "code",
   "execution_count": 1925,
   "metadata": {
    "ExecuteTime": {
     "end_time": "2020-02-15T14:17:33.680114Z",
     "start_time": "2020-02-15T14:17:33.675339Z"
    }
   },
   "outputs": [
    {
     "data": {
      "text/plain": [
       "['great',\n",
       " 'movie',\n",
       " 'watch',\n",
       " ('great', 'movie'),\n",
       " ('movie', 'watch'),\n",
       " ('great', 'movie', 'watch')]"
      ]
     },
     "execution_count": 1925,
     "metadata": {},
     "output_type": "execute_result"
    }
   ],
   "source": [
    "extract_ngrams(\"this is a great movie to watch \",\n",
    "               ngram_range=(1,3),\n",
    "               stop_words=stop_words)\n"
   ]
  },
  {
   "cell_type": "code",
   "execution_count": 1926,
   "metadata": {
    "ExecuteTime": {
     "end_time": "2020-02-15T14:17:34.278189Z",
     "start_time": "2020-02-15T14:17:34.273722Z"
    }
   },
   "outputs": [
    {
     "data": {
      "text/plain": [
       "['great', ('great', 'movie')]"
      ]
     },
     "execution_count": 1926,
     "metadata": {},
     "output_type": "execute_result"
    }
   ],
   "source": [
    "extract_ngrams(\"this is a great movie to watch\", \n",
    "               ngram_range=(1,2), \n",
    "               stop_words=stop_words, \n",
    "               vocab=set(['great',  ('great','movie')]))"
   ]
  },
  {
   "cell_type": "markdown",
   "metadata": {},
   "source": [
    "Note that it is OK to represent n-grams using lists instead of tuples: e.g. `['great', ['great', 'movie']]`"
   ]
  },
  {
   "cell_type": "markdown",
   "metadata": {},
   "source": [
    "#### Create a vocabulary of n-grams\n",
    "\n",
    "Then the `get_vocab` function will be used to (1) create a vocabulary of ngrams; (2) count the document frequencies of ngrams; (3) their raw frequency. It takes as input:\n",
    "- `X_raw`: a list of strings each corresponding to the raw text of a document\n",
    "- `ngram_range`: a tuple of two integers denoting the type of ngrams you want to extract, e.g. (1,2) denotes extracting unigrams and bigrams.\n",
    "- `token_pattern`: a string to be used within a regular expression to extract all tokens. Note that data is already tokenised so you could opt for a simple white space tokenisation.\n",
    "- `stop_words`: a list of stop words\n",
    "- `min_df`: keep ngrams with a minimum document frequency.\n",
    "- `keep_topN`: keep top-N more frequent ngrams.\n",
    "\n",
    "and returns:\n",
    "\n",
    "- `vocab`: a set of the n-grams that will be used as features.\n",
    "- `df`: a Counter (or dict) that contains ngrams as keys and their corresponding document frequency as values.\n",
    "- `ngram_counts`: counts of each ngram in vocab\n",
    "\n",
    "Hint: it should make use of the `extract_ngrams` function."
   ]
  },
  {
   "cell_type": "code",
   "execution_count": 1927,
   "metadata": {
    "ExecuteTime": {
     "end_time": "2020-02-15T14:17:35.821240Z",
     "start_time": "2020-02-15T14:17:35.814722Z"
    }
   },
   "outputs": [],
   "source": [
    "def get_vocab(X_raw, ngram_range=(1,3), token_pattern=r'\\b[A-Za-z][A-Za-z]+\\b', min_df=0, keep_topN=0, stop_words=[]):\n",
    "    # fill in your code..\n",
    "    ngrams = []\n",
    "    ngrams_df = []\n",
    "    for i in X_raw:\n",
    "        n_grams = extract_ngrams(i,ngram_range=ngram_range,token_pattern=token_pattern,stop_words=stop_words)\n",
    "        ngrams += n_grams\n",
    "        ngrams_df += list(set(n_grams))\n",
    "    more_frequent_ngrams = Counter(ngrams).most_common(keep_topN)\n",
    "    #get more frequent ngrams key\n",
    "    features = []\n",
    "    ngram_counts = 0\n",
    "    for k in more_frequent_ngrams:\n",
    "        features.append(k[0])\n",
    "        ngram_counts += k[1]\n",
    "    vocab = set(features)\n",
    "    #get document frequency for ngrams\n",
    "    df = Counter(ngrams_df)\n",
    "    # set min df for ngrams whose df is 0 \n",
    "    for i in features:\n",
    "        if i not in ngrams_df:\n",
    "            df[i]=min_df\n",
    "    return vocab, df, ngram_counts\n"
   ]
  },
  {
   "cell_type": "markdown",
   "metadata": {},
   "source": [
    "Now you should use `get_vocab` to create your vocabulary and get document and raw frequencies of n-grams:"
   ]
  },
  {
   "cell_type": "code",
   "execution_count": 1928,
   "metadata": {
    "ExecuteTime": {
     "end_time": "2020-02-15T14:17:39.319793Z",
     "start_time": "2020-02-15T14:17:36.836545Z"
    },
    "scrolled": true
   },
   "outputs": [
    {
     "name": "stdout",
     "output_type": "stream",
     "text": [
      "5000\n",
      "\n",
      "['pre', ('some', 'scenes'), 'ann', 'struggles', 'empty', ('high', 'school'), 'number', 'barry', 'ace', 'threatening', 'henstridge', 'ignore', 'exploring', 'ensemble', 'motion', 'record', 'suffice', 'thrilling', 'walking', 'predictable', 'bunch', 'machines', ('but', 'only'), 'bloody', ('not', 'so'), 'natalie', 'surely', 'non', 'ability', 'impact', 'life', 'line', 'emotions', ('first', 'film'), 'duchovny', 'featuring', ('but', 'never'), 'matters', 'stolen', 'below', 'hard', 'round', 'wanting', 'albert', ('not', 'enough'), 'tense', 'darth', 'bruce', 'chicken', 'actress', 'oh', 'edward', ('but', 'so'), 'police', 'jewish', 'degree', 'floor', 'happen', ('so', 'bad'), 'peak', 'raimi', ('all', 'other'), 'warrior', ('dante', 'peak'), 'ideal', 'trio', 'guard', 'followed', 'predecessor', 'mainly', 'points', ('some', 'other'), 'headed', 'fishburne', 'looking', 'along', ('private', 'ryan'), 'upcoming', 'created', 'richards', ('mel', 'gibson'), 'together', 'lazy', 'murdered', ('while', 'not'), 'families', 'plus', 'wong', 'west', ('film', 'one'), ('go', 'through'), 'duvall', 'mini', 'mitchell', 'explain', 'vampires', 'fugitive', 'knight', 'top', ('fifteen', 'minutes')]\n",
      "\n",
      "[('but', 1334), ('one', 1247), ('film', 1231), ('not', 1170), ('all', 1117), ('movie', 1095), ('out', 1080), ('so', 1047), ('there', 1046), ('like', 1043)]\n"
     ]
    }
   ],
   "source": [
    "vocab, df, ngram_counts = get_vocab(X_tr_raw, ngram_range=(1,3),keep_topN=5000,stop_words=stop_words)\n",
    "print(len(vocab))\n",
    "print()\n",
    "print(list(vocab)[:100])\n",
    "print()\n",
    "print(df.most_common()[:10])"
   ]
  },
  {
   "cell_type": "markdown",
   "metadata": {},
   "source": [
    "Then, you need to create vocabulary id -> word and id -> word dictionaries for reference:"
   ]
  },
  {
   "cell_type": "code",
   "execution_count": 1929,
   "metadata": {
    "ExecuteTime": {
     "end_time": "2020-02-15T14:17:39.326811Z",
     "start_time": "2020-02-15T14:17:39.322256Z"
    }
   },
   "outputs": [],
   "source": [
    "# fill in your code...\n",
    "id_word_dic = dict(enumerate(vocab))\n",
    "word_id_dic = {v:k for k,v in id_word_dic.items()}"
   ]
  },
  {
   "cell_type": "markdown",
   "metadata": {},
   "source": [
    "Now you should be able to extract n-grams for each text in the training, development and test sets:"
   ]
  },
  {
   "cell_type": "code",
   "execution_count": 1930,
   "metadata": {},
   "outputs": [],
   "source": [
    "# get X_ngram\n",
    "def get_X_ngram(X_raw,vocab,ngram_range=(1,3), token_pattern=r'\\b[A-Za-z][A-Za-z]+\\b',stop_words=stop_words):\n",
    "    # create a list of docs,each doc is a list of ngrams\n",
    "    N_grams = []\n",
    "    for i in X_raw:\n",
    "        n_grams = extract_ngrams(i,ngram_range=ngram_range,token_pattern=token_pattern,stop_words=stop_words)\n",
    "        N_grams.append(n_grams) \n",
    "    # remove those ngrams which are not in vocab    \n",
    "    X_ngram = []\n",
    "    for texts in N_grams:\n",
    "        for ngram in texts:\n",
    "            if ngram not in vocab:\n",
    "                texts.remove(ngram)\n",
    "        X_ngram.append(texts)\n",
    "    return X_ngram\n",
    "X_tr_ngram = get_X_ngram(X_tr_raw,vocab,ngram_range=(1,3), token_pattern=r'\\b[A-Za-z][A-Za-z]+\\b',stop_words=stop_words)\n",
    "X_te_ngram = get_X_ngram(X_te_raw,vocab,ngram_range=(1,3), token_pattern=r'\\b[A-Za-z][A-Za-z]+\\b',stop_words=stop_words)\n",
    "X_de_ngram = get_X_ngram(X_de_raw,vocab,ngram_range=(1,3), token_pattern=r'\\b[A-Za-z][A-Za-z]+\\b',stop_words=stop_words)"
   ]
  },
  {
   "cell_type": "markdown",
   "metadata": {},
   "source": [
    "## Vectorise documents "
   ]
  },
  {
   "cell_type": "markdown",
   "metadata": {},
   "source": [
    "Next, write a function `vectoriser` to obtain Bag-of-ngram representations for a list of documents. The function should take as input:\n",
    "- `X_ngram`: a list of texts (documents), where each text is represented as list of n-grams in the `vocab`\n",
    "- `vocab`: a set of n-grams to be used for representing the documents\n",
    "\n",
    "and return:\n",
    "- `X_vec`: an array with dimensionality Nx|vocab| where N is the number of documents and |vocab| is the size of the vocabulary. Each element of the array should represent the frequency of a given n-gram in a document.\n"
   ]
  },
  {
   "cell_type": "code",
   "execution_count": 1931,
   "metadata": {},
   "outputs": [],
   "source": [
    "def vectorise(X_ngram, vocab):\n",
    "    # fill in your code...\n",
    "    N = len(X_ngram)\n",
    "    X_vec = np.zeros((N,len(vocab)))\n",
    "    vocab_list = list(vocab)\n",
    "    for i in range(N):\n",
    "        for j in range(len(vocab)):\n",
    "            #count word frequency in each doc \n",
    "            X_vec[i][j]=X_ngram[i].count(vocab_list[j])\n",
    "    return X_vec\n"
   ]
  },
  {
   "cell_type": "markdown",
   "metadata": {},
   "source": [
    "Finally, use `vectorise` to obtain document vectors for each document in the train, development and test set. You should extract both count and tf.idf vectors respectively:"
   ]
  },
  {
   "cell_type": "code",
   "execution_count": 1932,
   "metadata": {},
   "outputs": [],
   "source": [
    "X_tr_count = vectorise(X_tr_ngram, vocab)\n",
    "X_te_count = vectorise(X_te_ngram, vocab)\n",
    "X_de_count = vectorise(X_de_ngram, vocab)"
   ]
  },
  {
   "cell_type": "markdown",
   "metadata": {},
   "source": [
    "#### Count vectors"
   ]
  },
  {
   "cell_type": "code",
   "execution_count": 1933,
   "metadata": {
    "ExecuteTime": {
     "end_time": "2020-02-15T14:17:42.004808Z",
     "start_time": "2020-02-15T14:17:42.001555Z"
    }
   },
   "outputs": [
    {
     "data": {
      "text/plain": [
       "(1400, 5000)"
      ]
     },
     "execution_count": 1933,
     "metadata": {},
     "output_type": "execute_result"
    }
   ],
   "source": [
    "X_tr_count.shape"
   ]
  },
  {
   "cell_type": "code",
   "execution_count": 1934,
   "metadata": {
    "ExecuteTime": {
     "end_time": "2020-02-15T14:17:42.010525Z",
     "start_time": "2020-02-15T14:17:42.006309Z"
    }
   },
   "outputs": [
    {
     "data": {
      "text/plain": [
       "array([[0., 0., 0., 0., 0., 0., 1., 0., 0., 0., 0., 0., 0., 0., 0., 0.,\n",
       "        0., 0., 0., 0., 0., 0., 0., 0., 0., 0., 0., 0., 0., 0., 0., 0.,\n",
       "        1., 0., 0., 0., 0., 0., 0., 0., 0., 0., 0., 0., 0., 0., 0., 0.,\n",
       "        0., 0.],\n",
       "       [0., 1., 0., 0., 0., 0., 1., 0., 0., 0., 0., 0., 0., 0., 0., 0.,\n",
       "        0., 0., 0., 0., 0., 0., 0., 0., 1., 0., 0., 0., 0., 0., 1., 0.,\n",
       "        0., 0., 0., 0., 0., 1., 0., 0., 0., 0., 0., 0., 0., 0., 0., 0.,\n",
       "        0., 0.]])"
      ]
     },
     "execution_count": 1934,
     "metadata": {},
     "output_type": "execute_result"
    }
   ],
   "source": [
    "X_tr_count[:2,:50]"
   ]
  },
  {
   "cell_type": "markdown",
   "metadata": {},
   "source": [
    "#### TF.IDF vectors\n",
    "\n",
    "First compute `idfs` an array containing inverted document frequencies (Note: its elements should correspond to your `vocab`)"
   ]
  },
  {
   "cell_type": "code",
   "execution_count": 1935,
   "metadata": {
    "ExecuteTime": {
     "end_time": "2020-02-15T14:17:42.022692Z",
     "start_time": "2020-02-15T14:17:42.012315Z"
    }
   },
   "outputs": [],
   "source": [
    "# fill in your code...\n",
    "def get_idf(X_raw,vocab,df):\n",
    "    N = len(X_raw)\n",
    "    idf = np.zeros((len(vocab)))\n",
    "    vocab_list = list(vocab)\n",
    "    for i in range(len(vocab)):\n",
    "        ngram = vocab_list[i]\n",
    "        idf[i] = np.log10(N/df[ngram])\n",
    "    return idf\n",
    "idfs = get_idf(X_tr_raw,vocab,df)"
   ]
  },
  {
   "cell_type": "markdown",
   "metadata": {},
   "source": [
    "Then transform your count vectors to tf.idf vectors:"
   ]
  },
  {
   "cell_type": "code",
   "execution_count": 1936,
   "metadata": {},
   "outputs": [],
   "source": [
    "X_tr_tfidf = X_tr_count*idfs\n",
    "X_te_tfidf = X_te_count*idfs\n",
    "X_de_tfidf = X_de_count*idfs"
   ]
  },
  {
   "cell_type": "code",
   "execution_count": 1937,
   "metadata": {
    "ExecuteTime": {
     "end_time": "2020-02-15T14:17:43.211619Z",
     "start_time": "2020-02-15T14:17:43.207266Z"
    }
   },
   "outputs": [
    {
     "data": {
      "text/plain": [
       "array([0.        , 1.66900678, 0.        , 0.        , 0.        ,\n",
       "       0.        , 1.03553833, 0.        , 0.        , 0.        ,\n",
       "       0.        , 0.        , 0.        , 0.        , 0.        ,\n",
       "       0.        , 0.        , 0.        , 0.        , 0.        ,\n",
       "       0.        , 0.        , 0.        , 0.        , 1.28280518,\n",
       "       0.        , 0.        , 0.        , 0.        , 0.        ,\n",
       "       0.38120505, 0.        , 0.        , 0.        , 0.        ,\n",
       "       0.        , 0.        , 1.43012469, 0.        , 0.        ,\n",
       "       0.        , 0.        , 0.        , 0.        , 0.        ,\n",
       "       0.        , 0.        , 0.        , 0.        , 0.        ])"
      ]
     },
     "execution_count": 1937,
     "metadata": {},
     "output_type": "execute_result"
    }
   ],
   "source": [
    "X_tr_tfidf[1,:50]"
   ]
  },
  {
   "cell_type": "markdown",
   "metadata": {},
   "source": [
    "# Binary Logistic Regression\n",
    "\n",
    "After obtaining vector representations of the data, now you are ready to implement Binary Logistic Regression for classifying sentiment."
   ]
  },
  {
   "cell_type": "markdown",
   "metadata": {},
   "source": [
    "First, you need to implement the `sigmoid` function. It takes as input:\n",
    "\n",
    "- `z`: a real number or an array of real numbers \n",
    "\n",
    "and returns:\n",
    "\n",
    "- `sig`: the sigmoid of `z`"
   ]
  },
  {
   "cell_type": "code",
   "execution_count": 1938,
   "metadata": {
    "ExecuteTime": {
     "end_time": "2020-02-15T14:17:44.160661Z",
     "start_time": "2020-02-15T14:17:44.157902Z"
    }
   },
   "outputs": [],
   "source": [
    "\n",
    "def sigmoid(z):\n",
    "    \n",
    "    # fill in your code...\n",
    "    sig = 1/(1+np.exp(-z))\n",
    "    \n",
    "    return sig"
   ]
  },
  {
   "cell_type": "code",
   "execution_count": 1939,
   "metadata": {
    "ExecuteTime": {
     "end_time": "2020-02-15T14:17:44.351292Z",
     "start_time": "2020-02-15T14:17:44.346822Z"
    }
   },
   "outputs": [
    {
     "name": "stdout",
     "output_type": "stream",
     "text": [
      "0.5\n",
      "[0.00669285 0.76852478]\n"
     ]
    }
   ],
   "source": [
    "print(sigmoid(0)) \n",
    "print(sigmoid(np.array([-5., 1.2])))"
   ]
  },
  {
   "cell_type": "markdown",
   "metadata": {},
   "source": [
    "Then, implement the `predict_proba` function to obtain prediction probabilities. It takes as input:\n",
    "\n",
    "- `X`: an array of inputs, i.e. documents represented by bag-of-ngram vectors ($N \\times |vocab|$)\n",
    "- `weights`: a 1-D array of the model's weights $(1, |vocab|)$\n",
    "\n",
    "and returns:\n",
    "\n",
    "- `preds_proba`: the prediction probabilities of X given the weights"
   ]
  },
  {
   "cell_type": "code",
   "execution_count": 1940,
   "metadata": {
    "ExecuteTime": {
     "end_time": "2020-02-15T14:17:44.718566Z",
     "start_time": "2020-02-15T14:17:44.715017Z"
    }
   },
   "outputs": [],
   "source": [
    "def predict_proba(X, weights):\n",
    "    # fill in your code...\n",
    "    preds_proba = sigmoid(np.dot(weights,X.T))\n",
    "    return preds_proba\n"
   ]
  },
  {
   "cell_type": "markdown",
   "metadata": {},
   "source": [
    "Then, implement the `predict_class` function to obtain the most probable class for each vector in an array of input vectors. It takes as input:\n",
    "\n",
    "- `X`: an array of documents represented by bag-of-ngram vectors ($N \\times |vocab|$)\n",
    "- `weights`: a 1-D array of the model's weights $(1, |vocab|)$\n",
    "\n",
    "and returns:\n",
    "\n",
    "- `preds_class`: the predicted class for each x in X given the weights"
   ]
  },
  {
   "cell_type": "code",
   "execution_count": 1941,
   "metadata": {
    "ExecuteTime": {
     "end_time": "2020-02-15T14:17:45.002125Z",
     "start_time": "2020-02-15T14:17:44.998668Z"
    }
   },
   "outputs": [],
   "source": [
    "def predict_class(X, weights):\n",
    "    # fill in your code...\n",
    "    preds_proba = predict_proba(X, weights)\n",
    "    N = preds_proba.shape[0]\n",
    "    preds_class = np.zeros((N,)).astype(int)\n",
    "    for i in range(len(preds_proba)):\n",
    "        if preds_proba[i]<0.5:\n",
    "            preds_class[i] = 0\n",
    "        else:\n",
    "            preds_class[i] = 1\n",
    "    return preds_class"
   ]
  },
  {
   "cell_type": "markdown",
   "metadata": {},
   "source": [
    "To learn the weights from data, we need to minimise the binary cross-entropy loss. Implement `binary_loss` that takes as input:\n",
    "\n",
    "- `X`: input vectors\n",
    "- `Y`: labels\n",
    "- `weights`: model weights\n",
    "- `alpha`: regularisation strength\n",
    "\n",
    "and return:\n",
    "\n",
    "- `l`: the loss score"
   ]
  },
  {
   "cell_type": "code",
   "execution_count": 1942,
   "metadata": {
    "ExecuteTime": {
     "end_time": "2020-02-15T14:17:45.455533Z",
     "start_time": "2020-02-15T14:17:45.451475Z"
    }
   },
   "outputs": [],
   "source": [
    "def binary_loss(X, Y, weights, alpha=0.00001):\n",
    "    # fill in your code...\n",
    "    preds_proba = predict_proba(X, weights)\n",
    "    L = np.zeros((len(Y),))\n",
    "    for i in range(len(Y)):\n",
    "        # loss of each doc\n",
    "        L[i] = -1*Y[i]*np.log(preds_proba[i])-(1-Y[i])*np.log(1-preds_proba[i])\n",
    "        # regularisation part \n",
    "        regular = alpha*np.square(np.sum(np.power(weights,2)))\n",
    "        L[i] = L[i] + regular\n",
    "    l = np.mean(L)\n",
    "    return l\n",
    "    \n"
   ]
  },
  {
   "cell_type": "markdown",
   "metadata": {},
   "source": [
    "Now, you can implement Stochastic Gradient Descent to learn the weights of your sentiment classifier. The `SGD` function takes as input:\n",
    "\n",
    "- `X_tr`: array of training data (vectors)\n",
    "- `Y_tr`: labels of `X_tr`\n",
    "- `X_dev`: array of development (i.e. validation) data (vectors)\n",
    "- `Y_dev`: labels of `X_dev`\n",
    "- `lr`: learning rate\n",
    "- `alpha`: regularisation strength\n",
    "- `epochs`: number of full passes over the training data\n",
    "- `tolerance`: stop training if the difference between the current and previous validation loss is smaller than a threshold\n",
    "- `print_progress`: flag for printing the training progress (train/validation loss)\n",
    "\n",
    "\n",
    "and returns:\n",
    "\n",
    "- `weights`: the weights learned\n",
    "- `training_loss_history`: an array with the average losses of the whole training set after each epoch\n",
    "- `validation_loss_history`: an array with the average losses of the whole development set after each epoch"
   ]
  },
  {
   "cell_type": "code",
   "execution_count": 1946,
   "metadata": {
    "ExecuteTime": {
     "end_time": "2020-02-15T14:17:45.968510Z",
     "start_time": "2020-02-15T14:17:45.958185Z"
    }
   },
   "outputs": [],
   "source": [
    "def SGD(X_tr, Y_tr, X_dev=[], Y_dev=[], loss=\"binary\", lr=0.1, alpha=0.00001, epochs=5, tolerance=0.0001, print_progress=True):\n",
    "    \n",
    "    cur_loss_tr = 1.\n",
    "    cur_loss_dev = 1.\n",
    "    training_loss_history = []\n",
    "    validation_loss_history = []\n",
    "    # initialize w with zeros\n",
    "    m,n = X_tr.shape\n",
    "    weights = np.zeros((n,))\n",
    "    for i in range(epochs):\n",
    "        # randomise order in training Data\n",
    "        permutation = np.random.permutation(m)\n",
    "        shuffled_x = X_tr[permutation,:]\n",
    "        shuffled_y = Y_tr[permutation]\n",
    "        for j in range(len(shuffled_y)):\n",
    "            # prediction value\n",
    "            h = predict_proba(shuffled_x[j],weights)\n",
    "            # compute the error\n",
    "            error = h - shuffled_y[j]\n",
    "            # update weights and use L2 regularisation\n",
    "            weights = weights - lr*((shuffled_x[j]*error)+2*alpha*weights)\n",
    "        pre_loss_tr = cur_loss_tr\n",
    "        pre_loss_dev = cur_loss_dev\n",
    "        cur_loss_tr = binary_loss(shuffled_x,shuffled_y,weights,alpha)\n",
    "        cur_loss_dev = binary_loss(X_dev,Y_dev,weights,alpha)\n",
    "        training_loss_history.append(cur_loss_tr)\n",
    "        validation_loss_history.append(cur_loss_dev)\n",
    "        if print_progress==True:\n",
    "            print(\"Epoch: \",i,\"| Training loss: \",cur_loss_tr,\"| Validation loss: \",cur_loss_dev)\n",
    "        if (pre_loss_dev - cur_loss_dev) < tolerance:\n",
    "            break\n",
    "            \n",
    "\n",
    "    return weights, training_loss_history, validation_loss_history\n",
    "\n",
    "\n"
   ]
  },
  {
   "cell_type": "markdown",
   "metadata": {},
   "source": [
    "## Train and Evaluate Logistic Regression with Count vectors\n",
    "\n",
    "First train the model using SGD:"
   ]
  },
  {
   "cell_type": "code",
   "execution_count": 1947,
   "metadata": {
    "ExecuteTime": {
     "end_time": "2020-02-15T14:17:51.480197Z",
     "start_time": "2020-02-15T14:17:46.362729Z"
    },
    "scrolled": true
   },
   "outputs": [
    {
     "name": "stdout",
     "output_type": "stream",
     "text": [
      "Epoch:  0 | Training loss:  0.6287448383180287 | Validation loss:  0.6460804805745204\n",
      "Epoch:  1 | Training loss:  0.5847009748726169 | Validation loss:  0.6155549977825893\n",
      "Epoch:  2 | Training loss:  0.5514903395604694 | Validation loss:  0.593369204588327\n",
      "Epoch:  3 | Training loss:  0.5235667821132639 | Validation loss:  0.5734761277101876\n",
      "Epoch:  4 | Training loss:  0.5019700388425717 | Validation loss:  0.5578722999651631\n",
      "Epoch:  5 | Training loss:  0.48168011997147864 | Validation loss:  0.5453146365860989\n",
      "Epoch:  6 | Training loss:  0.4654191896964703 | Validation loss:  0.537264611135136\n",
      "Epoch:  7 | Training loss:  0.4494563060260835 | Validation loss:  0.5252515891478492\n",
      "Epoch:  8 | Training loss:  0.4360583053465348 | Validation loss:  0.5179887824260425\n",
      "Epoch:  9 | Training loss:  0.4248582315006029 | Validation loss:  0.5098375242346687\n",
      "Epoch:  10 | Training loss:  0.41260975974958713 | Validation loss:  0.5030286197437708\n",
      "Epoch:  11 | Training loss:  0.4023022299223317 | Validation loss:  0.4973363395173602\n",
      "Epoch:  12 | Training loss:  0.3933294388314568 | Validation loss:  0.49155344641076854\n",
      "Epoch:  13 | Training loss:  0.38446207185867315 | Validation loss:  0.4877625414993604\n",
      "Epoch:  14 | Training loss:  0.3759684381221936 | Validation loss:  0.48250520240676287\n",
      "Epoch:  15 | Training loss:  0.3683616711775805 | Validation loss:  0.47838580848454737\n",
      "Epoch:  16 | Training loss:  0.36097454016012137 | Validation loss:  0.473925593832637\n",
      "Epoch:  17 | Training loss:  0.35457688066305504 | Validation loss:  0.471030177746228\n",
      "Epoch:  18 | Training loss:  0.3477275709803097 | Validation loss:  0.46647542258094227\n",
      "Epoch:  19 | Training loss:  0.3416181905108455 | Validation loss:  0.46332955663067077\n",
      "Epoch:  20 | Training loss:  0.3358452045039249 | Validation loss:  0.46012523039659287\n",
      "Epoch:  21 | Training loss:  0.3303087956312837 | Validation loss:  0.457402137519982\n",
      "Epoch:  22 | Training loss:  0.32506304931143437 | Validation loss:  0.4547532011851533\n",
      "Epoch:  23 | Training loss:  0.3203170765826494 | Validation loss:  0.4527465879465594\n",
      "Epoch:  24 | Training loss:  0.31526243583809754 | Validation loss:  0.4496792300744611\n",
      "Epoch:  25 | Training loss:  0.3112310238186765 | Validation loss:  0.44760627967762806\n",
      "Epoch:  26 | Training loss:  0.3064793223794771 | Validation loss:  0.4452801628139267\n",
      "Epoch:  27 | Training loss:  0.3020586844760524 | Validation loss:  0.44321457049171753\n",
      "Epoch:  28 | Training loss:  0.29870808457738135 | Validation loss:  0.4417146836816957\n",
      "Epoch:  29 | Training loss:  0.29411819919081755 | Validation loss:  0.4395435294620444\n",
      "Epoch:  30 | Training loss:  0.2903874002326494 | Validation loss:  0.437849812291881\n",
      "Epoch:  31 | Training loss:  0.28677313885918326 | Validation loss:  0.43640055447168263\n",
      "Epoch:  32 | Training loss:  0.28325397264342456 | Validation loss:  0.43468736194461255\n",
      "Epoch:  33 | Training loss:  0.28011833152314164 | Validation loss:  0.43371681739412943\n",
      "Epoch:  34 | Training loss:  0.2767087288509685 | Validation loss:  0.43189773530226766\n",
      "Epoch:  35 | Training loss:  0.27377621371044225 | Validation loss:  0.4307006152956043\n",
      "Epoch:  36 | Training loss:  0.27120892286202425 | Validation loss:  0.43042629654015196\n",
      "Epoch:  37 | Training loss:  0.2681407868400335 | Validation loss:  0.42903206665635324\n",
      "Epoch:  38 | Training loss:  0.2647358124239204 | Validation loss:  0.42695648528724006\n",
      "Epoch:  39 | Training loss:  0.2619649246033636 | Validation loss:  0.42591664142306795\n",
      "Epoch:  40 | Training loss:  0.25930309069090235 | Validation loss:  0.4248105365321222\n",
      "Epoch:  41 | Training loss:  0.25695575221312994 | Validation loss:  0.42400823135435134\n",
      "Epoch:  42 | Training loss:  0.2542516795065611 | Validation loss:  0.42299894113416187\n",
      "Epoch:  43 | Training loss:  0.2518130838741669 | Validation loss:  0.4220654286362428\n",
      "Epoch:  44 | Training loss:  0.249521098018587 | Validation loss:  0.4212011676309671\n",
      "Epoch:  45 | Training loss:  0.24725911545014762 | Validation loss:  0.4205430524928969\n",
      "Epoch:  46 | Training loss:  0.24493572065040728 | Validation loss:  0.41959926699797934\n",
      "Epoch:  47 | Training loss:  0.24285772862194302 | Validation loss:  0.418947847075571\n",
      "Epoch:  48 | Training loss:  0.24068863342107769 | Validation loss:  0.4182376588546588\n",
      "Epoch:  49 | Training loss:  0.2386620537004955 | Validation loss:  0.4176097928296234\n",
      "Epoch:  50 | Training loss:  0.2367640063935614 | Validation loss:  0.4170973271377263\n",
      "Epoch:  51 | Training loss:  0.23488906502142093 | Validation loss:  0.41660959452098967\n",
      "Epoch:  52 | Training loss:  0.23288575769087955 | Validation loss:  0.4158458972855778\n",
      "Epoch:  53 | Training loss:  0.23106697225996958 | Validation loss:  0.4153153310888517\n",
      "Epoch:  54 | Training loss:  0.2293054852169156 | Validation loss:  0.41483509000422936\n",
      "Epoch:  55 | Training loss:  0.22763069390418436 | Validation loss:  0.4144302132121893\n",
      "Epoch:  56 | Training loss:  0.22590112899464182 | Validation loss:  0.4139405911797138\n",
      "Epoch:  57 | Training loss:  0.22429562758716035 | Validation loss:  0.4135588568202402\n",
      "Epoch:  58 | Training loss:  0.222752191121785 | Validation loss:  0.41323838767359183\n",
      "Epoch:  59 | Training loss:  0.22115462703978775 | Validation loss:  0.4128082001964299\n",
      "Epoch:  60 | Training loss:  0.21971674274921255 | Validation loss:  0.41257454249791414\n",
      "Epoch:  61 | Training loss:  0.21823014225196688 | Validation loss:  0.412232016095769\n",
      "Epoch:  62 | Training loss:  0.21688017164939163 | Validation loss:  0.41204413571053\n",
      "Epoch:  63 | Training loss:  0.21578241541954396 | Validation loss:  0.4121543851592924\n"
     ]
    }
   ],
   "source": [
    "w_count, loss_tr_count, dev_loss_count = SGD(X_tr_count, Y_tr, \n",
    "                                             X_dev=X_de_count, \n",
    "                                             Y_dev=Y_de, \n",
    "                                             lr=0.0001, \n",
    "                                             alpha=0.001, \n",
    "                                             epochs=100\n",
    "                                             )"
   ]
  },
  {
   "cell_type": "markdown",
   "metadata": {},
   "source": [
    "Now plot the training and validation history per epoch. Does your model underfit, overfit or is it about right? Explain why.\n"
   ]
  },
  {
   "cell_type": "code",
   "execution_count": 1948,
   "metadata": {
    "ExecuteTime": {
     "end_time": "2020-02-15T14:17:51.598911Z",
     "start_time": "2020-02-15T14:17:51.482307Z"
    }
   },
   "outputs": [
    {
     "data": {
      "image/png": "[encoded data removed]",
      "text/plain": [
       "<Figure size 432x288 with 1 Axes>"
      ]
     },
     "metadata": {
      "needs_background": "light"
     },
     "output_type": "display_data"
    }
   ],
   "source": [
    "epochs = []\n",
    "for i in range(len(loss_tr_count)):\n",
    "    epochs.append(i)\n",
    "plt.plot(epochs, loss_tr_count,label='training loss')\n",
    "plt.plot(epochs, dev_loss_count,label='validation loss')\n",
    "plt.legend()\n",
    "plt.title('Training Monitoring')\n",
    "plt.xlabel('Loss')\n",
    "plt.ylabel('Epochs')\n",
    "plt.show()"
   ]
  },
  {
   "cell_type": "markdown",
   "metadata": {
    "ExecuteTime": {
     "end_time": "2020-01-21T16:52:26.583150Z",
     "start_time": "2020-01-21T16:52:26.578754Z"
    }
   },
   "source": [
    "Explain here...\n",
    "\n",
    "The model is about right. Because both of the training loss and validation loss are declining and when train processes stop they are close to be convergent."
   ]
  },
  {
   "cell_type": "markdown",
   "metadata": {},
   "source": [
    "Compute accuracy, precision, recall and F1-scores:"
   ]
  },
  {
   "cell_type": "code",
   "execution_count": 1949,
   "metadata": {
    "ExecuteTime": {
     "end_time": "2020-02-15T14:37:40.569499Z",
     "start_time": "2020-02-15T14:37:40.566796Z"
    }
   },
   "outputs": [
    {
     "name": "stdout",
     "output_type": "stream",
     "text": [
      "Accuracy: 0.84\n",
      "Precision: 0.84\n",
      "Recall: 0.84\n",
      "F1-Score: 0.8399999999999999\n"
     ]
    }
   ],
   "source": [
    "# fill in your code...\n",
    "preds_te_count = predict_class(X_te_count, w_count)\n",
    "print('Accuracy:', accuracy_score(Y_te,preds_te_count))\n",
    "print('Precision:', precision_score(Y_te,preds_te_count))\n",
    "print('Recall:', recall_score(Y_te,preds_te_count))\n",
    "print('F1-Score:', f1_score(Y_te,preds_te_count))"
   ]
  },
  {
   "cell_type": "markdown",
   "metadata": {},
   "source": [
    "Finally, print the top-10 words for the negative and positive class respectively."
   ]
  },
  {
   "cell_type": "code",
   "execution_count": 1950,
   "metadata": {
    "ExecuteTime": {
     "end_time": "2020-02-15T14:37:07.638179Z",
     "start_time": "2020-02-15T14:37:07.635838Z"
    }
   },
   "outputs": [
    {
     "name": "stdout",
     "output_type": "stream",
     "text": [
      "top-10 words for negative class:\n",
      "bad\n",
      "only\n",
      "unfortunately\n",
      "worst\n",
      "plot\n",
      "script\n",
      "why\n",
      "boring\n",
      "any\n",
      "nothing\n"
     ]
    }
   ],
   "source": [
    "# fill in your code..\n",
    "# top10 negative words\n",
    "vocab_list = list(vocab)\n",
    "neg_w = sorted(w_count)\n",
    "print(\"top-10 words for negative class:\")\n",
    "for i in range(10):\n",
    "    index = np.where(w_count == neg_w[i])[0][0]\n",
    "    print(vocab_list[index])\n",
    "    "
   ]
  },
  {
   "cell_type": "code",
   "execution_count": 1951,
   "metadata": {
    "ExecuteTime": {
     "end_time": "2020-02-15T14:37:08.381103Z",
     "start_time": "2020-02-15T14:37:08.378641Z"
    }
   },
   "outputs": [
    {
     "name": "stdout",
     "output_type": "stream",
     "text": [
      "top-10 words for positive class:\n",
      "great\n",
      "well\n",
      "also\n",
      "seen\n",
      "life\n",
      "fun\n",
      "many\n",
      "world\n",
      "both\n",
      "movies\n"
     ]
    }
   ],
   "source": [
    "# fill in your code...\n",
    "# top10 positive words\n",
    "pos_w = sorted(w_count,reverse = True)\n",
    "print(\"top-10 words for positive class:\")\n",
    "for i in range(10):\n",
    "    index = np.where(w_count == pos_w[i])[0][0]\n",
    "    print(vocab_list[index])"
   ]
  },
  {
   "cell_type": "markdown",
   "metadata": {},
   "source": [
    "If we were to apply the classifier we've learned into a different domain such laptop reviews or restaurant reviews, do you think these features would generalise well? Can you propose what features the classifier could pick up as important in the new domain?"
   ]
  },
  {
   "cell_type": "markdown",
   "metadata": {},
   "source": [
    "Provide your answer here...\n",
    "\n",
    "These features would not generalise commodity reviews perfectly because they include some noun words(movies,world,script,life). These features cannot show wheather reviews are positive or negative. Only those adjective features like emotional words(bad, worst boring great fun...) that are used to evaluate commodity could be picked up."
   ]
  },
  {
   "cell_type": "markdown",
   "metadata": {},
   "source": [
    "## Train and Evaluate Logistic Regression with TF.IDF vectors\n",
    "\n",
    "Follow the same steps as above (i.e. evaluating count n-gram representations).\n"
   ]
  },
  {
   "cell_type": "code",
   "execution_count": 1952,
   "metadata": {
    "ExecuteTime": {
     "end_time": "2020-02-15T14:17:54.414637Z",
     "start_time": "2020-02-15T14:17:51.625934Z"
    },
    "scrolled": true
   },
   "outputs": [
    {
     "name": "stdout",
     "output_type": "stream",
     "text": [
      "Epoch:  0 | Training loss:  0.6387394645509009 | Validation loss:  0.6646193340071946\n",
      "Epoch:  1 | Training loss:  0.5968689754636599 | Validation loss:  0.6429415956760386\n",
      "Epoch:  2 | Training loss:  0.5623396165166045 | Validation loss:  0.6251052956422272\n",
      "Epoch:  3 | Training loss:  0.5331379897978898 | Validation loss:  0.6097801594524369\n",
      "Epoch:  4 | Training loss:  0.5080009553911554 | Validation loss:  0.5967061958522705\n",
      "Epoch:  5 | Training loss:  0.48598397188207254 | Validation loss:  0.5852016523207958\n",
      "Epoch:  6 | Training loss:  0.4664557163211444 | Validation loss:  0.5750434455815823\n",
      "Epoch:  7 | Training loss:  0.4490006784861553 | Validation loss:  0.5659601624233466\n",
      "Epoch:  8 | Training loss:  0.4332453248112313 | Validation loss:  0.5578201901696366\n",
      "Epoch:  9 | Training loss:  0.41891181526807875 | Validation loss:  0.5504702286063256\n",
      "Epoch:  10 | Training loss:  0.40578933346393653 | Validation loss:  0.5437661232597261\n",
      "Epoch:  11 | Training loss:  0.39363428069185424 | Validation loss:  0.5374856132202338\n",
      "Epoch:  12 | Training loss:  0.3823978913677033 | Validation loss:  0.531657727382089\n",
      "Epoch:  13 | Training loss:  0.37196456568343533 | Validation loss:  0.5263272146767536\n",
      "Epoch:  14 | Training loss:  0.36222390713009184 | Validation loss:  0.5213038380766178\n",
      "Epoch:  15 | Training loss:  0.3531019409600564 | Validation loss:  0.5166899487179863\n",
      "Epoch:  16 | Training loss:  0.34453622061064515 | Validation loss:  0.5123455370500083\n",
      "Epoch:  17 | Training loss:  0.33645757152619127 | Validation loss:  0.5082311892349027\n",
      "Epoch:  18 | Training loss:  0.32881037987183626 | Validation loss:  0.5042000621273476\n",
      "Epoch:  19 | Training loss:  0.321583681151182 | Validation loss:  0.5005679663496797\n",
      "Epoch:  20 | Training loss:  0.3147228728621788 | Validation loss:  0.497021386122795\n",
      "Epoch:  21 | Training loss:  0.3082165823797972 | Validation loss:  0.4936039850236934\n",
      "Epoch:  22 | Training loss:  0.3019943571276996 | Validation loss:  0.4905235736334467\n",
      "Epoch:  23 | Training loss:  0.29606955986937333 | Validation loss:  0.4875410480189032\n",
      "Epoch:  24 | Training loss:  0.2904111385121604 | Validation loss:  0.4846823924442425\n",
      "Epoch:  25 | Training loss:  0.2849964509024652 | Validation loss:  0.4818991116231041\n",
      "Epoch:  26 | Training loss:  0.27980857460449987 | Validation loss:  0.47928190469190524\n",
      "Epoch:  27 | Training loss:  0.274833192568072 | Validation loss:  0.4767866366671801\n",
      "Epoch:  28 | Training loss:  0.2700546002750944 | Validation loss:  0.47432922975645425\n",
      "Epoch:  29 | Training loss:  0.2654607529512865 | Validation loss:  0.4720240422717186\n",
      "Epoch:  30 | Training loss:  0.2610410923376829 | Validation loss:  0.4698019883011004\n",
      "Epoch:  31 | Training loss:  0.25678880939325444 | Validation loss:  0.46774915811630696\n",
      "Epoch:  32 | Training loss:  0.2526803782822503 | Validation loss:  0.46562795374280724\n",
      "Epoch:  33 | Training loss:  0.24871673314045295 | Validation loss:  0.46358318104778645\n",
      "Epoch:  34 | Training loss:  0.2448903391797806 | Validation loss:  0.4616270444727639\n",
      "Epoch:  35 | Training loss:  0.24119248651650593 | Validation loss:  0.4597532651780613\n",
      "Epoch:  36 | Training loss:  0.23761694324886434 | Validation loss:  0.4579394563578903\n",
      "Epoch:  37 | Training loss:  0.23415764812877732 | Validation loss:  0.45611896147078296\n",
      "Epoch:  38 | Training loss:  0.2308088169231436 | Validation loss:  0.4543985486058348\n",
      "Epoch:  39 | Training loss:  0.22755623912614162 | Validation loss:  0.45284892270040283\n",
      "Epoch:  40 | Training loss:  0.2244061859705956 | Validation loss:  0.4513106468764714\n",
      "Epoch:  41 | Training loss:  0.22135026591827195 | Validation loss:  0.44975104926108656\n",
      "Epoch:  42 | Training loss:  0.21838274428460258 | Validation loss:  0.448311126287099\n",
      "Epoch:  43 | Training loss:  0.21550113555180828 | Validation loss:  0.4469140041284044\n",
      "Epoch:  44 | Training loss:  0.21269989481822482 | Validation loss:  0.44551189721149426\n",
      "Epoch:  45 | Training loss:  0.20997585741655642 | Validation loss:  0.44410302704336346\n",
      "Epoch:  46 | Training loss:  0.2073284359445056 | Validation loss:  0.442719501558827\n",
      "Epoch:  47 | Training loss:  0.20474833720654634 | Validation loss:  0.44150217075647746\n",
      "Epoch:  48 | Training loss:  0.20223810637003645 | Validation loss:  0.44026093860706395\n",
      "Epoch:  49 | Training loss:  0.19979269371503494 | Validation loss:  0.4390808525967976\n"
     ]
    }
   ],
   "source": [
    "w_tfidf, trl, devl = SGD(X_tr_tfidf, Y_tr, \n",
    "                         X_dev=X_de_tfidf, \n",
    "                         Y_dev=Y_de, \n",
    "                         lr=0.0001, \n",
    "                         alpha=0.00001,\n",
    "                         epochs=50)"
   ]
  },
  {
   "cell_type": "markdown",
   "metadata": {},
   "source": [
    "Now plot the training and validation history per epoch. Does your model underfit, overfit or is it about right? Explain why."
   ]
  },
  {
   "cell_type": "code",
   "execution_count": 1953,
   "metadata": {
    "ExecuteTime": {
     "end_time": "2020-02-15T14:17:54.517668Z",
     "start_time": "2020-02-15T14:17:54.417118Z"
    }
   },
   "outputs": [
    {
     "data": {
      "image/png": "[encoded data removed]",
      "text/plain": [
       "<Figure size 432x288 with 1 Axes>"
      ]
     },
     "metadata": {
      "needs_background": "light"
     },
     "output_type": "display_data"
    }
   ],
   "source": [
    "# fill in your code...\n",
    "\n",
    "epochs = []\n",
    "for i in range(len(trl)):\n",
    "    epochs.append(i)\n",
    "\n",
    "plt.plot(epochs, trl, label='training loss')\n",
    "plt.plot(epochs, devl, label='validation loss')\n",
    "plt.legend()\n",
    "plt.title('Training Monitoring')\n",
    "plt.xlabel('Loss')\n",
    "plt.ylabel('Epochs')\n",
    "plt.show()"
   ]
  },
  {
   "cell_type": "markdown",
   "metadata": {},
   "source": [
    "The model is about right. The validation loss is declining and convergent at the end of the training process, but it seems that training loss is not quite convergent and it still can be declining."
   ]
  },
  {
   "cell_type": "markdown",
   "metadata": {},
   "source": [
    "Compute accuracy, precision, recall and F1-scores:"
   ]
  },
  {
   "cell_type": "code",
   "execution_count": 1954,
   "metadata": {
    "ExecuteTime": {
     "end_time": "2020-02-15T14:37:56.489814Z",
     "start_time": "2020-02-15T14:37:56.487014Z"
    }
   },
   "outputs": [
    {
     "name": "stdout",
     "output_type": "stream",
     "text": [
      "Accuracy: 0.855\n",
      "Precision: 0.8480392156862745\n",
      "Recall: 0.865\n",
      "F1-Score: 0.8564356435643564\n"
     ]
    }
   ],
   "source": [
    "# fill in your code...\n",
    "preds_te = predict_class(X_te_tfidf, w_tfidf)\n",
    "print('Accuracy:', accuracy_score(Y_te,preds_te))\n",
    "print('Precision:', precision_score(Y_te,preds_te))\n",
    "print('Recall:', recall_score(Y_te,preds_te))\n",
    "print('F1-Score:', f1_score(Y_te,preds_te))"
   ]
  },
  {
   "cell_type": "markdown",
   "metadata": {},
   "source": [
    "Print top-10 most positive and negative words:"
   ]
  },
  {
   "cell_type": "code",
   "execution_count": 1955,
   "metadata": {
    "ExecuteTime": {
     "end_time": "2020-02-15T14:38:17.845485Z",
     "start_time": "2020-02-15T14:38:17.842557Z"
    }
   },
   "outputs": [
    {
     "name": "stdout",
     "output_type": "stream",
     "text": [
      "top-10 words for negative class:\n",
      "bad\n",
      "worst\n",
      "boring\n",
      "supposed\n",
      "why\n",
      "unfortunately\n",
      "stupid\n",
      "harry\n",
      "ridiculous\n",
      "nothing\n"
     ]
    }
   ],
   "source": [
    "# fill in your code...\n",
    "neg_w_tfidf = sorted(w_tfidf)\n",
    "print(\"top-10 words for negative class:\")\n",
    "for i in range(10):\n",
    "    index = np.where(w_tfidf == neg_w_tfidf[i])[0][0]\n",
    "    print(vocab_list[index])"
   ]
  },
  {
   "cell_type": "code",
   "execution_count": 1956,
   "metadata": {
    "ExecuteTime": {
     "end_time": "2020-02-15T14:38:22.781128Z",
     "start_time": "2020-02-15T14:38:22.778590Z"
    }
   },
   "outputs": [
    {
     "name": "stdout",
     "output_type": "stream",
     "text": [
      "top-10 words for positive class:\n",
      "great\n",
      "truman\n",
      "life\n",
      "perfectly\n",
      "hilarious\n",
      "terrific\n",
      "perfect\n",
      "excellent\n",
      "memorable\n",
      "world\n"
     ]
    }
   ],
   "source": [
    "# fill in your code...\n",
    "pos_w_tfidf = sorted(w_tfidf,reverse = True)\n",
    "print(\"top-10 words for positive class:\")\n",
    "for i in range(10):\n",
    "    index = np.where(w_tfidf == pos_w_tfidf[i])[0][0]\n",
    "    print(vocab_list[index])"
   ]
  },
  {
   "cell_type": "markdown",
   "metadata": {},
   "source": [
    "The model perform better after using tf-idf vectors. More adjective words are generated in the results. The words like unfortunately, ridiculous, stupid, ridiculous, perfectly, hilarious... could be picked up in different domains."
   ]
  },
  {
   "cell_type": "markdown",
   "metadata": {},
   "source": [
    "### Discuss how did you choose model hyperparameters (e.g. learning rate and regularisation strength)? What is the relation between training epochs and learning rate? How the regularisation strength affects performance?"
   ]
  },
  {
   "cell_type": "markdown",
   "metadata": {},
   "source": [
    "Enter your answer here...\n",
    "\n",
    "I attempt to choose learning rate by multiple 0.1. If the loss is increasing, I will adjust the learning rate by choosing a smaller number. If the loss is gradually decreasing and can be convergence, that would be the best choice for learing rate. After choosing the learning rate, then according to the validation loss increasing or decreasing the regularistion strength 10 times of 0.1. The optimal hyperparameters would give a high precision and recall rate model. The smaller the learning rate, the more training epochs. The regularisation strength can prevent model overfitting, to make sure the model has both good performance on both training set and test set."
   ]
  },
  {
   "cell_type": "markdown",
   "metadata": {},
   "source": [
    "\n",
    "\n",
    "## Full Results\n",
    "\n",
    "Add here your results:\n",
    "\n",
    "| LR | Precision  | Recall  | F1-Score  |\n",
    "|:-:|:-:|:-:|:-:|\n",
    "| BOW-count  |  0.84 | 0.84  | 0.83  |\n",
    "| BOW-tfidf  | 0.84  | 0.86  |  0.85 |\n"
   ]
  },
  {
   "cell_type": "markdown",
   "metadata": {},
   "source": [
    "# Multi-class Logistic Regression \n",
    "\n",
    "Now you need to train a Multiclass Logistic Regression (MLR) Classifier by extending the Binary model you developed above. You will use the MLR model to perform topic classification on the AG news dataset consisting of three classes:"
   ]
  },
  {
   "cell_type": "markdown",
   "metadata": {},
   "source": [
    "- Class 1: World\n",
    "- Class 2: Sports\n",
    "- Class 3: Business"
   ]
  },
  {
   "cell_type": "markdown",
   "metadata": {},
   "source": [
    "You need to follow the same process as in Task 1 for data processing and feature extraction by reusing the functions you wrote."
   ]
  },
  {
   "cell_type": "code",
   "execution_count": 1957,
   "metadata": {
    "ExecuteTime": {
     "end_time": "2020-02-15T14:18:03.212229Z",
     "start_time": "2020-02-15T14:18:03.185261Z"
    }
   },
   "outputs": [],
   "source": [
    "# fill in your code...\n",
    "data_tr = pd.read_csv('./data_topic/train.csv',header=None,names=['label','text'])\n",
    "data_te = pd.read_csv('./data_topic/test.csv',header=None,names=['label','text'])\n",
    "data_de = pd.read_csv('./data_topic/dev.csv',header=None,names=['label','text'])"
   ]
  },
  {
   "cell_type": "code",
   "execution_count": 1958,
   "metadata": {
    "ExecuteTime": {
     "end_time": "2020-02-15T14:18:03.515585Z",
     "start_time": "2020-02-15T14:18:03.508299Z"
    }
   },
   "outputs": [
    {
     "data": {
      "text/html": [
       "<div>\n",
       "<style scoped>\n",
       "    .dataframe tbody tr th:only-of-type {\n",
       "        vertical-align: middle;\n",
       "    }\n",
       "\n",
       "    .dataframe tbody tr th {\n",
       "        vertical-align: top;\n",
       "    }\n",
       "\n",
       "    .dataframe thead th {\n",
       "        text-align: right;\n",
       "    }\n",
       "</style>\n",
       "<table border=\"1\" class=\"dataframe\">\n",
       "  <thead>\n",
       "    <tr style=\"text-align: right;\">\n",
       "      <th></th>\n",
       "      <th>label</th>\n",
       "      <th>text</th>\n",
       "    </tr>\n",
       "  </thead>\n",
       "  <tbody>\n",
       "    <tr>\n",
       "      <th>0</th>\n",
       "      <td>1</td>\n",
       "      <td>Reuters - Venezuelans turned out early\\and in ...</td>\n",
       "    </tr>\n",
       "    <tr>\n",
       "      <th>1</th>\n",
       "      <td>1</td>\n",
       "      <td>Reuters - South Korean police used water canno...</td>\n",
       "    </tr>\n",
       "    <tr>\n",
       "      <th>2</th>\n",
       "      <td>1</td>\n",
       "      <td>Reuters - Thousands of Palestinian\\prisoners i...</td>\n",
       "    </tr>\n",
       "    <tr>\n",
       "      <th>3</th>\n",
       "      <td>1</td>\n",
       "      <td>AFP - Sporadic gunfire and shelling took place...</td>\n",
       "    </tr>\n",
       "    <tr>\n",
       "      <th>4</th>\n",
       "      <td>1</td>\n",
       "      <td>AP - Dozens of Rwandan soldiers flew into Suda...</td>\n",
       "    </tr>\n",
       "  </tbody>\n",
       "</table>\n",
       "</div>"
      ],
      "text/plain": [
       "   label                                               text\n",
       "0      1  Reuters - Venezuelans turned out early\\and in ...\n",
       "1      1  Reuters - South Korean police used water canno...\n",
       "2      1  Reuters - Thousands of Palestinian\\prisoners i...\n",
       "3      1  AFP - Sporadic gunfire and shelling took place...\n",
       "4      1  AP - Dozens of Rwandan soldiers flew into Suda..."
      ]
     },
     "execution_count": 1958,
     "metadata": {},
     "output_type": "execute_result"
    }
   ],
   "source": [
    "data_tr.head()"
   ]
  },
  {
   "cell_type": "code",
   "execution_count": 1959,
   "metadata": {
    "ExecuteTime": {
     "end_time": "2020-02-15T14:18:03.806523Z",
     "start_time": "2020-02-15T14:18:03.798279Z"
    }
   },
   "outputs": [],
   "source": [
    "# fill in your code...\n",
    "#train data transformation\n",
    "X_tr_raw = data_tr['text'].tolist()\n",
    "Y_tr = np.array(data_tr['label'])\n",
    "#test data transformatino\n",
    "X_te_raw = data_te['text'].tolist()\n",
    "Y_te = np.array(data_te['label'])\n",
    "#development data transformation\n",
    "X_de_raw = data_de['text'].tolist()\n",
    "Y_de = np.array(data_de['label'])"
   ]
  },
  {
   "cell_type": "code",
   "execution_count": 1960,
   "metadata": {
    "ExecuteTime": {
     "end_time": "2020-02-15T14:18:04.508938Z",
     "start_time": "2020-02-15T14:18:04.171071Z"
    }
   },
   "outputs": [
    {
     "name": "stdout",
     "output_type": "stream",
     "text": [
      "5000\n",
      "\n",
      "['berlusconi', 'pre', 'empty', 'number', 'barry', 'basketball', 'threatening', ('internet', 'ipo'), 'dug', 'thumb', 'record', ('agency', 'said'), 'eastern', ('nfl', 'players', 'association'), ('beijing', 'reuters', 'china'), ('higher', 'wednesday'), ('two', 'most', 'spectacular'), 'keller', 'bloody', ('lowe', 'cos', 'lt'), 'non', 'impact', ('general', 'motors'), 'life', 'tumbled', 'line', 'ohalete', 'below', 'hard', 'round', 'calif', ('street', 'estimates'), 'sprinters', ('months', 'industry', 'group'), ('iraq', 'national', 'conference'), ('strength', 'agricultural'), ('ninth', 'inning'), ('fullquote', 'gt'), ('public', 'offering', 'registration'), ('baltimore', 'orioles'), ('home', 'improvement'), ('man', 'among', 'sick'), ('election', 'year'), 'police', 'jewish', 'knee', 'happen', 'venus', ('public', 'offering'), ('offering', 'nearly'), 'bush', ('go', 'ahead'), ('agreed', 'disarm'), ('final', 'phelps'), 'burundi', 'guard', 'hostile', 'points', 'programs', 'headed', ('farm', 'equipment', 'makers'), 'looking', 'along', 'stores', ('inc', 'slashed', 'size'), 'created', ('starts', 'rebounded'), 'kenteris', ('about', 'inflation', 'least'), 'puerto', ('cruciate', 'ligament', 'right'), 'together', ('reuters', 'stocks'), ('premier', 'silvio'), 'dorman', ('anticipated', 'initial', 'public'), ('more', 'than', 'congolese'), 'families', ('medals', 'athens', 'olympics'), 'plus', 'west', ('search', 'engine', 'wednesday'), ('cleveland', 'indians'), 'cos', ('john', 'howard'), ('rival', 'province', 'healthcare'), ('shi', 'ite', 'uprising'), ('tournament', 'tuesday'), ('ipo', 'years'), ('monday', 'night'), 'top', ('conspiracy', 'murder'), 'torri', 'spend', 'boxing', ('than', 'teenager', 'free'), ('pressure', 'held'), ('said', 'quarterly'), 'sick', ('meter', 'freestyle', 'semifinals')]\n",
      "\n",
      "[('reuters', 631), ('said', 432), ('tuesday', 413), ('wednesday', 344), ('new', 325), ('after', 295), ('ap', 275), ('athens', 245), ('monday', 221), ('first', 210)]\n"
     ]
    }
   ],
   "source": [
    "vocab, df, ngram_counts = get_vocab(X_tr_raw, ngram_range=(1,3), keep_topN=5000, stop_words=stop_words)\n",
    "print(len(vocab))\n",
    "print()\n",
    "print(list(vocab)[:100])\n",
    "print()\n",
    "print(df.most_common()[:10])"
   ]
  },
  {
   "cell_type": "code",
   "execution_count": 1961,
   "metadata": {
    "ExecuteTime": {
     "end_time": "2020-02-15T14:18:04.706802Z",
     "start_time": "2020-02-15T14:18:04.511061Z"
    }
   },
   "outputs": [],
   "source": [
    "# fill in your code...\n",
    "X_tr_ngram = get_X_ngram(X_tr_raw,vocab,ngram_range=(1,3), token_pattern=r'\\b[A-Za-z][A-Za-z]+\\b',stop_words=stop_words)\n",
    "X_te_ngram = get_X_ngram(X_te_raw,vocab,ngram_range=(1,3), token_pattern=r'\\b[A-Za-z][A-Za-z]+\\b',stop_words=stop_words)\n",
    "X_de_ngram = get_X_ngram(X_de_raw,vocab,ngram_range=(1,3), token_pattern=r'\\b[A-Za-z][A-Za-z]+\\b',stop_words=stop_words)"
   ]
  },
  {
   "cell_type": "code",
   "execution_count": 1962,
   "metadata": {},
   "outputs": [],
   "source": [
    "X_tr_count = vectorise(X_tr_ngram, vocab)\n",
    "X_te_count = vectorise(X_te_ngram, vocab)\n",
    "X_de_count = vectorise(X_de_ngram, vocab)"
   ]
  },
  {
   "cell_type": "code",
   "execution_count": 1963,
   "metadata": {},
   "outputs": [],
   "source": [
    "idfs = get_idf(X_tr_raw,vocab,df)\n",
    "X_tr_tfidf = X_tr_count*idfs\n",
    "X_te_tfidf = X_te_count*idfs\n",
    "X_de_tfidf = X_de_count*idfs"
   ]
  },
  {
   "cell_type": "markdown",
   "metadata": {},
   "source": [
    "Now you need to change `SGD` to support multiclass datasets. First you need to develop a `softmax` function. It takes as input:\n",
    "\n",
    "- `z`: array of real numbers \n",
    "\n",
    "and returns:\n",
    "\n",
    "- `smax`: the softmax of `z`"
   ]
  },
  {
   "cell_type": "code",
   "execution_count": 1964,
   "metadata": {},
   "outputs": [],
   "source": [
    "def softmax(z):\n",
    "    t = np.exp(z)\n",
    "    smax = np.exp(z) / np.sum(t, axis=1).reshape(-1,1)\n",
    "    return smax\n",
    " "
   ]
  },
  {
   "cell_type": "markdown",
   "metadata": {},
   "source": [
    "Then modify `predict_proba` and `predict_class` functions for the multiclass case:"
   ]
  },
  {
   "cell_type": "code",
   "execution_count": 1965,
   "metadata": {
    "ExecuteTime": {
     "end_time": "2020-02-15T14:18:07.445451Z",
     "start_time": "2020-02-15T14:18:07.442851Z"
    }
   },
   "outputs": [],
   "source": [
    "def predict_proba(X, weights):\n",
    "    \n",
    "    # fill in your code...\n",
    "    preds_proba = softmax(np.dot(X,weights.T))\n",
    "    return preds_proba"
   ]
  },
  {
   "cell_type": "code",
   "execution_count": 1966,
   "metadata": {
    "ExecuteTime": {
     "end_time": "2020-02-15T14:18:07.449814Z",
     "start_time": "2020-02-15T14:18:07.447145Z"
    }
   },
   "outputs": [],
   "source": [
    "def predict_class(X, weights):\n",
    "    \n",
    "    # fill in your code...\n",
    "    n = X.shape[0]\n",
    "    preds_class = np.zeros((n,)).astype(int)\n",
    "    preds_proba = predict_proba(X, weights)\n",
    "    for i in range(len(preds_proba)):\n",
    "        # find the correct class\n",
    "        pred_class = np.where(preds_proba[i]==np.max(preds_proba[i]))[0][0] + 1\n",
    "        preds_class[i] = pred_class\n",
    "        \n",
    "    return preds_class"
   ]
  },
  {
   "cell_type": "markdown",
   "metadata": {},
   "source": [
    "Toy example and expected functionality of the functions above:"
   ]
  },
  {
   "cell_type": "code",
   "execution_count": 1967,
   "metadata": {},
   "outputs": [],
   "source": [
    "X = np.array([[0.1,0.2],[0.2,0.1],[0.1,-0.2]])\n",
    "w = np.array([[2,-5],[-5,2]])"
   ]
  },
  {
   "cell_type": "code",
   "execution_count": 1968,
   "metadata": {},
   "outputs": [
    {
     "data": {
      "text/plain": [
       "array([[0.33181223, 0.66818777],\n",
       "       [0.66818777, 0.33181223],\n",
       "       [0.89090318, 0.10909682]])"
      ]
     },
     "execution_count": 1968,
     "metadata": {},
     "output_type": "execute_result"
    }
   ],
   "source": [
    "predict_proba(X, w)"
   ]
  },
  {
   "cell_type": "code",
   "execution_count": 1969,
   "metadata": {
    "ExecuteTime": {
     "end_time": "2020-02-15T14:18:08.714215Z",
     "start_time": "2020-02-15T14:18:08.710098Z"
    }
   },
   "outputs": [
    {
     "data": {
      "text/plain": [
       "array([2, 1, 1])"
      ]
     },
     "execution_count": 1969,
     "metadata": {},
     "output_type": "execute_result"
    }
   ],
   "source": [
    "predict_class(X, w)"
   ]
  },
  {
   "cell_type": "markdown",
   "metadata": {},
   "source": [
    "Now you need to compute the categorical cross entropy loss (extending the binary loss to support multiple classes)."
   ]
  },
  {
   "cell_type": "code",
   "execution_count": 1970,
   "metadata": {},
   "outputs": [],
   "source": [
    "def categorical_loss(X, Y, weights, num_classes=5, alpha=0.00001):\n",
    "    preds_proba = predict_proba(X, weights)\n",
    "    L = np.zeros((num_classes,len(Y)))\n",
    "    for i in range(len(Y)):\n",
    "        index = Y[i] - 1\n",
    "        #compute loss of correct class\n",
    "        L[index][i] = (-Y[i])*np.log(preds_proba[i][index])\n",
    "        #regularisation part \n",
    "        regular = alpha*np.square(np.sum(np.power(weights[index],2)))\n",
    "        L[index][i] = L[index][i] + regular\n",
    "    l = np.mean(L)\n",
    "        \n",
    "    return l\n",
    "    \n",
    "    "
   ]
  },
  {
   "cell_type": "markdown",
   "metadata": {
    "ExecuteTime": {
     "end_time": "2020-02-15T14:08:59.937442Z",
     "start_time": "2020-02-15T14:08:59.932221Z"
    }
   },
   "source": [
    "Finally you need to modify SGD to support the categorical cross entropy loss:"
   ]
  },
  {
   "cell_type": "code",
   "execution_count": 1971,
   "metadata": {
    "ExecuteTime": {
     "end_time": "2020-02-15T14:18:10.176885Z",
     "start_time": "2020-02-15T14:18:10.165021Z"
    }
   },
   "outputs": [],
   "source": [
    "def SGD(X_tr, Y_tr, X_dev=[], Y_dev=[], num_classes=5, lr=0.01, alpha=0.00001, epochs=5, tolerance=0.0001, print_progress=True):\n",
    "    \n",
    "    # fill in your code...\n",
    "    cur_loss_tr = 2.\n",
    "    cur_loss_dev = 2.\n",
    "    training_loss_history = []\n",
    "    validation_loss_history = []\n",
    "    m,n = X_tr.shape\n",
    "    # initialize w with zeros\n",
    "    weights = np.zeros((num_classes,n))\n",
    "    for i in range(epochs):\n",
    "        # randomise order in training Data\n",
    "        permutation = np.random.permutation(m)\n",
    "        shuffled_x = X_tr[permutation,:]\n",
    "        shuffled_y = Y_tr[permutation]\n",
    "        for j in range(len(Y_tr)):\n",
    "            #find correct index\n",
    "            index = shuffled_y[j] - 1\n",
    "            #compute predcition value\n",
    "            pred = predict_proba(shuffled_x[j].reshape(1,-1),weights)\n",
    "            #update weights of correct class\n",
    "            weights[index] = weights[index] - lr*(shuffled_x[j]*(pred[0][index]-1)+2*alpha*weights[index])\n",
    "        pre_loss_tr = cur_loss_tr\n",
    "        pre_loss_dev = cur_loss_dev\n",
    "        cur_loss_tr = categorical_loss(shuffled_x,shuffled_y,weights,num_classes,alpha)\n",
    "        cur_loss_dev = categorical_loss(X_dev,Y_dev,weights,num_classes,alpha)\n",
    "        training_loss_history.append(cur_loss_tr)\n",
    "        validation_loss_history.append(cur_loss_dev)\n",
    "        if print_progress==True:\n",
    "            print(\"Epoch: \",i,\"| Training loss: \",cur_loss_tr,\"| Validation loss: \",cur_loss_dev)\n",
    "        if (pre_loss_dev - cur_loss_dev) < tolerance:\n",
    "            break\n",
    "\n",
    "    return weights, training_loss_history, validation_loss_history\n",
    "\n"
   ]
  },
  {
   "cell_type": "markdown",
   "metadata": {
    "ExecuteTime": {
     "end_time": "2020-02-15T14:10:15.772383Z",
     "start_time": "2020-02-15T14:10:15.767855Z"
    }
   },
   "source": [
    "Now you are ready to train and evaluate you MLR following the same steps as in Task 1 for both Count and tfidf features:"
   ]
  },
  {
   "cell_type": "code",
   "execution_count": 1972,
   "metadata": {},
   "outputs": [
    {
     "name": "stdout",
     "output_type": "stream",
     "text": [
      "Epoch:  0 | Training loss:  0.7154662929931689 | Validation loss:  0.7245454264341528\n",
      "Epoch:  1 | Training loss:  0.7000640189159985 | Validation loss:  0.7171704652129751\n",
      "Epoch:  2 | Training loss:  0.6860314104375709 | Validation loss:  0.7102427173971237\n",
      "Epoch:  3 | Training loss:  0.673161153042827 | Validation loss:  0.703704383326883\n",
      "Epoch:  4 | Training loss:  0.6612669979319432 | Validation loss:  0.6975054887449498\n",
      "Epoch:  5 | Training loss:  0.6502128248971629 | Validation loss:  0.691608504671137\n",
      "Epoch:  6 | Training loss:  0.6398596396871865 | Validation loss:  0.6859690335873189\n",
      "Epoch:  7 | Training loss:  0.6301377824698938 | Validation loss:  0.6805697882290901\n",
      "Epoch:  8 | Training loss:  0.6209535214729662 | Validation loss:  0.6753794702694033\n",
      "Epoch:  9 | Training loss:  0.6122527733751929 | Validation loss:  0.6703808879434647\n",
      "Epoch:  10 | Training loss:  0.6039784813635876 | Validation loss:  0.6655557729039074\n",
      "Epoch:  11 | Training loss:  0.5960959089628614 | Validation loss:  0.6608914785788164\n",
      "Epoch:  12 | Training loss:  0.5885675496948574 | Validation loss:  0.6563760352673605\n",
      "Epoch:  13 | Training loss:  0.5813641487476977 | Validation loss:  0.6519987527954603\n",
      "Epoch:  14 | Training loss:  0.5744573830701827 | Validation loss:  0.6477503995566956\n",
      "Epoch:  15 | Training loss:  0.5678290822308081 | Validation loss:  0.643624723704633\n",
      "Epoch:  16 | Training loss:  0.5614599822066387 | Validation loss:  0.639614987524299\n",
      "Epoch:  17 | Training loss:  0.5553327543038247 | Validation loss:  0.6357151778427089\n",
      "Epoch:  18 | Training loss:  0.5494323990243316 | Validation loss:  0.6319196940640678\n",
      "Epoch:  19 | Training loss:  0.5437470206478049 | Validation loss:  0.6282250136430888\n",
      "Epoch:  20 | Training loss:  0.5382574381950597 | Validation loss:  0.6246225269864959\n",
      "Epoch:  21 | Training loss:  0.5329614172167866 | Validation loss:  0.6211135862732122\n",
      "Epoch:  22 | Training loss:  0.5278419637429437 | Validation loss:  0.6176909049287188\n",
      "Epoch:  23 | Training loss:  0.5228965389544675 | Validation loss:  0.6143547038578274\n",
      "Epoch:  24 | Training loss:  0.5181109573647261 | Validation loss:  0.6110984247806671\n",
      "Epoch:  25 | Training loss:  0.5134776998787274 | Validation loss:  0.6079197397034691\n",
      "Epoch:  26 | Training loss:  0.508993868856459 | Validation loss:  0.6048182059899738\n",
      "Epoch:  27 | Training loss:  0.5046503224312388 | Validation loss:  0.6017902888997582\n",
      "Epoch:  28 | Training loss:  0.5004382211323621 | Validation loss:  0.5988320205979315\n",
      "Epoch:  29 | Training loss:  0.4963547276542038 | Validation loss:  0.5959427662907094\n",
      "Epoch:  30 | Training loss:  0.4923931636791587 | Validation loss:  0.5931202144411349\n",
      "Epoch:  31 | Training loss:  0.4885484525096889 | Validation loss:  0.5903618774427409\n",
      "Epoch:  32 | Training loss:  0.4848160215555879 | Validation loss:  0.5876663645191045\n",
      "Epoch:  33 | Training loss:  0.48119218287102045 | Validation loss:  0.585032757183362\n",
      "Epoch:  34 | Training loss:  0.47767248298306747 | Validation loss:  0.582458646077208\n",
      "Epoch:  35 | Training loss:  0.47425415565236045 | Validation loss:  0.5799435878952672\n",
      "Epoch:  36 | Training loss:  0.47093124752276594 | Validation loss:  0.5774843444149014\n",
      "Epoch:  37 | Training loss:  0.4676998561013921 | Validation loss:  0.5750795289988899\n",
      "Epoch:  38 | Training loss:  0.46455959356675824 | Validation loss:  0.5727297530779902\n",
      "Epoch:  39 | Training loss:  0.46150734994051357 | Validation loss:  0.5704339567130327\n",
      "Epoch:  40 | Training loss:  0.4585381889108778 | Validation loss:  0.5681891738492562\n",
      "Epoch:  41 | Training loss:  0.45565162154324523 | Validation loss:  0.5659963125497824\n",
      "Epoch:  42 | Training loss:  0.4528434328185934 | Validation loss:  0.5638528603037432\n",
      "Epoch:  43 | Training loss:  0.4501117457909412 | Validation loss:  0.5617583682096455\n",
      "Epoch:  44 | Training loss:  0.44745191673542917 | Validation loss:  0.5597100023457503\n",
      "Epoch:  45 | Training loss:  0.4448628628790316 | Validation loss:  0.5577077287506088\n",
      "Epoch:  46 | Training loss:  0.44234500386705644 | Validation loss:  0.555752749435282\n",
      "Epoch:  47 | Training loss:  0.43989526368481946 | Validation loss:  0.5538430441919991\n",
      "Epoch:  48 | Training loss:  0.43750986517542567 | Validation loss:  0.551976567451553\n",
      "Epoch:  49 | Training loss:  0.4351899806381919 | Validation loss:  0.5501547740028865\n",
      "Epoch:  50 | Training loss:  0.4329312337840261 | Validation loss:  0.548374777989108\n",
      "Epoch:  51 | Training loss:  0.43073402847136766 | Validation loss:  0.5466375496891391\n",
      "Epoch:  52 | Training loss:  0.42859347123023606 | Validation loss:  0.5449396987636698\n",
      "Epoch:  53 | Training loss:  0.42651290555607 | Validation loss:  0.5432843041720585\n",
      "Epoch:  54 | Training loss:  0.42448857659387285 | Validation loss:  0.5416689795323466\n",
      "Epoch:  55 | Training loss:  0.4225188394582299 | Validation loss:  0.5400927989612486\n",
      "Epoch:  56 | Training loss:  0.42060239270310656 | Validation loss:  0.53855542010432\n",
      "Epoch:  57 | Training loss:  0.41873756525961364 | Validation loss:  0.537055540229253\n",
      "Epoch:  58 | Training loss:  0.4169255872938257 | Validation loss:  0.5355945966588037\n",
      "Epoch:  59 | Training loss:  0.4151639851787944 | Validation loss:  0.5341709848498538\n",
      "Epoch:  60 | Training loss:  0.4134506362148771 | Validation loss:  0.532783595356858\n",
      "Epoch:  61 | Training loss:  0.4117862154622929 | Validation loss:  0.5314331087325589\n",
      "Epoch:  62 | Training loss:  0.4101691065915576 | Validation loss:  0.5301185300427538\n",
      "Epoch:  63 | Training loss:  0.4085981202977738 | Validation loss:  0.5288391803066764\n",
      "Epoch:  64 | Training loss:  0.4070719038975894 | Validation loss:  0.5275943660664983\n",
      "Epoch:  65 | Training loss:  0.40559178597430207 | Validation loss:  0.5263853466235155\n",
      "Epoch:  66 | Training loss:  0.404155848845459 | Validation loss:  0.525210889108414\n",
      "Epoch:  67 | Training loss:  0.4027617448903528 | Validation loss:  0.5240691835444147\n",
      "Epoch:  68 | Training loss:  0.4014100349486307 | Validation loss:  0.5229610021084522\n",
      "Epoch:  69 | Training loss:  0.40010051410836506 | Validation loss:  0.5218865341476024\n",
      "Epoch:  70 | Training loss:  0.3988321690131842 | Validation loss:  0.5208450410077261\n",
      "Epoch:  71 | Training loss:  0.3976045282106389 | Validation loss:  0.5198363464686405\n",
      "Epoch:  72 | Training loss:  0.3964163940547592 | Validation loss:  0.5188596072011868\n",
      "Epoch:  73 | Training loss:  0.3952670107805208 | Validation loss:  0.5179145508611708\n",
      "Epoch:  74 | Training loss:  0.3941558969221967 | Validation loss:  0.5170007680236043\n",
      "Epoch:  75 | Training loss:  0.39308355490160135 | Validation loss:  0.5161190144832563\n",
      "Epoch:  76 | Training loss:  0.3920481132483873 | Validation loss:  0.5152678736960146\n",
      "Epoch:  77 | Training loss:  0.3910502950107839 | Validation loss:  0.514448129218928\n",
      "Epoch:  78 | Training loss:  0.39008854292299006 | Validation loss:  0.5136585033139611\n",
      "Epoch:  79 | Training loss:  0.38916221373607174 | Validation loss:  0.5128987085813045\n",
      "Epoch:  80 | Training loss:  0.3882723474202656 | Validation loss:  0.5121697481718958\n",
      "Epoch:  81 | Training loss:  0.38741749655774815 | Validation loss:  0.511470522133858\n",
      "Epoch:  82 | Training loss:  0.38659673556379853 | Validation loss:  0.5108002401871892\n",
      "Epoch:  83 | Training loss:  0.3858112089591565 | Validation loss:  0.5101602434498345\n",
      "Epoch:  84 | Training loss:  0.38505931326516224 | Validation loss:  0.5095492939909971\n",
      "Epoch:  85 | Training loss:  0.38434096014089936 | Validation loss:  0.5089671710171573\n",
      "Epoch:  86 | Training loss:  0.38365550419015076 | Validation loss:  0.508413624529714\n",
      "Epoch:  87 | Training loss:  0.3830035274837779 | Validation loss:  0.5078892273632567\n",
      "Epoch:  88 | Training loss:  0.38238373341475607 | Validation loss:  0.5073929407913511\n",
      "Epoch:  89 | Training loss:  0.3817962162237479 | Validation loss:  0.5069250661972449\n",
      "Epoch:  90 | Training loss:  0.38123992868232803 | Validation loss:  0.5064846477312117\n",
      "Epoch:  91 | Training loss:  0.38071561607973725 | Validation loss:  0.5060724779637025\n",
      "Epoch:  92 | Training loss:  0.38022255906222785 | Validation loss:  0.5056880542597534\n",
      "Epoch:  93 | Training loss:  0.3797603562866898 | Validation loss:  0.5053310039003108\n",
      "Epoch:  94 | Training loss:  0.37932939835214396 | Validation loss:  0.5050018931738822\n"
     ]
    },
    {
     "name": "stdout",
     "output_type": "stream",
     "text": [
      "Epoch:  95 | Training loss:  0.3789287353276426 | Validation loss:  0.5046999662093616\n",
      "Epoch:  96 | Training loss:  0.3785591260855154 | Validation loss:  0.5044258589551871\n",
      "Epoch:  97 | Training loss:  0.37821894943716694 | Validation loss:  0.504178276883653\n",
      "Epoch:  98 | Training loss:  0.37790796732416704 | Validation loss:  0.5039570672079764\n",
      "Epoch:  99 | Training loss:  0.37762687442593296 | Validation loss:  0.5037629330356164\n",
      "Epoch:  100 | Training loss:  0.3773750529996957 | Validation loss:  0.5035953426988301\n",
      "Epoch:  101 | Training loss:  0.3771531213188183 | Validation loss:  0.5034550466256815\n",
      "Epoch:  102 | Training loss:  0.37695955748188986 | Validation loss:  0.5033407007298886\n",
      "Epoch:  103 | Training loss:  0.3767951522417175 | Validation loss:  0.5032530275795278\n"
     ]
    }
   ],
   "source": [
    "w_count, loss_tr_count, dev_loss_count = SGD(X_tr_count, Y_tr, \n",
    "                                             X_dev=X_de_count,\n",
    "                                             Y_dev=Y_de, \n",
    "                                             num_classes=3,\n",
    "                                             lr=0.0001,\n",
    "                                             alpha=0.001, \n",
    "                                             epochs=200) "
   ]
  },
  {
   "cell_type": "markdown",
   "metadata": {},
   "source": [
    "Plot training and validation process and explain if your model overfit, underfit or is about right:"
   ]
  },
  {
   "cell_type": "code",
   "execution_count": 1973,
   "metadata": {
    "ExecuteTime": {
     "end_time": "2020-02-15T14:31:09.903453Z",
     "start_time": "2020-02-15T14:31:09.901360Z"
    }
   },
   "outputs": [
    {
     "data": {
      "image/png": "[encoded data removed]",
      "text/plain": [
       "<Figure size 432x288 with 1 Axes>"
      ]
     },
     "metadata": {
      "needs_background": "light"
     },
     "output_type": "display_data"
    }
   ],
   "source": [
    "# fill in your code...\n",
    "epochs = []\n",
    "for i in range(len(loss_tr_count)):\n",
    "    epochs.append(i)\n",
    "plt.plot(epochs, loss_tr_count, label='training loss')\n",
    "plt.plot(epochs, dev_loss_count, label='validation loss')\n",
    "plt.legend()\n",
    "plt.title('Training Monitoring')\n",
    "plt.xlabel('Loss')\n",
    "plt.ylabel('Epochs')\n",
    "plt.show()"
   ]
  },
  {
   "cell_type": "markdown",
   "metadata": {},
   "source": [
    "The model is about right. Because both training loss and validation loss are decling and can be convergence when the training stops."
   ]
  },
  {
   "cell_type": "markdown",
   "metadata": {},
   "source": [
    "Compute accuracy, precision, recall and F1-scores:"
   ]
  },
  {
   "cell_type": "code",
   "execution_count": 1974,
   "metadata": {},
   "outputs": [
    {
     "name": "stdout",
     "output_type": "stream",
     "text": [
      "Accuracy: 0.8277777777777777\n",
      "Precision: 0.8302519609617837\n",
      "Recall: 0.8277777777777778\n",
      "F1-Score: 0.8266459551840306\n"
     ]
    }
   ],
   "source": [
    "preds_te = predict_class(X_te_count, w_count)\n",
    "print('Accuracy:', accuracy_score(Y_te,preds_te))\n",
    "print('Precision:', precision_score(Y_te,preds_te,average='macro'))\n",
    "print('Recall:', recall_score(Y_te,preds_te,average='macro'))\n",
    "print('F1-Score:', f1_score(Y_te,preds_te,average='macro'))"
   ]
  },
  {
   "cell_type": "markdown",
   "metadata": {},
   "source": [
    "Print the top-10 words for each class respectively."
   ]
  },
  {
   "cell_type": "code",
   "execution_count": 1975,
   "metadata": {
    "ExecuteTime": {
     "end_time": "2020-02-15T14:32:26.224693Z",
     "start_time": "2020-02-15T14:32:26.221886Z"
    }
   },
   "outputs": [
    {
     "name": "stdout",
     "output_type": "stream",
     "text": [
      "top-10 words for class 1:\n",
      "said\n",
      "reuters\n",
      "tuesday\n",
      "ap\n",
      "monday\n",
      "after\n",
      "wednesday\n",
      "new\n",
      "president\n",
      "afp\n",
      "\n",
      "\n",
      "top-10 words for class 2:\n",
      "athens\n",
      "ap\n",
      "olympic\n",
      "reuters\n",
      "first\n",
      "tuesday\n",
      "after\n",
      "team\n",
      "two\n",
      "wednesday\n",
      "\n",
      "\n",
      "top-10 words for class 3:\n",
      "reuters\n",
      "said\n",
      "new\n",
      "tuesday\n",
      "company\n",
      "oil\n",
      "wednesday\n",
      "prices\n",
      "inc\n",
      "after\n"
     ]
    }
   ],
   "source": [
    "# fill in your code...\n",
    "list_vocab = list(vocab)\n",
    "w_class_1 = sorted(w_count[0],reverse = True)\n",
    "print(\"top-10 words for class 1:\")\n",
    "for i in range(10):\n",
    "    index = np.where(w_count[0] == w_class_1[i])[0][0]\n",
    "    print(list_vocab[index])\n",
    "print(\"\\n\")\n",
    "w_class_2 = sorted(w_count[1],reverse = True)\n",
    "print(\"top-10 words for class 2:\")\n",
    "for i in range(10):\n",
    "    index = np.where(w_count[1] == w_class_2[i])[0][0]\n",
    "    print(list_vocab[index])\n",
    "print(\"\\n\")\n",
    "w_class_3 = sorted(w_count[2],reverse = True)\n",
    "print(\"top-10 words for class 3:\")\n",
    "for i in range(10):\n",
    "    index = np.where(w_count[2] == w_class_3[i])[0][0]\n",
    "    print(list_vocab[index])"
   ]
  },
  {
   "cell_type": "markdown",
   "metadata": {},
   "source": [
    "### Discuss how did you choose model hyperparameters (e.g. learning rate and regularisation strength)? What is the relation between training epochs and learning rate? How the regularisation strength affects performance?"
   ]
  },
  {
   "cell_type": "markdown",
   "metadata": {
    "ExecuteTime": {
     "end_time": "2020-02-15T14:16:19.856538Z",
     "start_time": "2020-02-15T14:16:19.852547Z"
    }
   },
   "source": [
    "Explain here...\n",
    "\n",
    "I attempt to choose learning rate by multiple 0.1. If the loss is increasing, I will adjust the learning rate by choosing a smaller number. If the loss is gradually decreasing and can be convergence, that would be the best choice for learing rate. This is quite similar as hyperparameter choice in binary classfication. After choosing the learning rate, then according to the validation loss increasing or decreasing the regularistion strength 10 times of 0.1. The optimal hyperparameters would give a high precision and recall rate model. The smaller the learning rate, the more training epochs. The regularisation strength can prevent model overfitting, to make sure the model has both good performance on both training set and test set."
   ]
  },
  {
   "cell_type": "markdown",
   "metadata": {},
   "source": [
    "### Now evaluate BOW-tfidf..."
   ]
  },
  {
   "cell_type": "code",
   "execution_count": 1848,
   "metadata": {},
   "outputs": [
    {
     "name": "stdout",
     "output_type": "stream",
     "text": [
      "Epoch:  0 | Training loss:  0.6931591223099036 | Validation loss:  0.7136912272046976\n",
      "Epoch:  1 | Training loss:  0.6606735990177162 | Validation loss:  0.696990472457131\n",
      "Epoch:  2 | Training loss:  0.6329067269567162 | Validation loss:  0.6818435154216601\n",
      "Epoch:  3 | Training loss:  0.6085114958256774 | Validation loss:  0.6679012552799062\n",
      "Epoch:  4 | Training loss:  0.5866870150652593 | Validation loss:  0.6549525724020693\n",
      "Epoch:  5 | Training loss:  0.5669235689344793 | Validation loss:  0.6428443096078473\n",
      "Epoch:  6 | Training loss:  0.5488897471682153 | Validation loss:  0.6314787767470467\n",
      "Epoch:  7 | Training loss:  0.5323369312443285 | Validation loss:  0.6207695585408777\n",
      "Epoch:  8 | Training loss:  0.5170598118180788 | Validation loss:  0.6106464212945907\n",
      "Epoch:  9 | Training loss:  0.5029127725755828 | Validation loss:  0.6010626146011896\n",
      "Epoch:  10 | Training loss:  0.48977105274379357 | Validation loss:  0.591975432075103\n",
      "Epoch:  11 | Training loss:  0.4775191482121849 | Validation loss:  0.5833380300369468\n",
      "Epoch:  12 | Training loss:  0.4660695317754694 | Validation loss:  0.5751189612609197\n",
      "Epoch:  13 | Training loss:  0.4553408455325511 | Validation loss:  0.5672828694798321\n",
      "Epoch:  14 | Training loss:  0.4452638194633515 | Validation loss:  0.5598031632942863\n",
      "Epoch:  15 | Training loss:  0.43578019454284156 | Validation loss:  0.5526540483242214\n",
      "Epoch:  16 | Training loss:  0.4268388340422906 | Validation loss:  0.5458152688099328\n",
      "Epoch:  17 | Training loss:  0.41839093190787097 | Validation loss:  0.5392635915454445\n",
      "Epoch:  18 | Training loss:  0.410396807922975 | Validation loss:  0.5329826016206989\n",
      "Epoch:  19 | Training loss:  0.40281823268078154 | Validation loss:  0.526954217564874\n",
      "Epoch:  20 | Training loss:  0.3956190019050496 | Validation loss:  0.5211600835231749\n",
      "Epoch:  21 | Training loss:  0.38877792369682224 | Validation loss:  0.5155901883058642\n",
      "Epoch:  22 | Training loss:  0.3822593772863226 | Validation loss:  0.5102278100736356\n",
      "Epoch:  23 | Training loss:  0.3760437656504773 | Validation loss:  0.5050621904487649\n",
      "Epoch:  24 | Training loss:  0.37010606126086953 | Validation loss:  0.5000791585127143\n",
      "Epoch:  25 | Training loss:  0.36442802667607177 | Validation loss:  0.4952705467178687\n",
      "Epoch:  26 | Training loss:  0.3589924711542398 | Validation loss:  0.4906266182851119\n",
      "Epoch:  27 | Training loss:  0.3537853938675508 | Validation loss:  0.4861413621483185\n",
      "Epoch:  28 | Training loss:  0.3487897303924128 | Validation loss:  0.4818027703609131\n",
      "Epoch:  29 | Training loss:  0.34399090126820464 | Validation loss:  0.4776031034270167\n",
      "Epoch:  30 | Training loss:  0.3393807217164435 | Validation loss:  0.4735397867337919\n",
      "Epoch:  31 | Training loss:  0.33494259698532897 | Validation loss:  0.4695999034945045\n",
      "Epoch:  32 | Training loss:  0.3306708892579585 | Validation loss:  0.4657825853763357\n",
      "Epoch:  33 | Training loss:  0.32655323493306915 | Validation loss:  0.46207960355016603\n",
      "Epoch:  34 | Training loss:  0.3225801532749901 | Validation loss:  0.45848483971908205\n",
      "Epoch:  35 | Training loss:  0.31874234081487296 | Validation loss:  0.45499179843370124\n",
      "Epoch:  36 | Training loss:  0.31503757901489804 | Validation loss:  0.451601548267084\n",
      "Epoch:  37 | Training loss:  0.31145365069495634 | Validation loss:  0.4483036101643574\n",
      "Epoch:  38 | Training loss:  0.30798350459342344 | Validation loss:  0.4450938218999411\n",
      "Epoch:  39 | Training loss:  0.3046266612727863 | Validation loss:  0.44197386645615944\n",
      "Epoch:  40 | Training loss:  0.3013719013176531 | Validation loss:  0.43893401950380867\n",
      "Epoch:  41 | Training loss:  0.29821778292984263 | Validation loss:  0.43597492071247856\n",
      "Epoch:  42 | Training loss:  0.29515843016573007 | Validation loss:  0.4330917480355047\n",
      "Epoch:  43 | Training loss:  0.2921906497948561 | Validation loss:  0.43028329370887225\n",
      "Epoch:  44 | Training loss:  0.28930564726729163 | Validation loss:  0.427542164879224\n",
      "Epoch:  45 | Training loss:  0.28650326076649985 | Validation loss:  0.4248695875119241\n",
      "Epoch:  46 | Training loss:  0.28377782161653753 | Validation loss:  0.42226019732186953\n",
      "Epoch:  47 | Training loss:  0.28112739195523784 | Validation loss:  0.41971394758457375\n",
      "Epoch:  48 | Training loss:  0.27854551044897186 | Validation loss:  0.41722462930911214\n",
      "Epoch:  49 | Training loss:  0.2760360208090077 | Validation loss:  0.41479833457272713\n",
      "Epoch:  50 | Training loss:  0.2735884658580383 | Validation loss:  0.4124235112987171\n",
      "Epoch:  51 | Training loss:  0.2712028311370672 | Validation loss:  0.41010113048642466\n",
      "Epoch:  52 | Training loss:  0.2688765727587074 | Validation loss:  0.4078304208490512\n",
      "Epoch:  53 | Training loss:  0.26660782040124625 | Validation loss:  0.40560946228865724\n",
      "Epoch:  54 | Training loss:  0.2643928629796724 | Validation loss:  0.4034349864522952\n",
      "Epoch:  55 | Training loss:  0.2622326783953159 | Validation loss:  0.401309045087897\n",
      "Epoch:  56 | Training loss:  0.2601222084466941 | Validation loss:  0.3992269342345321\n",
      "Epoch:  57 | Training loss:  0.25806161657408566 | Validation loss:  0.39718939871777054\n",
      "Epoch:  58 | Training loss:  0.2560471352162297 | Validation loss:  0.3951923753746151\n",
      "Epoch:  59 | Training loss:  0.2540769724309686 | Validation loss:  0.39323425497464926\n",
      "Epoch:  60 | Training loss:  0.25215020567927704 | Validation loss:  0.3913160183434733\n",
      "Epoch:  61 | Training loss:  0.2502664644911616 | Validation loss:  0.38943607170640504\n",
      "Epoch:  62 | Training loss:  0.24842283066104687 | Validation loss:  0.38759306444985553\n",
      "Epoch:  63 | Training loss:  0.24661730191991912 | Validation loss:  0.3857840658898915\n",
      "Epoch:  64 | Training loss:  0.2448483370552017 | Validation loss:  0.38400848135497995\n",
      "Epoch:  65 | Training loss:  0.24311696404619582 | Validation loss:  0.382268012713818\n",
      "Epoch:  66 | Training loss:  0.24141936775306988 | Validation loss:  0.38055829619903186\n",
      "Epoch:  67 | Training loss:  0.23975525053522925 | Validation loss:  0.37887910107941614\n",
      "Epoch:  68 | Training loss:  0.23812406654350007 | Validation loss:  0.3772305702129952\n",
      "Epoch:  69 | Training loss:  0.23652467369952515 | Validation loss:  0.3756117043845273\n",
      "Epoch:  70 | Training loss:  0.2349569329269498 | Validation loss:  0.37402272977669454\n",
      "Epoch:  71 | Training loss:  0.23341762812186628 | Validation loss:  0.37246038229341594\n",
      "Epoch:  72 | Training loss:  0.2319080117498566 | Validation loss:  0.3709260795736667\n",
      "Epoch:  73 | Training loss:  0.2304264377728021 | Validation loss:  0.36941833963627907\n",
      "Epoch:  74 | Training loss:  0.22897046368957233 | Validation loss:  0.36793415850742184\n",
      "Epoch:  75 | Training loss:  0.2275414724828749 | Validation loss:  0.3664762883827339\n",
      "Epoch:  76 | Training loss:  0.2261368610474703 | Validation loss:  0.3650408333702568\n",
      "Epoch:  77 | Training loss:  0.2247570338856005 | Validation loss:  0.3636295705563022\n",
      "Epoch:  78 | Training loss:  0.22340116952538439 | Validation loss:  0.36224139694807245\n",
      "Epoch:  79 | Training loss:  0.22206881234137996 | Validation loss:  0.36087568295590977\n",
      "Epoch:  80 | Training loss:  0.22075835036751307 | Validation loss:  0.3595312937587639\n",
      "Epoch:  81 | Training loss:  0.21946959954074902 | Validation loss:  0.3582073214522699\n",
      "Epoch:  82 | Training loss:  0.21820330954762118 | Validation loss:  0.3569062577532071\n",
      "Epoch:  83 | Training loss:  0.21695716973720983 | Validation loss:  0.35562406475184055\n",
      "Epoch:  84 | Training loss:  0.21573083853984562 | Validation loss:  0.3543612187057058\n",
      "Epoch:  85 | Training loss:  0.21452496098817922 | Validation loss:  0.35311868711753575\n",
      "Epoch:  86 | Training loss:  0.21333763552278565 | Validation loss:  0.35189441206374467\n",
      "Epoch:  87 | Training loss:  0.21216924563601378 | Validation loss:  0.35068901000127867\n",
      "Epoch:  88 | Training loss:  0.2110179673560825 | Validation loss:  0.3495000024492001\n",
      "Epoch:  89 | Training loss:  0.20988525743091146 | Validation loss:  0.3483296366944608\n",
      "Epoch:  90 | Training loss:  0.208768367975384 | Validation loss:  0.3471743073695379\n",
      "Epoch:  91 | Training loss:  0.20766940751592675 | Validation loss:  0.34603733773577783\n",
      "Epoch:  92 | Training loss:  0.20658562189752022 | Validation loss:  0.344915091917045\n",
      "Epoch:  93 | Training loss:  0.2055191106994472 | Validation loss:  0.34381077257787196\n"
     ]
    },
    {
     "name": "stdout",
     "output_type": "stream",
     "text": [
      "Epoch:  94 | Training loss:  0.20446682392608104 | Validation loss:  0.34271978427916816\n",
      "Epoch:  95 | Training loss:  0.2034311339493938 | Validation loss:  0.3416464516756788\n",
      "Epoch:  96 | Training loss:  0.202409373480102 | Validation loss:  0.34058663709020515\n",
      "Epoch:  97 | Training loss:  0.20140200847697612 | Validation loss:  0.3395414282605117\n",
      "Epoch:  98 | Training loss:  0.20040841196198264 | Validation loss:  0.3385099826537525\n",
      "Epoch:  99 | Training loss:  0.19942873306723982 | Validation loss:  0.3374925825896531\n",
      "Epoch:  100 | Training loss:  0.19846260991223297 | Validation loss:  0.33648885912011534\n",
      "Epoch:  101 | Training loss:  0.1975095254179566 | Validation loss:  0.3354982714465582\n"
     ]
    }
   ],
   "source": [
    "w_tfidf, trl, devl = SGD(X_tr_tfidf, Y_tr, \n",
    "                     X_dev=X_de_tfidf, \n",
    "                     Y_dev=Y_de,\n",
    "                     num_classes=3,\n",
    "                     lr=0.0001, \n",
    "                     alpha=0.001, \n",
    "                     epochs=200)"
   ]
  },
  {
   "cell_type": "code",
   "execution_count": 1845,
   "metadata": {},
   "outputs": [
    {
     "data": {
      "image/png": "[encoded data removed]",
      "text/plain": [
       "<Figure size 432x288 with 1 Axes>"
      ]
     },
     "metadata": {
      "needs_background": "light"
     },
     "output_type": "display_data"
    }
   ],
   "source": [
    "epochs = []\n",
    "for i in range(len(trl)):\n",
    "    epochs.append(i)\n",
    "plt.plot(epochs, trl, label='training loss')\n",
    "plt.plot(epochs, devl, label='validation loss')\n",
    "plt.legend()\n",
    "plt.title('Training Monitoring')\n",
    "plt.xlabel('Loss')\n",
    "plt.ylabel('Epochs')\n",
    "plt.show()"
   ]
  },
  {
   "cell_type": "code",
   "execution_count": 1846,
   "metadata": {
    "ExecuteTime": {
     "end_time": "2020-02-15T14:32:12.606498Z",
     "start_time": "2020-02-15T14:32:12.604164Z"
    }
   },
   "outputs": [
    {
     "name": "stdout",
     "output_type": "stream",
     "text": [
      "Accuracy: 0.8711111111111111\n",
      "Precision: 0.8754389667572947\n",
      "Recall: 0.8711111111111111\n",
      "F1-Score: 0.8709990762440044\n"
     ]
    }
   ],
   "source": [
    "# fill in your code...\n",
    "preds_te = predict_class(X_te_tfidf, w_tfidf)\n",
    "print('Accuracy:', accuracy_score(Y_te,preds_te))\n",
    "print('Precision:', precision_score(Y_te,preds_te,average='macro'))\n",
    "print('Recall:', recall_score(Y_te,preds_te,average='macro'))\n",
    "print('F1-Score:', f1_score(Y_te,preds_te,average='macro'))"
   ]
  },
  {
   "cell_type": "markdown",
   "metadata": {},
   "source": [
    "Print the top-10 words for each class respectively."
   ]
  },
  {
   "cell_type": "code",
   "execution_count": 1847,
   "metadata": {},
   "outputs": [
    {
     "name": "stdout",
     "output_type": "stream",
     "text": [
      "top-10 words for class 1:\n",
      "said\n",
      "tuesday\n",
      "afp\n",
      "greece\n",
      "monday\n",
      "ap\n",
      "('athens', 'greece')\n",
      "oil\n",
      "athens\n",
      "new\n",
      "\n",
      "\n",
      "top-10 words for class 2:\n",
      "athens\n",
      "ap\n",
      "olympic\n",
      "team\n",
      "first\n",
      "greece\n",
      "after\n",
      "olympics\n",
      "quot\n",
      "games\n",
      "\n",
      "\n",
      "top-10 words for class 3:\n",
      "oil\n",
      "company\n",
      "new\n",
      "prices\n",
      "said\n",
      "reuters\n",
      "more\n",
      "after\n",
      "google\n",
      "inc\n"
     ]
    }
   ],
   "source": [
    "# fill in your code...\n",
    "w_class_1 = sorted(w_tfidf[0],reverse = True)\n",
    "print(\"top-10 words for class 1:\")\n",
    "for i in range(10):\n",
    "    index = np.where(w_tfidf[0] == w_class_1[i])[0][0]\n",
    "    print(list_vocab[index])\n",
    "print(\"\\n\")\n",
    "w_class_2 = sorted(w_tfidf[1],reverse = True)\n",
    "print(\"top-10 words for class 2:\")\n",
    "for i in range(10):\n",
    "    index = np.where(w_tfidf[1] == w_class_2[i])[0][0]\n",
    "    print(list_vocab[index])\n",
    "print(\"\\n\")\n",
    "w_class_3 = sorted(w_tfidf[2],reverse = True)\n",
    "print(\"top-10 words for class 3:\")\n",
    "for i in range(10):\n",
    "    index = np.where(w_tfidf[2] == w_class_3[i])[0][0]\n",
    "    print(list_vocab[index])"
   ]
  },
  {
   "cell_type": "markdown",
   "metadata": {
    "ExecuteTime": {
     "end_time": "2020-02-15T14:16:42.567569Z",
     "start_time": "2020-02-15T14:16:42.562560Z"
    }
   },
   "source": [
    "## Full Results\n",
    "\n",
    "Add here your results:\n",
    "\n",
    "| LR | Precision  | Recall  | F1-Score  |\n",
    "|:-:|:-:|:-:|:-:|\n",
    "| BOW-count  | 0.84  | 0.83  | 0.83  |\n",
    "| BOW-tfidf  | 0.88  | 0.87  | 0.87  |\n"
   ]
  }
 ],
 "metadata": {
  "kernelspec": {
   "display_name": "Python 3",
   "language": "python",
   "name": "python3"
  },
  "language_info": {
   "codemirror_mode": {
    "name": "ipython",
    "version": 3
   },
   "file_extension": ".py",
   "mimetype": "text/x-python",
   "name": "python",
   "nbconvert_exporter": "python",
   "pygments_lexer": "ipython3",
   "version": "3.7.3"
  }
 },
 "nbformat": 4,
 "nbformat_minor": 2
}
